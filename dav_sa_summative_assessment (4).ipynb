{
 "cells": [
  {
   "cell_type": "markdown",
   "metadata": {},
   "source": [
    "# Summative Assessment - Data Analytics and Visualization"
   ]
  },
  {
   "cell_type": "markdown",
   "metadata": {},
   "source": [
    "This assessment will cover the following:\n",
    "- Importing the data and dealing with missing values\n",
    "- Exploring the data and producing some simple visualizations\n",
    "- Sampling and comparing samples\n",
    "- Looking for correlation\n",
    "- Using regression to predict power consumption\n",
    "\n",
    "It's split into tasks, each in its own section. Write your code and answers in the spaces provided. Feel free to add cells and import any libraries you'll require."
   ]
  },
  {
   "cell_type": "markdown",
   "metadata": {},
   "source": [
    "## The data"
   ]
  },
  {
   "cell_type": "markdown",
   "metadata": {},
   "source": [
    "The data we'll be using in this assesssment was downloaded from data.world (https://data.world/databeats/household-power-consumption), a subset of a larger dataset available from the UCI Machine Learning Repository (https://archive.ics.uci.edu/ml/datasets/individual+household+electric+power+consumption#).\n",
    "\n",
    "It may look familiar to some of you!\n",
    "\n",
    "Here's the description of the data from the site:\n",
    "\n",
    "<b>Data Set Information</b>\n",
    "\n",
    "This household electricity consumption dataset contains 260,640 measurements gathered between January 2007 and June 2007 (6 months). It is a subset of a larger, original archive that contains 2,075,259 measurements gathered between December 2006 and November 2010 (47 months).\n",
    "\n",
    "<b>Attribute Information</b>\n",
    "\n",
    "date: Date in format dd/mm/yyyy\n",
    "time: time in format hh:mm:ss\n",
    "global_active_power: household global minute-averaged active power (in kilowatt)\n",
    "global_reactive_power: household global minute-averaged reactive power (in kilowatt)\n",
    "voltage: minute-averaged voltage (in volt)\n",
    "global_intensity: household global minute-averaged current intensity (in ampere)\n",
    "sub_metering_1: energy sub-metering No. 1 (in watt-hour of active energy). It corresponds to the kitchen, containing mainly a dishwasher, an oven and a microwave (hot plates are not electric but gas powered).\n",
    "sub_metering_2: energy sub-metering No. 2 (in watt-hour of active energy). It corresponds to the laundry room, containing a washing-machine, a tumble-drier, a refrigerator and a light.\n",
    "sub_metering_3: energy sub-metering No. 3 (in watt-hour of active energy). It corresponds to an electric water-heater and an air-conditioner."
   ]
  },
  {
   "cell_type": "markdown",
   "metadata": {},
   "source": [
    "## Assessment Flow"
   ]
  },
  {
   "cell_type": "markdown",
   "metadata": {},
   "source": [
    "## Task 1 - Getting the data!"
   ]
  },
  {
   "cell_type": "markdown",
   "metadata": {},
   "source": [
    "The data has been downloaded for you"
   ]
  },
  {
   "cell_type": "code",
   "execution_count": 6,
   "metadata": {
    "collapsed": true
   },
   "outputs": [],
   "source": [
    "file_path = 'household_power_consumption-household_power_consumption.csv'"
   ]
  },
  {
   "cell_type": "markdown",
   "metadata": {},
   "source": [
    "It is comma separated, but has a major issue you'll have to deal with before you can begin working with it: missing values are marked with a '?'. You'll need to remove all rows with missing values and make sure the columns are the right type before we move on. This is a classic example of a problem whose solution isn't worth memorizing, so if you're struggling take a look around on stack overflow or elsewhere for others who've solved the same problem!"
   ]
  },
  {
   "cell_type": "code",
   "execution_count": null,
   "metadata": {},
   "outputs": [],
   "source": [
    "# Import the libraries you'll be using and load the data into a pandas dataframe here"
   ]
  },
  {
   "cell_type": "code",
   "execution_count": 71,
   "metadata": {},
   "outputs": [],
   "source": [
    "import numpy as np\n",
    "import pandas as pd\n",
    "import seaborn as sns\n",
    "from datetime import datetime\n",
    "import calendar\n",
    "import random as rnd\n",
    "from matplotlib import pyplot as plt\n",
    "import scipy.stats as stats\n",
    "from scipy import stats\n",
    "from scipy.stats import pearsonr\n",
    "from sklearn import linear_model"
   ]
  },
  {
   "cell_type": "code",
   "execution_count": 2,
   "metadata": {},
   "outputs": [],
   "source": [
    "%matplotlib inline"
   ]
  },
  {
   "cell_type": "code",
   "execution_count": 3,
   "metadata": {},
   "outputs": [
    {
     "data": {
      "text/plain": [
       "(260641, 9)"
      ]
     },
     "execution_count": 3,
     "metadata": {},
     "output_type": "execute_result"
    }
   ],
   "source": [
    "df = pd.read_csv('household_power_consumption-household_power_consumption.csv', sep=',',\n",
    "                names = ['Date','Time','Global_active_power','Global_reactive_power','Voltage','Global_intensity','Sub_metering_1','Sub_metering_2','Sub_metering_3'],\n",
    "                low_memory=False, encoding='iso8859_15')\n",
    "df.shape"
   ]
  },
  {
   "cell_type": "markdown",
   "metadata": {},
   "source": [
    "Now, we can start looking at this data. Assuming you've called your dataframe 'df', run df.head() and df.describe() to see what we're working with. Remember, at this stage you shouldn't have missing data."
   ]
  },
  {
   "cell_type": "code",
   "execution_count": 4,
   "metadata": {},
   "outputs": [],
   "source": [
    "# Look at the data you've loaded"
   ]
  },
  {
   "cell_type": "code",
   "execution_count": 5,
   "metadata": {},
   "outputs": [
    {
     "data": {
      "text/html": [
       "<div>\n",
       "<style scoped>\n",
       "    .dataframe tbody tr th:only-of-type {\n",
       "        vertical-align: middle;\n",
       "    }\n",
       "\n",
       "    .dataframe tbody tr th {\n",
       "        vertical-align: top;\n",
       "    }\n",
       "\n",
       "    .dataframe thead th {\n",
       "        text-align: right;\n",
       "    }\n",
       "</style>\n",
       "<table border=\"1\" class=\"dataframe\">\n",
       "  <thead>\n",
       "    <tr style=\"text-align: right;\">\n",
       "      <th></th>\n",
       "      <th>Date</th>\n",
       "      <th>Time</th>\n",
       "      <th>Global_active_power</th>\n",
       "      <th>Global_reactive_power</th>\n",
       "      <th>Voltage</th>\n",
       "      <th>Global_intensity</th>\n",
       "      <th>Sub_metering_1</th>\n",
       "      <th>Sub_metering_2</th>\n",
       "      <th>Sub_metering_3</th>\n",
       "    </tr>\n",
       "  </thead>\n",
       "  <tbody>\n",
       "    <tr>\n",
       "      <th>0</th>\n",
       "      <td>Date</td>\n",
       "      <td>Time</td>\n",
       "      <td>Global_active_power</td>\n",
       "      <td>Global_reactive_power</td>\n",
       "      <td>Voltage</td>\n",
       "      <td>Global_intensity</td>\n",
       "      <td>Sub_metering_1</td>\n",
       "      <td>Sub_metering_2</td>\n",
       "      <td>Sub_metering_3</td>\n",
       "    </tr>\n",
       "    <tr>\n",
       "      <th>1</th>\n",
       "      <td>1/1/07</td>\n",
       "      <td>0:00:00</td>\n",
       "      <td>2.58</td>\n",
       "      <td>0.136</td>\n",
       "      <td>241.97</td>\n",
       "      <td>10.6</td>\n",
       "      <td>0</td>\n",
       "      <td>0</td>\n",
       "      <td>0</td>\n",
       "    </tr>\n",
       "    <tr>\n",
       "      <th>2</th>\n",
       "      <td>1/1/07</td>\n",
       "      <td>0:01:00</td>\n",
       "      <td>2.552</td>\n",
       "      <td>0.1</td>\n",
       "      <td>241.75</td>\n",
       "      <td>10.4</td>\n",
       "      <td>0</td>\n",
       "      <td>0</td>\n",
       "      <td>0</td>\n",
       "    </tr>\n",
       "    <tr>\n",
       "      <th>3</th>\n",
       "      <td>1/1/07</td>\n",
       "      <td>0:02:00</td>\n",
       "      <td>2.55</td>\n",
       "      <td>0.1</td>\n",
       "      <td>241.64</td>\n",
       "      <td>10.4</td>\n",
       "      <td>0</td>\n",
       "      <td>0</td>\n",
       "      <td>0</td>\n",
       "    </tr>\n",
       "    <tr>\n",
       "      <th>4</th>\n",
       "      <td>1/1/07</td>\n",
       "      <td>0:03:00</td>\n",
       "      <td>2.55</td>\n",
       "      <td>0.1</td>\n",
       "      <td>241.71</td>\n",
       "      <td>10.4</td>\n",
       "      <td>0</td>\n",
       "      <td>0</td>\n",
       "      <td>0</td>\n",
       "    </tr>\n",
       "  </tbody>\n",
       "</table>\n",
       "</div>"
      ],
      "text/plain": [
       "     Date     Time  Global_active_power  Global_reactive_power  Voltage  \\\n",
       "0    Date     Time  Global_active_power  Global_reactive_power  Voltage   \n",
       "1  1/1/07  0:00:00                 2.58                  0.136   241.97   \n",
       "2  1/1/07  0:01:00                2.552                    0.1   241.75   \n",
       "3  1/1/07  0:02:00                 2.55                    0.1   241.64   \n",
       "4  1/1/07  0:03:00                 2.55                    0.1   241.71   \n",
       "\n",
       "   Global_intensity  Sub_metering_1  Sub_metering_2  Sub_metering_3  \n",
       "0  Global_intensity  Sub_metering_1  Sub_metering_2  Sub_metering_3  \n",
       "1              10.6               0               0               0  \n",
       "2              10.4               0               0               0  \n",
       "3              10.4               0               0               0  \n",
       "4              10.4               0               0               0  "
      ]
     },
     "execution_count": 5,
     "metadata": {},
     "output_type": "execute_result"
    }
   ],
   "source": [
    "df.head()"
   ]
  },
  {
   "cell_type": "code",
   "execution_count": 6,
   "metadata": {},
   "outputs": [
    {
     "data": {
      "text/html": [
       "<div>\n",
       "<style scoped>\n",
       "    .dataframe tbody tr th:only-of-type {\n",
       "        vertical-align: middle;\n",
       "    }\n",
       "\n",
       "    .dataframe tbody tr th {\n",
       "        vertical-align: top;\n",
       "    }\n",
       "\n",
       "    .dataframe thead th {\n",
       "        text-align: right;\n",
       "    }\n",
       "</style>\n",
       "<table border=\"1\" class=\"dataframe\">\n",
       "  <thead>\n",
       "    <tr style=\"text-align: right;\">\n",
       "      <th></th>\n",
       "      <th>Date</th>\n",
       "      <th>Time</th>\n",
       "      <th>Global_active_power</th>\n",
       "      <th>Global_reactive_power</th>\n",
       "      <th>Voltage</th>\n",
       "      <th>Global_intensity</th>\n",
       "      <th>Sub_metering_1</th>\n",
       "      <th>Sub_metering_2</th>\n",
       "      <th>Sub_metering_3</th>\n",
       "    </tr>\n",
       "  </thead>\n",
       "  <tbody>\n",
       "    <tr>\n",
       "      <th>2</th>\n",
       "      <td>1/1/07</td>\n",
       "      <td>0:01:00</td>\n",
       "      <td>2.552</td>\n",
       "      <td>0.1</td>\n",
       "      <td>241.75</td>\n",
       "      <td>10.4</td>\n",
       "      <td>0</td>\n",
       "      <td>0</td>\n",
       "      <td>0</td>\n",
       "    </tr>\n",
       "    <tr>\n",
       "      <th>3</th>\n",
       "      <td>1/1/07</td>\n",
       "      <td>0:02:00</td>\n",
       "      <td>2.55</td>\n",
       "      <td>0.1</td>\n",
       "      <td>241.64</td>\n",
       "      <td>10.4</td>\n",
       "      <td>0</td>\n",
       "      <td>0</td>\n",
       "      <td>0</td>\n",
       "    </tr>\n",
       "    <tr>\n",
       "      <th>4</th>\n",
       "      <td>1/1/07</td>\n",
       "      <td>0:03:00</td>\n",
       "      <td>2.55</td>\n",
       "      <td>0.1</td>\n",
       "      <td>241.71</td>\n",
       "      <td>10.4</td>\n",
       "      <td>0</td>\n",
       "      <td>0</td>\n",
       "      <td>0</td>\n",
       "    </tr>\n",
       "    <tr>\n",
       "      <th>5</th>\n",
       "      <td>1/1/07</td>\n",
       "      <td>0:04:00</td>\n",
       "      <td>2.554</td>\n",
       "      <td>0.1</td>\n",
       "      <td>241.98</td>\n",
       "      <td>10.4</td>\n",
       "      <td>0</td>\n",
       "      <td>0</td>\n",
       "      <td>0</td>\n",
       "    </tr>\n",
       "    <tr>\n",
       "      <th>6</th>\n",
       "      <td>1/1/07</td>\n",
       "      <td>0:05:00</td>\n",
       "      <td>2.55</td>\n",
       "      <td>0.1</td>\n",
       "      <td>241.83</td>\n",
       "      <td>10.4</td>\n",
       "      <td>0</td>\n",
       "      <td>0</td>\n",
       "      <td>0</td>\n",
       "    </tr>\n",
       "    <tr>\n",
       "      <th>7</th>\n",
       "      <td>1/1/07</td>\n",
       "      <td>0:06:00</td>\n",
       "      <td>2.534</td>\n",
       "      <td>0.096</td>\n",
       "      <td>241.07</td>\n",
       "      <td>10.4</td>\n",
       "      <td>0</td>\n",
       "      <td>0</td>\n",
       "      <td>0</td>\n",
       "    </tr>\n",
       "    <tr>\n",
       "      <th>8</th>\n",
       "      <td>1/1/07</td>\n",
       "      <td>0:07:00</td>\n",
       "      <td>2.484</td>\n",
       "      <td>0</td>\n",
       "      <td>241.29</td>\n",
       "      <td>10.2</td>\n",
       "      <td>0</td>\n",
       "      <td>0</td>\n",
       "      <td>0</td>\n",
       "    </tr>\n",
       "    <tr>\n",
       "      <th>9</th>\n",
       "      <td>1/1/07</td>\n",
       "      <td>0:08:00</td>\n",
       "      <td>2.468</td>\n",
       "      <td>0</td>\n",
       "      <td>241.23</td>\n",
       "      <td>10.2</td>\n",
       "      <td>0</td>\n",
       "      <td>0</td>\n",
       "      <td>0</td>\n",
       "    </tr>\n",
       "    <tr>\n",
       "      <th>10</th>\n",
       "      <td>1/1/07</td>\n",
       "      <td>0:09:00</td>\n",
       "      <td>2.486</td>\n",
       "      <td>0</td>\n",
       "      <td>242.18</td>\n",
       "      <td>10.2</td>\n",
       "      <td>0</td>\n",
       "      <td>0</td>\n",
       "      <td>0</td>\n",
       "    </tr>\n",
       "    <tr>\n",
       "      <th>11</th>\n",
       "      <td>1/1/07</td>\n",
       "      <td>0:10:00</td>\n",
       "      <td>2.492</td>\n",
       "      <td>0</td>\n",
       "      <td>242.46</td>\n",
       "      <td>10.2</td>\n",
       "      <td>0</td>\n",
       "      <td>0</td>\n",
       "      <td>0</td>\n",
       "    </tr>\n",
       "  </tbody>\n",
       "</table>\n",
       "</div>"
      ],
      "text/plain": [
       "      Date     Time Global_active_power Global_reactive_power Voltage  \\\n",
       "2   1/1/07  0:01:00               2.552                   0.1  241.75   \n",
       "3   1/1/07  0:02:00                2.55                   0.1  241.64   \n",
       "4   1/1/07  0:03:00                2.55                   0.1  241.71   \n",
       "5   1/1/07  0:04:00               2.554                   0.1  241.98   \n",
       "6   1/1/07  0:05:00                2.55                   0.1  241.83   \n",
       "7   1/1/07  0:06:00               2.534                 0.096  241.07   \n",
       "8   1/1/07  0:07:00               2.484                     0  241.29   \n",
       "9   1/1/07  0:08:00               2.468                     0  241.23   \n",
       "10  1/1/07  0:09:00               2.486                     0  242.18   \n",
       "11  1/1/07  0:10:00               2.492                     0  242.46   \n",
       "\n",
       "   Global_intensity Sub_metering_1 Sub_metering_2 Sub_metering_3  \n",
       "2              10.4              0              0              0  \n",
       "3              10.4              0              0              0  \n",
       "4              10.4              0              0              0  \n",
       "5              10.4              0              0              0  \n",
       "6              10.4              0              0              0  \n",
       "7              10.4              0              0              0  \n",
       "8              10.2              0              0              0  \n",
       "9              10.2              0              0              0  \n",
       "10             10.2              0              0              0  \n",
       "11             10.2              0              0              0  "
      ]
     },
     "execution_count": 6,
     "metadata": {},
     "output_type": "execute_result"
    }
   ],
   "source": [
    "df.drop([0,1], axis=0).head(10)"
   ]
  },
  {
   "cell_type": "code",
   "execution_count": 7,
   "metadata": {},
   "outputs": [
    {
     "data": {
      "text/plain": [
       "Date                     object\n",
       "Time                     object\n",
       "Global_active_power      object\n",
       "Global_reactive_power    object\n",
       "Voltage                  object\n",
       "Global_intensity         object\n",
       "Sub_metering_1           object\n",
       "Sub_metering_2           object\n",
       "Sub_metering_3           object\n",
       "dtype: object"
      ]
     },
     "execution_count": 7,
     "metadata": {},
     "output_type": "execute_result"
    }
   ],
   "source": [
    "df.dtypes"
   ]
  },
  {
   "cell_type": "code",
   "execution_count": 8,
   "metadata": {},
   "outputs": [],
   "source": [
    "df['Date'] = pd.to_datetime(df['Date'], infer_datetime_format=True, errors='coerce')\n",
    "df['Time'] = pd.to_datetime(df['Time'], infer_datetime_format=True, errors='coerce')\n",
    "df['Global_active_power'] = pd.to_numeric(df['Global_active_power'], errors='coerce').fillna(0).astype(float)\n",
    "df['Global_reactive_power'] = pd.to_numeric(df['Global_reactive_power'], errors='coerce').fillna(0).astype(float)\n",
    "df['Voltage'] = pd.to_numeric(df['Voltage'], errors='coerce').fillna(0).astype(float)\n",
    "df['Global_intensity'] = pd.to_numeric(df['Global_intensity'], errors='coerce').fillna(0).astype(float)\n",
    "df['Sub_metering_1'] = pd.to_numeric(df['Sub_metering_1'], errors='coerce').fillna(0).astype(float)\n",
    "df['Sub_metering_2'] = pd.to_numeric(df['Sub_metering_2'], errors='coerce').fillna(0).astype(float)\n",
    "df['Sub_metering_3'] = pd.to_numeric(df['Sub_metering_3'], errors='coerce').fillna(0).astype(float)                "
   ]
  },
  {
   "cell_type": "code",
   "execution_count": 9,
   "metadata": {},
   "outputs": [],
   "source": [
    "#df.index = df['Datetime']\n",
    "# It's nice seeing day of the week as a word - so I'll add that as a column\n",
    "#import calendar\n",
    "#df['Day_name'] = [calendar.day_name[x] for x in df.Datetime.dt.dayofweek]"
   ]
  },
  {
   "cell_type": "code",
   "execution_count": 10,
   "metadata": {},
   "outputs": [
    {
     "data": {
      "text/plain": [
       "Date                     datetime64[ns]\n",
       "Time                     datetime64[ns]\n",
       "Global_active_power             float64\n",
       "Global_reactive_power           float64\n",
       "Voltage                         float64\n",
       "Global_intensity                float64\n",
       "Sub_metering_1                  float64\n",
       "Sub_metering_2                  float64\n",
       "Sub_metering_3                  float64\n",
       "dtype: object"
      ]
     },
     "execution_count": 10,
     "metadata": {},
     "output_type": "execute_result"
    }
   ],
   "source": [
    "df.dtypes"
   ]
  },
  {
   "cell_type": "code",
   "execution_count": 11,
   "metadata": {},
   "outputs": [
    {
     "data": {
      "text/html": [
       "<div>\n",
       "<style scoped>\n",
       "    .dataframe tbody tr th:only-of-type {\n",
       "        vertical-align: middle;\n",
       "    }\n",
       "\n",
       "    .dataframe tbody tr th {\n",
       "        vertical-align: top;\n",
       "    }\n",
       "\n",
       "    .dataframe thead th {\n",
       "        text-align: right;\n",
       "    }\n",
       "</style>\n",
       "<table border=\"1\" class=\"dataframe\">\n",
       "  <thead>\n",
       "    <tr style=\"text-align: right;\">\n",
       "      <th></th>\n",
       "      <th>Date</th>\n",
       "      <th>Time</th>\n",
       "      <th>Global_active_power</th>\n",
       "      <th>Global_reactive_power</th>\n",
       "      <th>Voltage</th>\n",
       "      <th>Global_intensity</th>\n",
       "      <th>Sub_metering_1</th>\n",
       "      <th>Sub_metering_2</th>\n",
       "      <th>Sub_metering_3</th>\n",
       "    </tr>\n",
       "  </thead>\n",
       "  <tbody>\n",
       "    <tr>\n",
       "      <th>0</th>\n",
       "      <td>NaT</td>\n",
       "      <td>NaT</td>\n",
       "      <td>0.000</td>\n",
       "      <td>0.000</td>\n",
       "      <td>0.00</td>\n",
       "      <td>0.0</td>\n",
       "      <td>0.0</td>\n",
       "      <td>0.0</td>\n",
       "      <td>0.0</td>\n",
       "    </tr>\n",
       "    <tr>\n",
       "      <th>1</th>\n",
       "      <td>2007-01-01</td>\n",
       "      <td>2018-04-02 00:00:00</td>\n",
       "      <td>2.580</td>\n",
       "      <td>0.136</td>\n",
       "      <td>241.97</td>\n",
       "      <td>10.6</td>\n",
       "      <td>0.0</td>\n",
       "      <td>0.0</td>\n",
       "      <td>0.0</td>\n",
       "    </tr>\n",
       "    <tr>\n",
       "      <th>2</th>\n",
       "      <td>2007-01-01</td>\n",
       "      <td>2018-04-02 00:01:00</td>\n",
       "      <td>2.552</td>\n",
       "      <td>0.100</td>\n",
       "      <td>241.75</td>\n",
       "      <td>10.4</td>\n",
       "      <td>0.0</td>\n",
       "      <td>0.0</td>\n",
       "      <td>0.0</td>\n",
       "    </tr>\n",
       "    <tr>\n",
       "      <th>3</th>\n",
       "      <td>2007-01-01</td>\n",
       "      <td>2018-04-02 00:02:00</td>\n",
       "      <td>2.550</td>\n",
       "      <td>0.100</td>\n",
       "      <td>241.64</td>\n",
       "      <td>10.4</td>\n",
       "      <td>0.0</td>\n",
       "      <td>0.0</td>\n",
       "      <td>0.0</td>\n",
       "    </tr>\n",
       "    <tr>\n",
       "      <th>4</th>\n",
       "      <td>2007-01-01</td>\n",
       "      <td>2018-04-02 00:03:00</td>\n",
       "      <td>2.550</td>\n",
       "      <td>0.100</td>\n",
       "      <td>241.71</td>\n",
       "      <td>10.4</td>\n",
       "      <td>0.0</td>\n",
       "      <td>0.0</td>\n",
       "      <td>0.0</td>\n",
       "    </tr>\n",
       "  </tbody>\n",
       "</table>\n",
       "</div>"
      ],
      "text/plain": [
       "        Date                Time  Global_active_power  Global_reactive_power  \\\n",
       "0        NaT                 NaT                0.000                  0.000   \n",
       "1 2007-01-01 2018-04-02 00:00:00                2.580                  0.136   \n",
       "2 2007-01-01 2018-04-02 00:01:00                2.552                  0.100   \n",
       "3 2007-01-01 2018-04-02 00:02:00                2.550                  0.100   \n",
       "4 2007-01-01 2018-04-02 00:03:00                2.550                  0.100   \n",
       "\n",
       "   Voltage  Global_intensity  Sub_metering_1  Sub_metering_2  Sub_metering_3  \n",
       "0     0.00               0.0             0.0             0.0             0.0  \n",
       "1   241.97              10.6             0.0             0.0             0.0  \n",
       "2   241.75              10.4             0.0             0.0             0.0  \n",
       "3   241.64              10.4             0.0             0.0             0.0  \n",
       "4   241.71              10.4             0.0             0.0             0.0  "
      ]
     },
     "execution_count": 11,
     "metadata": {},
     "output_type": "execute_result"
    }
   ],
   "source": [
    "df.head()"
   ]
  },
  {
   "cell_type": "markdown",
   "metadata": {},
   "source": [
    "Struggled to get the Date column and Time column to merge / join. When I applied the datetime conversion it took the PC local Date. I also tried to convert this but with on luck. So I carried on with the PC's data but luckily the time was still the same."
   ]
  },
  {
   "cell_type": "code",
   "execution_count": 12,
   "metadata": {},
   "outputs": [
    {
     "data": {
      "text/html": [
       "<div>\n",
       "<style scoped>\n",
       "    .dataframe tbody tr th:only-of-type {\n",
       "        vertical-align: middle;\n",
       "    }\n",
       "\n",
       "    .dataframe tbody tr th {\n",
       "        vertical-align: top;\n",
       "    }\n",
       "\n",
       "    .dataframe thead th {\n",
       "        text-align: right;\n",
       "    }\n",
       "</style>\n",
       "<table border=\"1\" class=\"dataframe\">\n",
       "  <thead>\n",
       "    <tr style=\"text-align: right;\">\n",
       "      <th></th>\n",
       "      <th>Global_active_power</th>\n",
       "      <th>Global_reactive_power</th>\n",
       "      <th>Voltage</th>\n",
       "      <th>Global_intensity</th>\n",
       "      <th>Sub_metering_1</th>\n",
       "      <th>Sub_metering_2</th>\n",
       "      <th>Sub_metering_3</th>\n",
       "    </tr>\n",
       "  </thead>\n",
       "  <tbody>\n",
       "    <tr>\n",
       "      <th>count</th>\n",
       "      <td>260641.000000</td>\n",
       "      <td>260641.000000</td>\n",
       "      <td>260641.000000</td>\n",
       "      <td>260641.000000</td>\n",
       "      <td>260641.000000</td>\n",
       "      <td>260641.000000</td>\n",
       "      <td>260641.000000</td>\n",
       "    </tr>\n",
       "    <tr>\n",
       "      <th>mean</th>\n",
       "      <td>1.148078</td>\n",
       "      <td>0.121938</td>\n",
       "      <td>235.747145</td>\n",
       "      <td>4.902761</td>\n",
       "      <td>1.313197</td>\n",
       "      <td>1.646433</td>\n",
       "      <td>5.747427</td>\n",
       "    </tr>\n",
       "    <tr>\n",
       "      <th>std</th>\n",
       "      <td>1.181469</td>\n",
       "      <td>0.112038</td>\n",
       "      <td>28.789622</td>\n",
       "      <td>4.998618</td>\n",
       "      <td>6.658178</td>\n",
       "      <td>6.586224</td>\n",
       "      <td>8.157042</td>\n",
       "    </tr>\n",
       "    <tr>\n",
       "      <th>min</th>\n",
       "      <td>0.000000</td>\n",
       "      <td>0.000000</td>\n",
       "      <td>0.000000</td>\n",
       "      <td>0.000000</td>\n",
       "      <td>0.000000</td>\n",
       "      <td>0.000000</td>\n",
       "      <td>0.000000</td>\n",
       "    </tr>\n",
       "    <tr>\n",
       "      <th>25%</th>\n",
       "      <td>0.292000</td>\n",
       "      <td>0.000000</td>\n",
       "      <td>236.500000</td>\n",
       "      <td>1.200000</td>\n",
       "      <td>0.000000</td>\n",
       "      <td>0.000000</td>\n",
       "      <td>0.000000</td>\n",
       "    </tr>\n",
       "    <tr>\n",
       "      <th>50%</th>\n",
       "      <td>0.534000</td>\n",
       "      <td>0.104000</td>\n",
       "      <td>239.540000</td>\n",
       "      <td>2.400000</td>\n",
       "      <td>0.000000</td>\n",
       "      <td>0.000000</td>\n",
       "      <td>0.000000</td>\n",
       "    </tr>\n",
       "    <tr>\n",
       "      <th>75%</th>\n",
       "      <td>1.590000</td>\n",
       "      <td>0.192000</td>\n",
       "      <td>241.780000</td>\n",
       "      <td>6.800000</td>\n",
       "      <td>0.000000</td>\n",
       "      <td>1.000000</td>\n",
       "      <td>17.000000</td>\n",
       "    </tr>\n",
       "    <tr>\n",
       "      <th>max</th>\n",
       "      <td>10.670000</td>\n",
       "      <td>1.148000</td>\n",
       "      <td>250.890000</td>\n",
       "      <td>46.400000</td>\n",
       "      <td>78.000000</td>\n",
       "      <td>78.000000</td>\n",
       "      <td>20.000000</td>\n",
       "    </tr>\n",
       "  </tbody>\n",
       "</table>\n",
       "</div>"
      ],
      "text/plain": [
       "       Global_active_power  Global_reactive_power        Voltage  \\\n",
       "count        260641.000000          260641.000000  260641.000000   \n",
       "mean              1.148078               0.121938     235.747145   \n",
       "std               1.181469               0.112038      28.789622   \n",
       "min               0.000000               0.000000       0.000000   \n",
       "25%               0.292000               0.000000     236.500000   \n",
       "50%               0.534000               0.104000     239.540000   \n",
       "75%               1.590000               0.192000     241.780000   \n",
       "max              10.670000               1.148000     250.890000   \n",
       "\n",
       "       Global_intensity  Sub_metering_1  Sub_metering_2  Sub_metering_3  \n",
       "count     260641.000000   260641.000000   260641.000000   260641.000000  \n",
       "mean           4.902761        1.313197        1.646433        5.747427  \n",
       "std            4.998618        6.658178        6.586224        8.157042  \n",
       "min            0.000000        0.000000        0.000000        0.000000  \n",
       "25%            1.200000        0.000000        0.000000        0.000000  \n",
       "50%            2.400000        0.000000        0.000000        0.000000  \n",
       "75%            6.800000        0.000000        1.000000       17.000000  \n",
       "max           46.400000       78.000000       78.000000       20.000000  "
      ]
     },
     "execution_count": 12,
     "metadata": {},
     "output_type": "execute_result"
    }
   ],
   "source": [
    "df.describe()"
   ]
  },
  {
   "cell_type": "code",
   "execution_count": 13,
   "metadata": {},
   "outputs": [
    {
     "name": "stdout",
     "output_type": "stream",
     "text": [
      "<class 'pandas.core.frame.DataFrame'>\n",
      "RangeIndex: 260641 entries, 0 to 260640\n",
      "Data columns (total 9 columns):\n",
      "Date                     260640 non-null datetime64[ns]\n",
      "Time                     260640 non-null datetime64[ns]\n",
      "Global_active_power      260641 non-null float64\n",
      "Global_reactive_power    260641 non-null float64\n",
      "Voltage                  260641 non-null float64\n",
      "Global_intensity         260641 non-null float64\n",
      "Sub_metering_1           260641 non-null float64\n",
      "Sub_metering_2           260641 non-null float64\n",
      "Sub_metering_3           260641 non-null float64\n",
      "dtypes: datetime64[ns](2), float64(7)\n",
      "memory usage: 17.9 MB\n"
     ]
    }
   ],
   "source": [
    "df.info()"
   ]
  },
  {
   "cell_type": "code",
   "execution_count": 14,
   "metadata": {},
   "outputs": [
    {
     "name": "stdout",
     "output_type": "stream",
     "text": [
      "<class 'pandas.core.frame.DataFrame'>\n",
      "Int64Index: 260641 entries, 0 to 260640\n",
      "Data columns (total 9 columns):\n",
      "Date                     260640 non-null datetime64[ns]\n",
      "Time                     260640 non-null datetime64[ns]\n",
      "Global_active_power      260641 non-null float64\n",
      "Global_reactive_power    260641 non-null float64\n",
      "Voltage                  260641 non-null float64\n",
      "Global_intensity         260641 non-null float64\n",
      "Sub_metering_1           260641 non-null float64\n",
      "Sub_metering_2           260641 non-null float64\n",
      "Sub_metering_3           260641 non-null float64\n",
      "dtypes: datetime64[ns](2), float64(7)\n",
      "memory usage: 19.9 MB\n"
     ]
    }
   ],
   "source": [
    "sum(df.isnull().values.ravel())\n",
    "df.dropna(how='all').info()"
   ]
  },
  {
   "cell_type": "code",
   "execution_count": 264,
   "metadata": {},
   "outputs": [
    {
     "data": {
      "text/plain": [
       "1"
      ]
     },
     "execution_count": 264,
     "metadata": {},
     "output_type": "execute_result"
    }
   ],
   "source": [
    "sum([True for idx,row in df.iterrows() if any(row.isnull())])"
   ]
  },
  {
   "cell_type": "markdown",
   "metadata": {},
   "source": [
    "Look at the count field - lots of rows! Try running something like df.plot() - it takes a while. Imagine a dataset with 25 million rows. If we're going to be exploring and playing around, we might not want to wait for things to complete. So, sampling! Your next task will be to generate a smaller dataset for data exploration"
   ]
  },
  {
   "cell_type": "markdown",
   "metadata": {},
   "source": [
    "## Task 2: Subsampling"
   ]
  },
  {
   "cell_type": "markdown",
   "metadata": {},
   "source": [
    "Create two new dataframes, one with the first 1000 rows of df and another with 1000 rows starting from 75,000. "
   ]
  },
  {
   "cell_type": "code",
   "execution_count": 266,
   "metadata": {},
   "outputs": [],
   "source": [
    "# Answer here"
   ]
  },
  {
   "cell_type": "code",
   "execution_count": 15,
   "metadata": {},
   "outputs": [
    {
     "data": {
      "text/html": [
       "<div>\n",
       "<style scoped>\n",
       "    .dataframe tbody tr th:only-of-type {\n",
       "        vertical-align: middle;\n",
       "    }\n",
       "\n",
       "    .dataframe tbody tr th {\n",
       "        vertical-align: top;\n",
       "    }\n",
       "\n",
       "    .dataframe thead th {\n",
       "        text-align: right;\n",
       "    }\n",
       "</style>\n",
       "<table border=\"1\" class=\"dataframe\">\n",
       "  <thead>\n",
       "    <tr style=\"text-align: right;\">\n",
       "      <th></th>\n",
       "      <th>Date</th>\n",
       "      <th>Time</th>\n",
       "      <th>Global_active_power</th>\n",
       "      <th>Global_reactive_power</th>\n",
       "      <th>Voltage</th>\n",
       "      <th>Global_intensity</th>\n",
       "      <th>Sub_metering_1</th>\n",
       "      <th>Sub_metering_2</th>\n",
       "      <th>Sub_metering_3</th>\n",
       "    </tr>\n",
       "  </thead>\n",
       "  <tbody>\n",
       "    <tr>\n",
       "      <th>321</th>\n",
       "      <td>2007-01-01</td>\n",
       "      <td>2018-04-02 05:20:00</td>\n",
       "      <td>2.496</td>\n",
       "      <td>0.124</td>\n",
       "      <td>242.81</td>\n",
       "      <td>10.2</td>\n",
       "      <td>0.0</td>\n",
       "      <td>2.0</td>\n",
       "      <td>0.0</td>\n",
       "    </tr>\n",
       "    <tr>\n",
       "      <th>680</th>\n",
       "      <td>2007-01-01</td>\n",
       "      <td>2018-04-02 11:19:00</td>\n",
       "      <td>2.540</td>\n",
       "      <td>0.000</td>\n",
       "      <td>238.43</td>\n",
       "      <td>10.6</td>\n",
       "      <td>0.0</td>\n",
       "      <td>0.0</td>\n",
       "      <td>0.0</td>\n",
       "    </tr>\n",
       "    <tr>\n",
       "      <th>75</th>\n",
       "      <td>2007-01-01</td>\n",
       "      <td>2018-04-02 01:14:00</td>\n",
       "      <td>2.566</td>\n",
       "      <td>0.128</td>\n",
       "      <td>241.49</td>\n",
       "      <td>10.6</td>\n",
       "      <td>0.0</td>\n",
       "      <td>0.0</td>\n",
       "      <td>0.0</td>\n",
       "    </tr>\n",
       "    <tr>\n",
       "      <th>148</th>\n",
       "      <td>2007-01-01</td>\n",
       "      <td>2018-04-02 02:27:00</td>\n",
       "      <td>2.584</td>\n",
       "      <td>0.132</td>\n",
       "      <td>242.45</td>\n",
       "      <td>10.6</td>\n",
       "      <td>0.0</td>\n",
       "      <td>0.0</td>\n",
       "      <td>0.0</td>\n",
       "    </tr>\n",
       "    <tr>\n",
       "      <th>230</th>\n",
       "      <td>2007-01-01</td>\n",
       "      <td>2018-04-02 03:49:00</td>\n",
       "      <td>2.448</td>\n",
       "      <td>0.000</td>\n",
       "      <td>243.18</td>\n",
       "      <td>10.0</td>\n",
       "      <td>0.0</td>\n",
       "      <td>0.0</td>\n",
       "      <td>0.0</td>\n",
       "    </tr>\n",
       "  </tbody>\n",
       "</table>\n",
       "</div>"
      ],
      "text/plain": [
       "          Date                Time  Global_active_power  \\\n",
       "321 2007-01-01 2018-04-02 05:20:00                2.496   \n",
       "680 2007-01-01 2018-04-02 11:19:00                2.540   \n",
       "75  2007-01-01 2018-04-02 01:14:00                2.566   \n",
       "148 2007-01-01 2018-04-02 02:27:00                2.584   \n",
       "230 2007-01-01 2018-04-02 03:49:00                2.448   \n",
       "\n",
       "     Global_reactive_power  Voltage  Global_intensity  Sub_metering_1  \\\n",
       "321                  0.124   242.81              10.2             0.0   \n",
       "680                  0.000   238.43              10.6             0.0   \n",
       "75                   0.128   241.49              10.6             0.0   \n",
       "148                  0.132   242.45              10.6             0.0   \n",
       "230                  0.000   243.18              10.0             0.0   \n",
       "\n",
       "     Sub_metering_2  Sub_metering_3  \n",
       "321             2.0             0.0  \n",
       "680             0.0             0.0  \n",
       "75              0.0             0.0  \n",
       "148             0.0             0.0  \n",
       "230             0.0             0.0  "
      ]
     },
     "execution_count": 15,
     "metadata": {},
     "output_type": "execute_result"
    }
   ],
   "source": [
    "df1 = df.iloc[0:1000].sample(1000)\n",
    "df1.head()  "
   ]
  },
  {
   "cell_type": "code",
   "execution_count": 16,
   "metadata": {},
   "outputs": [
    {
     "data": {
      "text/html": [
       "<div>\n",
       "<style scoped>\n",
       "    .dataframe tbody tr th:only-of-type {\n",
       "        vertical-align: middle;\n",
       "    }\n",
       "\n",
       "    .dataframe tbody tr th {\n",
       "        vertical-align: top;\n",
       "    }\n",
       "\n",
       "    .dataframe thead th {\n",
       "        text-align: right;\n",
       "    }\n",
       "</style>\n",
       "<table border=\"1\" class=\"dataframe\">\n",
       "  <thead>\n",
       "    <tr style=\"text-align: right;\">\n",
       "      <th></th>\n",
       "      <th>Date</th>\n",
       "      <th>Time</th>\n",
       "      <th>Global_active_power</th>\n",
       "      <th>Global_reactive_power</th>\n",
       "      <th>Voltage</th>\n",
       "      <th>Global_intensity</th>\n",
       "      <th>Sub_metering_1</th>\n",
       "      <th>Sub_metering_2</th>\n",
       "      <th>Sub_metering_3</th>\n",
       "    </tr>\n",
       "  </thead>\n",
       "  <tbody>\n",
       "    <tr>\n",
       "      <th>75084</th>\n",
       "      <td>2007-02-22</td>\n",
       "      <td>2018-04-02 03:23:00</td>\n",
       "      <td>2.256</td>\n",
       "      <td>0.052</td>\n",
       "      <td>238.78</td>\n",
       "      <td>9.4</td>\n",
       "      <td>0.0</td>\n",
       "      <td>0.0</td>\n",
       "      <td>0.0</td>\n",
       "    </tr>\n",
       "    <tr>\n",
       "      <th>75988</th>\n",
       "      <td>2007-02-22</td>\n",
       "      <td>2018-04-02 18:27:00</td>\n",
       "      <td>1.386</td>\n",
       "      <td>0.208</td>\n",
       "      <td>237.17</td>\n",
       "      <td>5.8</td>\n",
       "      <td>0.0</td>\n",
       "      <td>0.0</td>\n",
       "      <td>0.0</td>\n",
       "    </tr>\n",
       "    <tr>\n",
       "      <th>75837</th>\n",
       "      <td>2007-02-22</td>\n",
       "      <td>2018-04-02 15:56:00</td>\n",
       "      <td>0.394</td>\n",
       "      <td>0.090</td>\n",
       "      <td>243.31</td>\n",
       "      <td>1.6</td>\n",
       "      <td>0.0</td>\n",
       "      <td>0.0</td>\n",
       "      <td>0.0</td>\n",
       "    </tr>\n",
       "    <tr>\n",
       "      <th>75903</th>\n",
       "      <td>2007-02-22</td>\n",
       "      <td>2018-04-02 17:02:00</td>\n",
       "      <td>0.732</td>\n",
       "      <td>0.116</td>\n",
       "      <td>243.37</td>\n",
       "      <td>3.0</td>\n",
       "      <td>0.0</td>\n",
       "      <td>0.0</td>\n",
       "      <td>0.0</td>\n",
       "    </tr>\n",
       "    <tr>\n",
       "      <th>75096</th>\n",
       "      <td>2007-02-22</td>\n",
       "      <td>2018-04-02 03:35:00</td>\n",
       "      <td>2.442</td>\n",
       "      <td>0.178</td>\n",
       "      <td>240.65</td>\n",
       "      <td>10.0</td>\n",
       "      <td>0.0</td>\n",
       "      <td>2.0</td>\n",
       "      <td>0.0</td>\n",
       "    </tr>\n",
       "  </tbody>\n",
       "</table>\n",
       "</div>"
      ],
      "text/plain": [
       "            Date                Time  Global_active_power  \\\n",
       "75084 2007-02-22 2018-04-02 03:23:00                2.256   \n",
       "75988 2007-02-22 2018-04-02 18:27:00                1.386   \n",
       "75837 2007-02-22 2018-04-02 15:56:00                0.394   \n",
       "75903 2007-02-22 2018-04-02 17:02:00                0.732   \n",
       "75096 2007-02-22 2018-04-02 03:35:00                2.442   \n",
       "\n",
       "       Global_reactive_power  Voltage  Global_intensity  Sub_metering_1  \\\n",
       "75084                  0.052   238.78               9.4             0.0   \n",
       "75988                  0.208   237.17               5.8             0.0   \n",
       "75837                  0.090   243.31               1.6             0.0   \n",
       "75903                  0.116   243.37               3.0             0.0   \n",
       "75096                  0.178   240.65              10.0             0.0   \n",
       "\n",
       "       Sub_metering_2  Sub_metering_3  \n",
       "75084             0.0             0.0  \n",
       "75988             0.0             0.0  \n",
       "75837             0.0             0.0  \n",
       "75903             0.0             0.0  \n",
       "75096             2.0             0.0  "
      ]
     },
     "execution_count": 16,
     "metadata": {},
     "output_type": "execute_result"
    }
   ],
   "source": [
    "df2 = df.iloc[75000:76000].sample(1000)\n",
    "df2.tail()  "
   ]
  },
  {
   "cell_type": "markdown",
   "metadata": {},
   "source": [
    "Do you think the first 1000 rows will give a good picture of the whole dataset? Find the mean and std dev for both of your small datasets. Do they match? Do they reflect the statistics for the dataset as a whole? Write your answers to these questions in a cell below the code you use to create and investigate these new dataframes."
   ]
  },
  {
   "cell_type": "code",
   "execution_count": 17,
   "metadata": {},
   "outputs": [],
   "source": [
    "# Answer here - explain your code and reasoning with extra cells for explanation."
   ]
  },
  {
   "cell_type": "code",
   "execution_count": 18,
   "metadata": {},
   "outputs": [
    {
     "data": {
      "text/html": [
       "<div>\n",
       "<style scoped>\n",
       "    .dataframe tbody tr th:only-of-type {\n",
       "        vertical-align: middle;\n",
       "    }\n",
       "\n",
       "    .dataframe tbody tr th {\n",
       "        vertical-align: top;\n",
       "    }\n",
       "\n",
       "    .dataframe thead th {\n",
       "        text-align: right;\n",
       "    }\n",
       "</style>\n",
       "<table border=\"1\" class=\"dataframe\">\n",
       "  <thead>\n",
       "    <tr style=\"text-align: right;\">\n",
       "      <th></th>\n",
       "      <th>Global_active_power</th>\n",
       "      <th>Global_reactive_power</th>\n",
       "      <th>Voltage</th>\n",
       "      <th>Global_intensity</th>\n",
       "      <th>Sub_metering_1</th>\n",
       "      <th>Sub_metering_2</th>\n",
       "      <th>Sub_metering_3</th>\n",
       "    </tr>\n",
       "  </thead>\n",
       "  <tbody>\n",
       "    <tr>\n",
       "      <th>count</th>\n",
       "      <td>1000.000000</td>\n",
       "      <td>1000.000000</td>\n",
       "      <td>1000.000000</td>\n",
       "      <td>1000.000000</td>\n",
       "      <td>1000.0</td>\n",
       "      <td>1000.000000</td>\n",
       "      <td>1000.000000</td>\n",
       "    </tr>\n",
       "    <tr>\n",
       "      <th>mean</th>\n",
       "      <td>2.383372</td>\n",
       "      <td>0.101682</td>\n",
       "      <td>240.179260</td>\n",
       "      <td>9.869000</td>\n",
       "      <td>0.0</td>\n",
       "      <td>0.246000</td>\n",
       "      <td>3.143000</td>\n",
       "    </tr>\n",
       "    <tr>\n",
       "      <th>std</th>\n",
       "      <td>0.578047</td>\n",
       "      <td>0.091696</td>\n",
       "      <td>7.864252</td>\n",
       "      <td>2.362334</td>\n",
       "      <td>0.0</td>\n",
       "      <td>0.545694</td>\n",
       "      <td>6.722927</td>\n",
       "    </tr>\n",
       "    <tr>\n",
       "      <th>min</th>\n",
       "      <td>0.000000</td>\n",
       "      <td>0.000000</td>\n",
       "      <td>0.000000</td>\n",
       "      <td>0.000000</td>\n",
       "      <td>0.0</td>\n",
       "      <td>0.000000</td>\n",
       "      <td>0.000000</td>\n",
       "    </tr>\n",
       "    <tr>\n",
       "      <th>25%</th>\n",
       "      <td>2.420000</td>\n",
       "      <td>0.000000</td>\n",
       "      <td>238.790000</td>\n",
       "      <td>9.800000</td>\n",
       "      <td>0.0</td>\n",
       "      <td>0.000000</td>\n",
       "      <td>0.000000</td>\n",
       "    </tr>\n",
       "    <tr>\n",
       "      <th>50%</th>\n",
       "      <td>2.512000</td>\n",
       "      <td>0.114000</td>\n",
       "      <td>240.555000</td>\n",
       "      <td>10.400000</td>\n",
       "      <td>0.0</td>\n",
       "      <td>0.000000</td>\n",
       "      <td>0.000000</td>\n",
       "    </tr>\n",
       "    <tr>\n",
       "      <th>75%</th>\n",
       "      <td>2.602000</td>\n",
       "      <td>0.138000</td>\n",
       "      <td>241.902500</td>\n",
       "      <td>10.800000</td>\n",
       "      <td>0.0</td>\n",
       "      <td>0.000000</td>\n",
       "      <td>0.000000</td>\n",
       "    </tr>\n",
       "    <tr>\n",
       "      <th>max</th>\n",
       "      <td>3.558000</td>\n",
       "      <td>0.454000</td>\n",
       "      <td>245.070000</td>\n",
       "      <td>14.600000</td>\n",
       "      <td>0.0</td>\n",
       "      <td>2.000000</td>\n",
       "      <td>19.000000</td>\n",
       "    </tr>\n",
       "  </tbody>\n",
       "</table>\n",
       "</div>"
      ],
      "text/plain": [
       "       Global_active_power  Global_reactive_power      Voltage  \\\n",
       "count          1000.000000            1000.000000  1000.000000   \n",
       "mean              2.383372               0.101682   240.179260   \n",
       "std               0.578047               0.091696     7.864252   \n",
       "min               0.000000               0.000000     0.000000   \n",
       "25%               2.420000               0.000000   238.790000   \n",
       "50%               2.512000               0.114000   240.555000   \n",
       "75%               2.602000               0.138000   241.902500   \n",
       "max               3.558000               0.454000   245.070000   \n",
       "\n",
       "       Global_intensity  Sub_metering_1  Sub_metering_2  Sub_metering_3  \n",
       "count       1000.000000          1000.0     1000.000000     1000.000000  \n",
       "mean           9.869000             0.0        0.246000        3.143000  \n",
       "std            2.362334             0.0        0.545694        6.722927  \n",
       "min            0.000000             0.0        0.000000        0.000000  \n",
       "25%            9.800000             0.0        0.000000        0.000000  \n",
       "50%           10.400000             0.0        0.000000        0.000000  \n",
       "75%           10.800000             0.0        0.000000        0.000000  \n",
       "max           14.600000             0.0        2.000000       19.000000  "
      ]
     },
     "execution_count": 18,
     "metadata": {},
     "output_type": "execute_result"
    }
   ],
   "source": [
    "df1.describe()"
   ]
  },
  {
   "cell_type": "code",
   "execution_count": 19,
   "metadata": {},
   "outputs": [
    {
     "data": {
      "text/html": [
       "<div>\n",
       "<style scoped>\n",
       "    .dataframe tbody tr th:only-of-type {\n",
       "        vertical-align: middle;\n",
       "    }\n",
       "\n",
       "    .dataframe tbody tr th {\n",
       "        vertical-align: top;\n",
       "    }\n",
       "\n",
       "    .dataframe thead th {\n",
       "        text-align: right;\n",
       "    }\n",
       "</style>\n",
       "<table border=\"1\" class=\"dataframe\">\n",
       "  <thead>\n",
       "    <tr style=\"text-align: right;\">\n",
       "      <th></th>\n",
       "      <th>Global_active_power</th>\n",
       "      <th>Global_reactive_power</th>\n",
       "      <th>Voltage</th>\n",
       "      <th>Global_intensity</th>\n",
       "      <th>Sub_metering_1</th>\n",
       "      <th>Sub_metering_2</th>\n",
       "      <th>Sub_metering_3</th>\n",
       "    </tr>\n",
       "  </thead>\n",
       "  <tbody>\n",
       "    <tr>\n",
       "      <th>count</th>\n",
       "      <td>1000.000000</td>\n",
       "      <td>1000.000000</td>\n",
       "      <td>1000.000000</td>\n",
       "      <td>1000.000000</td>\n",
       "      <td>1000.0</td>\n",
       "      <td>1000.000000</td>\n",
       "      <td>1000.000000</td>\n",
       "    </tr>\n",
       "    <tr>\n",
       "      <th>mean</th>\n",
       "      <td>1.817010</td>\n",
       "      <td>0.086088</td>\n",
       "      <td>239.827460</td>\n",
       "      <td>7.572600</td>\n",
       "      <td>0.0</td>\n",
       "      <td>0.249000</td>\n",
       "      <td>6.926000</td>\n",
       "    </tr>\n",
       "    <tr>\n",
       "      <th>std</th>\n",
       "      <td>1.172552</td>\n",
       "      <td>0.074981</td>\n",
       "      <td>2.083603</td>\n",
       "      <td>4.927707</td>\n",
       "      <td>0.0</td>\n",
       "      <td>0.552543</td>\n",
       "      <td>8.534833</td>\n",
       "    </tr>\n",
       "    <tr>\n",
       "      <th>min</th>\n",
       "      <td>0.252000</td>\n",
       "      <td>0.000000</td>\n",
       "      <td>233.840000</td>\n",
       "      <td>1.000000</td>\n",
       "      <td>0.0</td>\n",
       "      <td>0.000000</td>\n",
       "      <td>0.000000</td>\n",
       "    </tr>\n",
       "    <tr>\n",
       "      <th>25%</th>\n",
       "      <td>0.719000</td>\n",
       "      <td>0.046000</td>\n",
       "      <td>238.480000</td>\n",
       "      <td>3.000000</td>\n",
       "      <td>0.0</td>\n",
       "      <td>0.000000</td>\n",
       "      <td>0.000000</td>\n",
       "    </tr>\n",
       "    <tr>\n",
       "      <th>50%</th>\n",
       "      <td>1.560000</td>\n",
       "      <td>0.078000</td>\n",
       "      <td>239.755000</td>\n",
       "      <td>6.400000</td>\n",
       "      <td>0.0</td>\n",
       "      <td>0.000000</td>\n",
       "      <td>0.000000</td>\n",
       "    </tr>\n",
       "    <tr>\n",
       "      <th>75%</th>\n",
       "      <td>2.384000</td>\n",
       "      <td>0.114000</td>\n",
       "      <td>241.402500</td>\n",
       "      <td>9.800000</td>\n",
       "      <td>0.0</td>\n",
       "      <td>0.000000</td>\n",
       "      <td>17.000000</td>\n",
       "    </tr>\n",
       "    <tr>\n",
       "      <th>max</th>\n",
       "      <td>8.244000</td>\n",
       "      <td>0.356000</td>\n",
       "      <td>244.970000</td>\n",
       "      <td>35.000000</td>\n",
       "      <td>0.0</td>\n",
       "      <td>2.000000</td>\n",
       "      <td>18.000000</td>\n",
       "    </tr>\n",
       "  </tbody>\n",
       "</table>\n",
       "</div>"
      ],
      "text/plain": [
       "       Global_active_power  Global_reactive_power      Voltage  \\\n",
       "count          1000.000000            1000.000000  1000.000000   \n",
       "mean              1.817010               0.086088   239.827460   \n",
       "std               1.172552               0.074981     2.083603   \n",
       "min               0.252000               0.000000   233.840000   \n",
       "25%               0.719000               0.046000   238.480000   \n",
       "50%               1.560000               0.078000   239.755000   \n",
       "75%               2.384000               0.114000   241.402500   \n",
       "max               8.244000               0.356000   244.970000   \n",
       "\n",
       "       Global_intensity  Sub_metering_1  Sub_metering_2  Sub_metering_3  \n",
       "count       1000.000000          1000.0     1000.000000     1000.000000  \n",
       "mean           7.572600             0.0        0.249000        6.926000  \n",
       "std            4.927707             0.0        0.552543        8.534833  \n",
       "min            1.000000             0.0        0.000000        0.000000  \n",
       "25%            3.000000             0.0        0.000000        0.000000  \n",
       "50%            6.400000             0.0        0.000000        0.000000  \n",
       "75%            9.800000             0.0        0.000000       17.000000  \n",
       "max           35.000000             0.0        2.000000       18.000000  "
      ]
     },
     "execution_count": 19,
     "metadata": {},
     "output_type": "execute_result"
    }
   ],
   "source": [
    "df2.describe()"
   ]
  },
  {
   "cell_type": "markdown",
   "metadata": {},
   "source": [
    "### Answer to: If df1 = df2 in size\n",
    "\n",
    "No, they don’t match on either the mean nor on the standard deviation. I looked at the dataset and the numerical value's captured be each meter are different (some meters recorded a large value and others nothing) and this would influence the mean and standard deviation totals."
   ]
  },
  {
   "cell_type": "markdown",
   "metadata": {},
   "source": [
    "Create one new dataframewith the first 10,000 rows of data. Use random sampling to create a dataframe with 10,000 rows taken randomly from within the data and name it df_small. Is this a better representation of the dataset as a whole? If so, we can move on. If not, add more data or make other changes you feel are necessary."
   ]
  },
  {
   "cell_type": "code",
   "execution_count": 20,
   "metadata": {},
   "outputs": [],
   "source": [
    "# Answer"
   ]
  },
  {
   "cell_type": "code",
   "execution_count": 21,
   "metadata": {},
   "outputs": [
    {
     "data": {
      "text/html": [
       "<div>\n",
       "<style scoped>\n",
       "    .dataframe tbody tr th:only-of-type {\n",
       "        vertical-align: middle;\n",
       "    }\n",
       "\n",
       "    .dataframe tbody tr th {\n",
       "        vertical-align: top;\n",
       "    }\n",
       "\n",
       "    .dataframe thead th {\n",
       "        text-align: right;\n",
       "    }\n",
       "</style>\n",
       "<table border=\"1\" class=\"dataframe\">\n",
       "  <thead>\n",
       "    <tr style=\"text-align: right;\">\n",
       "      <th></th>\n",
       "      <th>Date</th>\n",
       "      <th>Time</th>\n",
       "      <th>Global_active_power</th>\n",
       "      <th>Global_reactive_power</th>\n",
       "      <th>Voltage</th>\n",
       "      <th>Global_intensity</th>\n",
       "      <th>Sub_metering_1</th>\n",
       "      <th>Sub_metering_2</th>\n",
       "      <th>Sub_metering_3</th>\n",
       "    </tr>\n",
       "  </thead>\n",
       "  <tbody>\n",
       "    <tr>\n",
       "      <th>321</th>\n",
       "      <td>2007-01-01</td>\n",
       "      <td>2018-04-02 05:20:00</td>\n",
       "      <td>2.496</td>\n",
       "      <td>0.124</td>\n",
       "      <td>242.81</td>\n",
       "      <td>10.2</td>\n",
       "      <td>0.0</td>\n",
       "      <td>2.0</td>\n",
       "      <td>0.0</td>\n",
       "    </tr>\n",
       "    <tr>\n",
       "      <th>680</th>\n",
       "      <td>2007-01-01</td>\n",
       "      <td>2018-04-02 11:19:00</td>\n",
       "      <td>2.540</td>\n",
       "      <td>0.000</td>\n",
       "      <td>238.43</td>\n",
       "      <td>10.6</td>\n",
       "      <td>0.0</td>\n",
       "      <td>0.0</td>\n",
       "      <td>0.0</td>\n",
       "    </tr>\n",
       "    <tr>\n",
       "      <th>75</th>\n",
       "      <td>2007-01-01</td>\n",
       "      <td>2018-04-02 01:14:00</td>\n",
       "      <td>2.566</td>\n",
       "      <td>0.128</td>\n",
       "      <td>241.49</td>\n",
       "      <td>10.6</td>\n",
       "      <td>0.0</td>\n",
       "      <td>0.0</td>\n",
       "      <td>0.0</td>\n",
       "    </tr>\n",
       "    <tr>\n",
       "      <th>148</th>\n",
       "      <td>2007-01-01</td>\n",
       "      <td>2018-04-02 02:27:00</td>\n",
       "      <td>2.584</td>\n",
       "      <td>0.132</td>\n",
       "      <td>242.45</td>\n",
       "      <td>10.6</td>\n",
       "      <td>0.0</td>\n",
       "      <td>0.0</td>\n",
       "      <td>0.0</td>\n",
       "    </tr>\n",
       "    <tr>\n",
       "      <th>230</th>\n",
       "      <td>2007-01-01</td>\n",
       "      <td>2018-04-02 03:49:00</td>\n",
       "      <td>2.448</td>\n",
       "      <td>0.000</td>\n",
       "      <td>243.18</td>\n",
       "      <td>10.0</td>\n",
       "      <td>0.0</td>\n",
       "      <td>0.0</td>\n",
       "      <td>0.0</td>\n",
       "    </tr>\n",
       "  </tbody>\n",
       "</table>\n",
       "</div>"
      ],
      "text/plain": [
       "          Date                Time  Global_active_power  \\\n",
       "321 2007-01-01 2018-04-02 05:20:00                2.496   \n",
       "680 2007-01-01 2018-04-02 11:19:00                2.540   \n",
       "75  2007-01-01 2018-04-02 01:14:00                2.566   \n",
       "148 2007-01-01 2018-04-02 02:27:00                2.584   \n",
       "230 2007-01-01 2018-04-02 03:49:00                2.448   \n",
       "\n",
       "     Global_reactive_power  Voltage  Global_intensity  Sub_metering_1  \\\n",
       "321                  0.124   242.81              10.2             0.0   \n",
       "680                  0.000   238.43              10.6             0.0   \n",
       "75                   0.128   241.49              10.6             0.0   \n",
       "148                  0.132   242.45              10.6             0.0   \n",
       "230                  0.000   243.18              10.0             0.0   \n",
       "\n",
       "     Sub_metering_2  Sub_metering_3  \n",
       "321             2.0             0.0  \n",
       "680             0.0             0.0  \n",
       "75              0.0             0.0  \n",
       "148             0.0             0.0  \n",
       "230             0.0             0.0  "
      ]
     },
     "execution_count": 21,
     "metadata": {},
     "output_type": "execute_result"
    }
   ],
   "source": [
    "df3 = df.iloc[0:10000].sample(10000)\n",
    "df1.head() "
   ]
  },
  {
   "cell_type": "code",
   "execution_count": 22,
   "metadata": {},
   "outputs": [
    {
     "data": {
      "text/html": [
       "<div>\n",
       "<style scoped>\n",
       "    .dataframe tbody tr th:only-of-type {\n",
       "        vertical-align: middle;\n",
       "    }\n",
       "\n",
       "    .dataframe tbody tr th {\n",
       "        vertical-align: top;\n",
       "    }\n",
       "\n",
       "    .dataframe thead th {\n",
       "        text-align: right;\n",
       "    }\n",
       "</style>\n",
       "<table border=\"1\" class=\"dataframe\">\n",
       "  <thead>\n",
       "    <tr style=\"text-align: right;\">\n",
       "      <th></th>\n",
       "      <th>Date</th>\n",
       "      <th>Time</th>\n",
       "      <th>Global_active_power</th>\n",
       "      <th>Global_reactive_power</th>\n",
       "      <th>Voltage</th>\n",
       "      <th>Global_intensity</th>\n",
       "      <th>Sub_metering_1</th>\n",
       "      <th>Sub_metering_2</th>\n",
       "      <th>Sub_metering_3</th>\n",
       "    </tr>\n",
       "  </thead>\n",
       "  <tbody>\n",
       "    <tr>\n",
       "      <th>59044</th>\n",
       "      <td>2007-11-02</td>\n",
       "      <td>2018-04-02 00:03:00</td>\n",
       "      <td>2.008</td>\n",
       "      <td>0.108</td>\n",
       "      <td>242.94</td>\n",
       "      <td>9.2</td>\n",
       "      <td>0.0</td>\n",
       "      <td>2.0</td>\n",
       "      <td>0.0</td>\n",
       "    </tr>\n",
       "    <tr>\n",
       "      <th>239579</th>\n",
       "      <td>2007-06-16</td>\n",
       "      <td>2018-04-02 08:58:00</td>\n",
       "      <td>1.276</td>\n",
       "      <td>0.082</td>\n",
       "      <td>238.93</td>\n",
       "      <td>5.2</td>\n",
       "      <td>0.0</td>\n",
       "      <td>0.0</td>\n",
       "      <td>17.0</td>\n",
       "    </tr>\n",
       "    <tr>\n",
       "      <th>183934</th>\n",
       "      <td>2007-08-05</td>\n",
       "      <td>2018-04-02 17:33:00</td>\n",
       "      <td>0.754</td>\n",
       "      <td>0.154</td>\n",
       "      <td>235.85</td>\n",
       "      <td>3.2</td>\n",
       "      <td>0.0</td>\n",
       "      <td>2.0</td>\n",
       "      <td>0.0</td>\n",
       "    </tr>\n",
       "    <tr>\n",
       "      <th>96285</th>\n",
       "      <td>2007-08-03</td>\n",
       "      <td>2018-04-02 20:44:00</td>\n",
       "      <td>4.578</td>\n",
       "      <td>0.080</td>\n",
       "      <td>233.35</td>\n",
       "      <td>19.6</td>\n",
       "      <td>0.0</td>\n",
       "      <td>35.0</td>\n",
       "      <td>17.0</td>\n",
       "    </tr>\n",
       "    <tr>\n",
       "      <th>26541</th>\n",
       "      <td>2007-01-19</td>\n",
       "      <td>2018-04-02 10:20:00</td>\n",
       "      <td>1.396</td>\n",
       "      <td>0.198</td>\n",
       "      <td>235.97</td>\n",
       "      <td>5.8</td>\n",
       "      <td>0.0</td>\n",
       "      <td>0.0</td>\n",
       "      <td>17.0</td>\n",
       "    </tr>\n",
       "  </tbody>\n",
       "</table>\n",
       "</div>"
      ],
      "text/plain": [
       "             Date                Time  Global_active_power  \\\n",
       "59044  2007-11-02 2018-04-02 00:03:00                2.008   \n",
       "239579 2007-06-16 2018-04-02 08:58:00                1.276   \n",
       "183934 2007-08-05 2018-04-02 17:33:00                0.754   \n",
       "96285  2007-08-03 2018-04-02 20:44:00                4.578   \n",
       "26541  2007-01-19 2018-04-02 10:20:00                1.396   \n",
       "\n",
       "        Global_reactive_power  Voltage  Global_intensity  Sub_metering_1  \\\n",
       "59044                   0.108   242.94               9.2             0.0   \n",
       "239579                  0.082   238.93               5.2             0.0   \n",
       "183934                  0.154   235.85               3.2             0.0   \n",
       "96285                   0.080   233.35              19.6             0.0   \n",
       "26541                   0.198   235.97               5.8             0.0   \n",
       "\n",
       "        Sub_metering_2  Sub_metering_3  \n",
       "59044              2.0             0.0  \n",
       "239579             0.0            17.0  \n",
       "183934             2.0             0.0  \n",
       "96285             35.0            17.0  \n",
       "26541              0.0            17.0  "
      ]
     },
     "execution_count": 22,
     "metadata": {},
     "output_type": "execute_result"
    }
   ],
   "source": [
    "n = 10000           #take 10,000 random samples from the overall df\n",
    "df_small = df.take(np.random.permutation(len(df))[:n])\n",
    "df_small.head()"
   ]
  },
  {
   "cell_type": "code",
   "execution_count": 23,
   "metadata": {},
   "outputs": [
    {
     "data": {
      "text/html": [
       "<div>\n",
       "<style scoped>\n",
       "    .dataframe tbody tr th:only-of-type {\n",
       "        vertical-align: middle;\n",
       "    }\n",
       "\n",
       "    .dataframe tbody tr th {\n",
       "        vertical-align: top;\n",
       "    }\n",
       "\n",
       "    .dataframe thead th {\n",
       "        text-align: right;\n",
       "    }\n",
       "</style>\n",
       "<table border=\"1\" class=\"dataframe\">\n",
       "  <thead>\n",
       "    <tr style=\"text-align: right;\">\n",
       "      <th></th>\n",
       "      <th>Global_active_power</th>\n",
       "      <th>Global_reactive_power</th>\n",
       "      <th>Voltage</th>\n",
       "      <th>Global_intensity</th>\n",
       "      <th>Sub_metering_1</th>\n",
       "      <th>Sub_metering_2</th>\n",
       "      <th>Sub_metering_3</th>\n",
       "    </tr>\n",
       "  </thead>\n",
       "  <tbody>\n",
       "    <tr>\n",
       "      <th>count</th>\n",
       "      <td>10000.000000</td>\n",
       "      <td>10000.000000</td>\n",
       "      <td>10000.000000</td>\n",
       "      <td>10000.000000</td>\n",
       "      <td>10000.000000</td>\n",
       "      <td>10000.000000</td>\n",
       "      <td>10000.000000</td>\n",
       "    </tr>\n",
       "    <tr>\n",
       "      <th>mean</th>\n",
       "      <td>1.483504</td>\n",
       "      <td>0.133779</td>\n",
       "      <td>240.882279</td>\n",
       "      <td>6.260500</td>\n",
       "      <td>0.585700</td>\n",
       "      <td>1.752500</td>\n",
       "      <td>5.273100</td>\n",
       "    </tr>\n",
       "    <tr>\n",
       "      <th>std</th>\n",
       "      <td>1.194184</td>\n",
       "      <td>0.112438</td>\n",
       "      <td>4.126551</td>\n",
       "      <td>5.004711</td>\n",
       "      <td>4.424049</td>\n",
       "      <td>7.661091</td>\n",
       "      <td>8.025282</td>\n",
       "    </tr>\n",
       "    <tr>\n",
       "      <th>min</th>\n",
       "      <td>0.000000</td>\n",
       "      <td>0.000000</td>\n",
       "      <td>0.000000</td>\n",
       "      <td>0.000000</td>\n",
       "      <td>0.000000</td>\n",
       "      <td>0.000000</td>\n",
       "      <td>0.000000</td>\n",
       "    </tr>\n",
       "    <tr>\n",
       "      <th>25%</th>\n",
       "      <td>0.394000</td>\n",
       "      <td>0.048000</td>\n",
       "      <td>238.640000</td>\n",
       "      <td>1.800000</td>\n",
       "      <td>0.000000</td>\n",
       "      <td>0.000000</td>\n",
       "      <td>0.000000</td>\n",
       "    </tr>\n",
       "    <tr>\n",
       "      <th>50%</th>\n",
       "      <td>1.371000</td>\n",
       "      <td>0.134000</td>\n",
       "      <td>241.110000</td>\n",
       "      <td>5.800000</td>\n",
       "      <td>0.000000</td>\n",
       "      <td>0.000000</td>\n",
       "      <td>0.000000</td>\n",
       "    </tr>\n",
       "    <tr>\n",
       "      <th>75%</th>\n",
       "      <td>2.378000</td>\n",
       "      <td>0.188000</td>\n",
       "      <td>243.210000</td>\n",
       "      <td>9.800000</td>\n",
       "      <td>0.000000</td>\n",
       "      <td>0.000000</td>\n",
       "      <td>17.000000</td>\n",
       "    </tr>\n",
       "    <tr>\n",
       "      <th>max</th>\n",
       "      <td>8.044000</td>\n",
       "      <td>0.862000</td>\n",
       "      <td>250.020000</td>\n",
       "      <td>35.600000</td>\n",
       "      <td>39.000000</td>\n",
       "      <td>75.000000</td>\n",
       "      <td>19.000000</td>\n",
       "    </tr>\n",
       "  </tbody>\n",
       "</table>\n",
       "</div>"
      ],
      "text/plain": [
       "       Global_active_power  Global_reactive_power       Voltage  \\\n",
       "count         10000.000000           10000.000000  10000.000000   \n",
       "mean              1.483504               0.133779    240.882279   \n",
       "std               1.194184               0.112438      4.126551   \n",
       "min               0.000000               0.000000      0.000000   \n",
       "25%               0.394000               0.048000    238.640000   \n",
       "50%               1.371000               0.134000    241.110000   \n",
       "75%               2.378000               0.188000    243.210000   \n",
       "max               8.044000               0.862000    250.020000   \n",
       "\n",
       "       Global_intensity  Sub_metering_1  Sub_metering_2  Sub_metering_3  \n",
       "count      10000.000000    10000.000000    10000.000000    10000.000000  \n",
       "mean           6.260500        0.585700        1.752500        5.273100  \n",
       "std            5.004711        4.424049        7.661091        8.025282  \n",
       "min            0.000000        0.000000        0.000000        0.000000  \n",
       "25%            1.800000        0.000000        0.000000        0.000000  \n",
       "50%            5.800000        0.000000        0.000000        0.000000  \n",
       "75%            9.800000        0.000000        0.000000       17.000000  \n",
       "max           35.600000       39.000000       75.000000       19.000000  "
      ]
     },
     "execution_count": 23,
     "metadata": {},
     "output_type": "execute_result"
    }
   ],
   "source": [
    "df3.describe()"
   ]
  },
  {
   "cell_type": "code",
   "execution_count": 24,
   "metadata": {},
   "outputs": [
    {
     "data": {
      "text/html": [
       "<div>\n",
       "<style scoped>\n",
       "    .dataframe tbody tr th:only-of-type {\n",
       "        vertical-align: middle;\n",
       "    }\n",
       "\n",
       "    .dataframe tbody tr th {\n",
       "        vertical-align: top;\n",
       "    }\n",
       "\n",
       "    .dataframe thead th {\n",
       "        text-align: right;\n",
       "    }\n",
       "</style>\n",
       "<table border=\"1\" class=\"dataframe\">\n",
       "  <thead>\n",
       "    <tr style=\"text-align: right;\">\n",
       "      <th></th>\n",
       "      <th>Global_active_power</th>\n",
       "      <th>Global_reactive_power</th>\n",
       "      <th>Voltage</th>\n",
       "      <th>Global_intensity</th>\n",
       "      <th>Sub_metering_1</th>\n",
       "      <th>Sub_metering_2</th>\n",
       "      <th>Sub_metering_3</th>\n",
       "    </tr>\n",
       "  </thead>\n",
       "  <tbody>\n",
       "    <tr>\n",
       "      <th>count</th>\n",
       "      <td>10000.000000</td>\n",
       "      <td>10000.000000</td>\n",
       "      <td>10000.000000</td>\n",
       "      <td>10000.000000</td>\n",
       "      <td>10000.000000</td>\n",
       "      <td>10000.000000</td>\n",
       "      <td>10000.000000</td>\n",
       "    </tr>\n",
       "    <tr>\n",
       "      <th>mean</th>\n",
       "      <td>1.167844</td>\n",
       "      <td>0.122818</td>\n",
       "      <td>235.698438</td>\n",
       "      <td>4.989380</td>\n",
       "      <td>1.372900</td>\n",
       "      <td>1.695500</td>\n",
       "      <td>5.758500</td>\n",
       "    </tr>\n",
       "    <tr>\n",
       "      <th>std</th>\n",
       "      <td>1.204588</td>\n",
       "      <td>0.111709</td>\n",
       "      <td>28.813009</td>\n",
       "      <td>5.098699</td>\n",
       "      <td>6.856905</td>\n",
       "      <td>6.664054</td>\n",
       "      <td>8.162429</td>\n",
       "    </tr>\n",
       "    <tr>\n",
       "      <th>min</th>\n",
       "      <td>0.000000</td>\n",
       "      <td>0.000000</td>\n",
       "      <td>0.000000</td>\n",
       "      <td>0.000000</td>\n",
       "      <td>0.000000</td>\n",
       "      <td>0.000000</td>\n",
       "      <td>0.000000</td>\n",
       "    </tr>\n",
       "    <tr>\n",
       "      <th>25%</th>\n",
       "      <td>0.294000</td>\n",
       "      <td>0.000000</td>\n",
       "      <td>236.470000</td>\n",
       "      <td>1.200000</td>\n",
       "      <td>0.000000</td>\n",
       "      <td>0.000000</td>\n",
       "      <td>0.000000</td>\n",
       "    </tr>\n",
       "    <tr>\n",
       "      <th>50%</th>\n",
       "      <td>0.558000</td>\n",
       "      <td>0.104000</td>\n",
       "      <td>239.480000</td>\n",
       "      <td>2.600000</td>\n",
       "      <td>0.000000</td>\n",
       "      <td>0.000000</td>\n",
       "      <td>0.000000</td>\n",
       "    </tr>\n",
       "    <tr>\n",
       "      <th>75%</th>\n",
       "      <td>1.622000</td>\n",
       "      <td>0.196000</td>\n",
       "      <td>241.780000</td>\n",
       "      <td>6.800000</td>\n",
       "      <td>0.000000</td>\n",
       "      <td>1.000000</td>\n",
       "      <td>17.000000</td>\n",
       "    </tr>\n",
       "    <tr>\n",
       "      <th>max</th>\n",
       "      <td>9.254000</td>\n",
       "      <td>0.946000</td>\n",
       "      <td>249.260000</td>\n",
       "      <td>41.200000</td>\n",
       "      <td>75.000000</td>\n",
       "      <td>74.000000</td>\n",
       "      <td>19.000000</td>\n",
       "    </tr>\n",
       "  </tbody>\n",
       "</table>\n",
       "</div>"
      ],
      "text/plain": [
       "       Global_active_power  Global_reactive_power       Voltage  \\\n",
       "count         10000.000000           10000.000000  10000.000000   \n",
       "mean              1.167844               0.122818    235.698438   \n",
       "std               1.204588               0.111709     28.813009   \n",
       "min               0.000000               0.000000      0.000000   \n",
       "25%               0.294000               0.000000    236.470000   \n",
       "50%               0.558000               0.104000    239.480000   \n",
       "75%               1.622000               0.196000    241.780000   \n",
       "max               9.254000               0.946000    249.260000   \n",
       "\n",
       "       Global_intensity  Sub_metering_1  Sub_metering_2  Sub_metering_3  \n",
       "count      10000.000000    10000.000000    10000.000000    10000.000000  \n",
       "mean           4.989380        1.372900        1.695500        5.758500  \n",
       "std            5.098699        6.856905        6.664054        8.162429  \n",
       "min            0.000000        0.000000        0.000000        0.000000  \n",
       "25%            1.200000        0.000000        0.000000        0.000000  \n",
       "50%            2.600000        0.000000        0.000000        0.000000  \n",
       "75%            6.800000        0.000000        1.000000       17.000000  \n",
       "max           41.200000       75.000000       74.000000       19.000000  "
      ]
     },
     "execution_count": 24,
     "metadata": {},
     "output_type": "execute_result"
    }
   ],
   "source": [
    "df_small.describe()"
   ]
  },
  {
   "cell_type": "markdown",
   "metadata": {},
   "source": [
    "### Answer to: If df3 = df_small in size\n",
    "Yes comparing these two pandas the mean and standard deviation look much closer to each other. I used df_small from here on out."
   ]
  },
  {
   "cell_type": "markdown",
   "metadata": {},
   "source": [
    "## Task 3: Correlation and Plotting"
   ]
  },
  {
   "cell_type": "markdown",
   "metadata": {},
   "source": [
    "Explore the correlation of various features in the graph. Plot some scatterplots showing the features with the highest correlation coeficient, and some for those with the lowest correlation coeficient. "
   ]
  },
  {
   "cell_type": "markdown",
   "metadata": {},
   "source": [
    "- Name two pairs of highly correlated variables. \n",
    "- Produce at least three scatter plots."
   ]
  },
  {
   "cell_type": "markdown",
   "metadata": {},
   "source": [
    "### Answer:"
   ]
  },
  {
   "cell_type": "code",
   "execution_count": 25,
   "metadata": {},
   "outputs": [
    {
     "data": {
      "text/plain": [
       "<matplotlib.axes._subplots.AxesSubplot at 0xcc04748>"
      ]
     },
     "execution_count": 25,
     "metadata": {},
     "output_type": "execute_result"
    },
    {
     "data": {
      "image/png": "[encoded data removed]",
      "text/plain": [
       "<matplotlib.figure.Figure at 0xcbfde10>"
      ]
     },
     "metadata": {},
     "output_type": "display_data"
    }
   ],
   "source": [
    "corr = df_small.corr()\n",
    "plt.figure(figsize=(16, 10))\n",
    "sns.heatmap(corr, xticklabels=corr.columns.values, \n",
    "            yticklabels=corr.columns.values, linewidths=.08,                   \n",
    "            cbar_kws={\"shrink\": .7})  "
   ]
  },
  {
   "cell_type": "markdown",
   "metadata": {},
   "source": [
    "### First Correlation - Global active power vs. Sub metering 2 - High Correlation 1"
   ]
  },
  {
   "cell_type": "code",
   "execution_count": 57,
   "metadata": {},
   "outputs": [
    {
     "data": {
      "image/png": "[encoded data removed]",
      "text/plain": [
       "<matplotlib.figure.Figure at 0x100b6940>"
      ]
     },
     "metadata": {},
     "output_type": "display_data"
    }
   ],
   "source": [
    "fig = sns.regplot(df_small['Global_active_power'], df_small['Sub_metering_2'])\n",
    "fig.figure.suptitle(\"High Correlation scatter plot 1\", fontsize = 18)\n",
    "plt.xlabel('Global_active_power', fontsize=10)\n",
    "plt.ylabel('Sub_metering_2', fontsize=10)\n",
    "plt.show(fig)"
   ]
  },
  {
   "cell_type": "code",
   "execution_count": 55,
   "metadata": {},
   "outputs": [
    {
     "data": {
      "image/png": "[encoded data removed]",
      "text/plain": [
       "<matplotlib.figure.Figure at 0xfdc3a20>"
      ]
     },
     "metadata": {},
     "output_type": "display_data"
    }
   ],
   "source": [
    "fig = sns.distplot(df_small['Global_active_power'], label=\"Global active power\")\n",
    "fig = sns.distplot(df_small['Sub_metering_2'], label=\"Sub meter 2\")\n",
    "fig.figure.suptitle(\"High Correlation plot 1\", fontsize = 18)\n",
    "plt.xlabel('Global_active_power', fontsize=10)\n",
    "plt.ylabel('Sub_metering_2', fontsize=10)\n",
    "plt.legend()\n",
    "plt.show(fig)"
   ]
  },
  {
   "cell_type": "code",
   "execution_count": 28,
   "metadata": {},
   "outputs": [
    {
     "name": "stdout",
     "output_type": "stream",
     "text": [
      "r 0.4766806930110053\n",
      "p 0.0\n"
     ]
    }
   ],
   "source": [
    "r,p = stats.pearsonr(df_small['Global_active_power'], df_small['Sub_metering_2'])\n",
    "print('r', r)\n",
    "print('p', p)"
   ]
  },
  {
   "cell_type": "markdown",
   "metadata": {},
   "source": [
    "#### Insight into Correlation - High 1\n",
    "Looking at the two graphs I can see a nice overlap and spread of the two data values. Looking at the high r-value (0.482) indicates that 'Sub meter 2' does add to the overall energy draw on 'Global active power' meter / house. It could be that the large home appliance’s are connected to this sub meter."
   ]
  },
  {
   "cell_type": "markdown",
   "metadata": {},
   "source": [
    "### Second Correlation - Global active power vs. Sub metering 3 - High Correlation 2"
   ]
  },
  {
   "cell_type": "code",
   "execution_count": 29,
   "metadata": {},
   "outputs": [
    {
     "data": {
      "image/png": "[encoded data removed]",
      "text/plain": [
       "<matplotlib.figure.Figure at 0xeed45c0>"
      ]
     },
     "metadata": {},
     "output_type": "display_data"
    }
   ],
   "source": [
    "fig = sns.regplot(df_small['Global_active_power'], df_small['Sub_metering_3'])\n",
    "fig.figure.suptitle(\"High Correlation scatter plot 2\", fontsize = 18)\n",
    "plt.xlabel('Global_active_power', fontsize=10)\n",
    "plt.ylabel('Sub_metering_3', fontsize=10)\n",
    "plt.show(fig)"
   ]
  },
  {
   "cell_type": "code",
   "execution_count": 52,
   "metadata": {},
   "outputs": [
    {
     "data": {
      "image/png": "[encoded data removed]",
      "text/plain": [
       "<matplotlib.figure.Figure at 0xfd918d0>"
      ]
     },
     "metadata": {},
     "output_type": "display_data"
    }
   ],
   "source": [
    "fig = sns.distplot(df_small['Global_active_power'], label=\"Global active power\")\n",
    "fig = sns.distplot(df_small['Sub_metering_3'], label=\"Sub meter 3\")\n",
    "fig.figure.suptitle(\"High Correlation plot 2\", fontsize = 18)\n",
    "plt.xlabel('Global_active_power', fontsize=10)\n",
    "plt.ylabel('Sub_metering_3', fontsize=10)\n",
    "plt.legend()\n",
    "plt.show(fig)"
   ]
  },
  {
   "cell_type": "code",
   "execution_count": 31,
   "metadata": {},
   "outputs": [
    {
     "name": "stdout",
     "output_type": "stream",
     "text": [
      "r 0.6072856109122382\n",
      "p 0.0\n"
     ]
    }
   ],
   "source": [
    "r,p = stats.pearsonr(df_small['Global_active_power'], df_small['Sub_metering_3'])\n",
    "print('r', r)\n",
    "print('p', p)"
   ]
  },
  {
   "cell_type": "markdown",
   "metadata": {},
   "source": [
    "#### Insight into Correlation - High 2\n",
    "Looking at the two graphs I can see a higher overlap and spread of the two data values compared to 'High Correlation 1'. Looking at the high r-value (0.611) indicates that 'Sub meter 3' draws more energy compared to submeter 2 which adds to the overall energy draw on 'Global active power' meter / house. It could be that the large/more home appliance’s are connected to this sub meter. Or this could be that this circuit gets used more or longer."
   ]
  },
  {
   "cell_type": "markdown",
   "metadata": {},
   "source": [
    "### Third Correlation - Voltage vs. Sub metering 2 - Low Correlation"
   ]
  },
  {
   "cell_type": "code",
   "execution_count": 32,
   "metadata": {},
   "outputs": [
    {
     "data": {
      "image/png": "[encoded data removed]",
      "text/plain": [
       "<matplotlib.figure.Figure at 0xf3a99e8>"
      ]
     },
     "metadata": {},
     "output_type": "display_data"
    }
   ],
   "source": [
    "fig = sns.regplot(df_small['Voltage'], df_small['Sub_metering_2'])\n",
    "fig.figure.suptitle(\"Low Correlation scatter plot 3\", fontsize = 18)\n",
    "plt.xlabel('Voltage', fontsize=10)\n",
    "plt.ylabel('Sub_metering_2', fontsize=10)\n",
    "plt.show(fig)"
   ]
  },
  {
   "cell_type": "code",
   "execution_count": 54,
   "metadata": {},
   "outputs": [
    {
     "data": {
      "image/png": "[encoded data removed]",
      "text/plain": [
       "<matplotlib.figure.Figure at 0x10141780>"
      ]
     },
     "metadata": {},
     "output_type": "display_data"
    }
   ],
   "source": [
    "fig = sns.distplot(df_small['Voltage'], label=\"Voltage\")\n",
    "fig = sns.distplot(df_small['Sub_metering_2'], label=\"Sub meter 2\")\n",
    "fig.figure.suptitle(\" Low Correlation plot 3\", fontsize = 18)\n",
    "plt.xlabel('Voltage', fontsize=10)\n",
    "plt.ylabel('Sub_metering_2', fontsize=10)\n",
    "plt.legend()\n",
    "plt.show(fig)"
   ]
  },
  {
   "cell_type": "code",
   "execution_count": 34,
   "metadata": {},
   "outputs": [
    {
     "name": "stdout",
     "output_type": "stream",
     "text": [
      "r 0.008618057771686682\n",
      "p 0.38884489441024106\n"
     ]
    }
   ],
   "source": [
    "r,p = stats.pearsonr(df_small['Voltage'], df_small['Sub_metering_2'])\n",
    "print('r', r)\n",
    "print('p', p)"
   ]
  },
  {
   "cell_type": "markdown",
   "metadata": {},
   "source": [
    "#### Insight into Correlation - Low\n",
    "Looking at the two graphs I can see a little overlap and spread of the two data values. Looking at the high r-value (0.008) indicates that 'Sub meter 2' does not add to the overall voltage draw on 'Voltage' meter. This could indicate that the home appliance’s are well balanced and do not cause a shift in phase's."
   ]
  },
  {
   "cell_type": "markdown",
   "metadata": {},
   "source": [
    "## Task 4: Simple Linear Regression"
   ]
  },
  {
   "cell_type": "markdown",
   "metadata": {},
   "source": [
    "Find the parameters of a simple linear model with Global_intensity as the explanatory variable and Global_active_power as the dependent variable\n",
    "\n",
    "- Print out the model parameters and score"
   ]
  },
  {
   "cell_type": "markdown",
   "metadata": {},
   "source": [
    "### Answer:"
   ]
  },
  {
   "cell_type": "code",
   "execution_count": null,
   "metadata": {},
   "outputs": [],
   "source": [
    "# Build a simple model and find parameters, as well as the R-Squared Value"
   ]
  },
  {
   "cell_type": "code",
   "execution_count": 60,
   "metadata": {},
   "outputs": [
    {
     "name": "stdout",
     "output_type": "stream",
     "text": [
      "Intercept:    -0.009716440796653458\n",
      "Coefficient:  [0.23601342]\n"
     ]
    },
    {
     "data": {
      "text/plain": [
       "<matplotlib.legend.Legend at 0x1045e898>"
      ]
     },
     "execution_count": 60,
     "metadata": {},
     "output_type": "execute_result"
    },
    {
     "data": {
      "image/png": "[encoded data removed]",
      "text/plain": [
       "<matplotlib.figure.Figure at 0xf45b6d8>"
      ]
     },
     "metadata": {},
     "output_type": "display_data"
    }
   ],
   "source": [
    "# Initialize the model, and name it lr1\n",
    "lr1 = linear_model.LinearRegression()\n",
    "\n",
    "#input data is in the right format for the explanatory variable\n",
    "INPUT = np.array(df_small['Global_intensity']).reshape(-1, 1)\n",
    "\n",
    "# Fit the data\n",
    "lr1.fit(X = INPUT,y = df_small['Global_active_power'])\n",
    "\n",
    "# Print intercept and coefficient\n",
    "print(\"Intercept:   \",lr1.intercept_)\n",
    "print(\"Coefficient: \",lr1.coef_)\n",
    "\n",
    "# Plot the data and the prediction\n",
    "plt.scatter(df_small['Global_intensity'], df_small['Global_active_power'],  c=\"r\", alpha=0.5, label=\"Global active power\")\n",
    "# Line of best fit. NB, doing this manually based on the parameters\n",
    "plt.plot(df_small['Global_intensity'], [lr1.coef_*x +lr1.intercept_ for x in df_small['Global_active_power']], label=\"Global intensity\") # We could also use lr1.predict(x), as in next example\n",
    "plt.suptitle(\"Simple Linear Regression\", fontsize = 18)\n",
    "plt.xlabel(\"Global_intensity\", fontsize=10)\n",
    "plt.ylabel(\"Global_active_power\", fontsize=10)\n",
    "plt.legend()"
   ]
  },
  {
   "cell_type": "code",
   "execution_count": 64,
   "metadata": {},
   "outputs": [
    {
     "name": "stdout",
     "output_type": "stream",
     "text": [
      "Score with simple linear model:  0.9979642541769457\n",
      "Score with second input:         0.9979642541769457\n"
     ]
    }
   ],
   "source": [
    "# First, a simple linear regression model (one input var)\n",
    "INPUT = np.array(df_small['Global_intensity']).reshape(-1, 1)\n",
    "slr = linear_model.LinearRegression()\n",
    "slr.fit(X = INPUT,y = df_small['Global_active_power'])\n",
    "print(\"Score with simple linear model: \", slr.score(INPUT, df_small['Global_active_power']))\n",
    "\n",
    "# Now the multiple regression model we developed above - two input vars\n",
    "INPUT = np.array(df_small['Global_intensity']).reshape(-1, 1)\n",
    "mlr = linear_model.LinearRegression()\n",
    "mlr.fit(X = INPUT,y = df_small['Global_active_power'])\n",
    "print(\"Score with second input:        \",mlr.score(INPUT, df_small['Global_active_power']))"
   ]
  },
  {
   "cell_type": "code",
   "execution_count": 74,
   "metadata": {},
   "outputs": [
    {
     "name": "stdout",
     "output_type": "stream",
     "text": [
      "r-squared: 0.9979642541769445\n"
     ]
    }
   ],
   "source": [
    "slope, intercept, r_value, p_value, std_err = stats.linregress(df_small['Global_intensity'], df_small['Global_active_power'])\n",
    "print(\"r-squared:\", r_value**2)"
   ]
  },
  {
   "cell_type": "markdown",
   "metadata": {},
   "source": [
    "#### Answer\n",
    "From the two Linear regression models we get:\n",
    "- Model Parameters :\n",
    "Intercept:   -0.0097\n",
    "; Coefficient: 0.2360\n",
    "- Score of : 0.99796\n",
    "- r-squared:  0.99796\n",
    "\n",
    "As we can see that the two do not follow the same path and deviate indicating that we are introducing harmonics to the power grid."
   ]
  },
  {
   "cell_type": "markdown",
   "metadata": {},
   "source": [
    "## Task 5: Regression, but harder this time"
   ]
  },
  {
   "cell_type": "markdown",
   "metadata": {},
   "source": [
    "You didn't think it was going to be that easy? Intensity and power are different measures of essentially the same thing. We want to predict power from the other readings - a much harder task.\n",
    "\n",
    "Tasks: \n",
    "- Predict the power based on as many of the other factors as you think necessary. As before, print out model parameters and the score, both when using the model on your sample and when running it (i.e. score()) over the whole dataset."
   ]
  },
  {
   "cell_type": "markdown",
   "metadata": {},
   "source": [
    "### Answer:"
   ]
  },
  {
   "cell_type": "code",
   "execution_count": 79,
   "metadata": {},
   "outputs": [
    {
     "name": "stderr",
     "output_type": "stream",
     "text": [
      "C:\\Users\\113011371\\AppData\\Local\\Continuum\\anaconda3\\lib\\site-packages\\ipykernel_launcher.py:1: SettingWithCopyWarning: \n",
      "A value is trying to be set on a copy of a slice from a DataFrame.\n",
      "Try using .loc[row_indexer,col_indexer] = value instead\n",
      "\n",
      "See the caveats in the documentation: http://pandas.pydata.org/pandas-docs/stable/indexing.html#indexing-view-versus-copy\n",
      "  \"\"\"Entry point for launching an IPython kernel.\n"
     ]
    },
    {
     "data": {
      "text/html": [
       "<div>\n",
       "<style scoped>\n",
       "    .dataframe tbody tr th:only-of-type {\n",
       "        vertical-align: middle;\n",
       "    }\n",
       "\n",
       "    .dataframe tbody tr th {\n",
       "        vertical-align: top;\n",
       "    }\n",
       "\n",
       "    .dataframe thead th {\n",
       "        text-align: right;\n",
       "    }\n",
       "</style>\n",
       "<table border=\"1\" class=\"dataframe\">\n",
       "  <thead>\n",
       "    <tr style=\"text-align: right;\">\n",
       "      <th></th>\n",
       "      <th>Date</th>\n",
       "      <th>Time</th>\n",
       "      <th>Global_active_power</th>\n",
       "      <th>Global_reactive_power</th>\n",
       "      <th>Voltage</th>\n",
       "      <th>Global_intensity</th>\n",
       "      <th>Sub_metering_1</th>\n",
       "      <th>Sub_metering_2</th>\n",
       "      <th>Sub_metering_3</th>\n",
       "      <th>Sub_Sum</th>\n",
       "    </tr>\n",
       "  </thead>\n",
       "  <tbody>\n",
       "    <tr>\n",
       "      <th>59044</th>\n",
       "      <td>2007-11-02</td>\n",
       "      <td>2018-04-02 00:03:00</td>\n",
       "      <td>2.008</td>\n",
       "      <td>0.108</td>\n",
       "      <td>242.94</td>\n",
       "      <td>9.2</td>\n",
       "      <td>0.0</td>\n",
       "      <td>2.0</td>\n",
       "      <td>0.0</td>\n",
       "      <td>2.0</td>\n",
       "    </tr>\n",
       "    <tr>\n",
       "      <th>239579</th>\n",
       "      <td>2007-06-16</td>\n",
       "      <td>2018-04-02 08:58:00</td>\n",
       "      <td>1.276</td>\n",
       "      <td>0.082</td>\n",
       "      <td>238.93</td>\n",
       "      <td>5.2</td>\n",
       "      <td>0.0</td>\n",
       "      <td>0.0</td>\n",
       "      <td>17.0</td>\n",
       "      <td>17.0</td>\n",
       "    </tr>\n",
       "    <tr>\n",
       "      <th>183934</th>\n",
       "      <td>2007-08-05</td>\n",
       "      <td>2018-04-02 17:33:00</td>\n",
       "      <td>0.754</td>\n",
       "      <td>0.154</td>\n",
       "      <td>235.85</td>\n",
       "      <td>3.2</td>\n",
       "      <td>0.0</td>\n",
       "      <td>2.0</td>\n",
       "      <td>0.0</td>\n",
       "      <td>2.0</td>\n",
       "    </tr>\n",
       "    <tr>\n",
       "      <th>96285</th>\n",
       "      <td>2007-08-03</td>\n",
       "      <td>2018-04-02 20:44:00</td>\n",
       "      <td>4.578</td>\n",
       "      <td>0.080</td>\n",
       "      <td>233.35</td>\n",
       "      <td>19.6</td>\n",
       "      <td>0.0</td>\n",
       "      <td>35.0</td>\n",
       "      <td>17.0</td>\n",
       "      <td>52.0</td>\n",
       "    </tr>\n",
       "    <tr>\n",
       "      <th>26541</th>\n",
       "      <td>2007-01-19</td>\n",
       "      <td>2018-04-02 10:20:00</td>\n",
       "      <td>1.396</td>\n",
       "      <td>0.198</td>\n",
       "      <td>235.97</td>\n",
       "      <td>5.8</td>\n",
       "      <td>0.0</td>\n",
       "      <td>0.0</td>\n",
       "      <td>17.0</td>\n",
       "      <td>17.0</td>\n",
       "    </tr>\n",
       "  </tbody>\n",
       "</table>\n",
       "</div>"
      ],
      "text/plain": [
       "             Date                Time  Global_active_power  \\\n",
       "59044  2007-11-02 2018-04-02 00:03:00                2.008   \n",
       "239579 2007-06-16 2018-04-02 08:58:00                1.276   \n",
       "183934 2007-08-05 2018-04-02 17:33:00                0.754   \n",
       "96285  2007-08-03 2018-04-02 20:44:00                4.578   \n",
       "26541  2007-01-19 2018-04-02 10:20:00                1.396   \n",
       "\n",
       "        Global_reactive_power  Voltage  Global_intensity  Sub_metering_1  \\\n",
       "59044                   0.108   242.94               9.2             0.0   \n",
       "239579                  0.082   238.93               5.2             0.0   \n",
       "183934                  0.154   235.85               3.2             0.0   \n",
       "96285                   0.080   233.35              19.6             0.0   \n",
       "26541                   0.198   235.97               5.8             0.0   \n",
       "\n",
       "        Sub_metering_2  Sub_metering_3  Sub_Sum  \n",
       "59044              2.0             0.0      2.0  \n",
       "239579             0.0            17.0     17.0  \n",
       "183934             2.0             0.0      2.0  \n",
       "96285             35.0            17.0     52.0  \n",
       "26541              0.0            17.0     17.0  "
      ]
     },
     "execution_count": 79,
     "metadata": {},
     "output_type": "execute_result"
    }
   ],
   "source": [
    "df_small['Sub_Sum'] = df_small[['Sub_metering_1', 'Sub_metering_2', 'Sub_metering_3']].sum(axis=1)\n",
    "df_small.head()"
   ]
  },
  {
   "cell_type": "code",
   "execution_count": 82,
   "metadata": {},
   "outputs": [],
   "source": [
    "#df_small.loc['Sub_Sum'] = df_small.loc['Sub_Sum'] / 1000 * 1 / 3600\n",
    "\n",
    "#tried to convert the sum of all the submeters watt-hours to the same standard unit of Global active power kilowatt"
   ]
  },
  {
   "cell_type": "code",
   "execution_count": 83,
   "metadata": {},
   "outputs": [
    {
     "name": "stdout",
     "output_type": "stream",
     "text": [
      "Intercept:    -2.269384590585579\n",
      "Coefficient:  [9.50151107]\n"
     ]
    },
    {
     "data": {
      "text/plain": [
       "<matplotlib.legend.Legend at 0xcbee908>"
      ]
     },
     "execution_count": 83,
     "metadata": {},
     "output_type": "execute_result"
    },
    {
     "data": {
      "image/png": "[encoded data removed]",
      "text/plain": [
       "<matplotlib.figure.Figure at 0x1044d5c0>"
      ]
     },
     "metadata": {},
     "output_type": "display_data"
    }
   ],
   "source": [
    "# Initialize the model, and name it lr1\n",
    "lr1 = linear_model.LinearRegression()\n",
    "\n",
    "#input data is in the right format for the explanatory variable\n",
    "INPUT = np.array(df_small['Global_active_power']).reshape(-1, 1)\n",
    "\n",
    "# Fit the data\n",
    "lr1.fit(X = INPUT,y = df_small['Sub_Sum'])\n",
    "\n",
    "# Print intercept and coefficient\n",
    "print(\"Intercept:   \",lr1.intercept_)\n",
    "print(\"Coefficient: \",lr1.coef_)\n",
    "\n",
    "# Plot the data and the prediction\n",
    "plt.scatter(df_small['Global_active_power'], df_small['Sub_Sum'],  c=\"r\", alpha=0.5, label=\"Sum of all sub meters\")\n",
    "# Line of best fit. NB, doing this manually based on the parameters\n",
    "plt.plot(df_small['Global_active_power'], [lr1.coef_*x +lr1.intercept_ for x in df_small['Sub_Sum']], label=\"Global active power\") # We could also use lr1.predict(x), as in next example\n",
    "plt.suptitle(\"Simple Linear Regression\", fontsize = 18)\n",
    "plt.xlabel(\"Global_active_power\", fontsize=10)\n",
    "plt.ylabel(\"Sum of all sub meters\", fontsize=10)\n",
    "plt.legend()"
   ]
  },
  {
   "cell_type": "code",
   "execution_count": 84,
   "metadata": {},
   "outputs": [
    {
     "name": "stdout",
     "output_type": "stream",
     "text": [
      "Score with simple linear model:  0.6775271580758144\n",
      "Score with second input:         0.6775271580758144\n"
     ]
    }
   ],
   "source": [
    "# First, a simple linear regression model (one input var)\n",
    "INPUT = np.array(df_small['Global_active_power']).reshape(-1, 1)\n",
    "slr = linear_model.LinearRegression()\n",
    "slr.fit(X = INPUT,y = df_small['Sub_Sum'])\n",
    "print(\"Score with simple linear model: \", slr.score(INPUT, df_small['Sub_Sum']))\n",
    "\n",
    "# Now the multiple regression model we developed above - two input vars\n",
    "INPUT = np.array(df_small['Global_active_power']).reshape(-1, 1)\n",
    "mlr = linear_model.LinearRegression()\n",
    "mlr.fit(X = INPUT,y = df_small['Sub_Sum'])\n",
    "print(\"Score with second input:        \",mlr.score(INPUT, df_small['Sub_Sum']))"
   ]
  },
  {
   "cell_type": "code",
   "execution_count": 85,
   "metadata": {},
   "outputs": [
    {
     "name": "stdout",
     "output_type": "stream",
     "text": [
      "r-squared: 0.6775271580758145\n"
     ]
    }
   ],
   "source": [
    "slope, intercept, r_value, p_value, std_err = stats.linregress(df_small['Global_active_power'], df_small['Sub_Sum'])\n",
    "print(\"r-squared:\", r_value**2)"
   ]
  },
  {
   "cell_type": "markdown",
   "metadata": {},
   "source": [
    "#### Answer\n",
    "From the two Linear regression models we get:\n",
    "- Model Parameters :\n",
    "Intercept:   -2.2694\n",
    "; Coefficient: 9.5015\n",
    "- Score of : 0.67753\n",
    "- r-squared:  0.67753\n",
    "\n",
    "My prediction is unfortunately not as accurate as I would like it to be (I think this is because I was not able to convert the units correctly). What I was expecting to see was that the sum of all the sub meters would create a model / a prediction as the what the global meter would read."
   ]
  },
  {
   "cell_type": "markdown",
   "metadata": {},
   "source": [
    "## Task 6 - Logistic Regression"
   ]
  },
  {
   "cell_type": "markdown",
   "metadata": {},
   "source": [
    "Use logistic regression to predict occasions when Sub_metering_1 is greater than Sub_metering_2 - in other words, when is the kitchen more in use then the laundry room? \n",
    "Tasks: \n",
    "- Add a column with a 1 when kitchen power is higher than laundry room (sub_metering_1>2) and a 0 when not. \n",
    "- Build a logistic regression model with this as the dependant variable. Use any variables as inputs.\n",
    "- How did your model score? Briefly comment with your thoughts. Do you think this is something one could feasibly predict from the available data?"
   ]
  },
  {
   "cell_type": "code",
   "execution_count": 15,
   "metadata": {
    "collapsed": true
   },
   "outputs": [],
   "source": []
  },
  {
   "cell_type": "markdown",
   "metadata": {},
   "source": [
    "## Task 7 - Visualizations and conclusions"
   ]
  },
  {
   "cell_type": "markdown",
   "metadata": {},
   "source": [
    "Well done! You're almost through. Now for some final easy points, pick three of the following questions and create a visualization and some text to answer the question:\n",
    "- What time of day is the kitchen used?\n",
    "- Does the weekly power consumption remain constant?\n",
    "- Which sub-metering zone used the most power?\n",
    "- How did power use in the different zones change over time?\n",
    "- How did the two small subsamples you created in the beginning (1000 rows each) differ?"
   ]
  },
  {
   "cell_type": "code",
   "execution_count": null,
   "metadata": {
    "collapsed": true
   },
   "outputs": [],
   "source": []
  }
 ],
 "metadata": {
  "kernelspec": {
   "display_name": "Python 3",
   "language": "python",
   "name": "python3"
  },
  "language_info": {
   "codemirror_mode": {
    "name": "ipython",
    "version": 3
   },
   "file_extension": ".py",
   "mimetype": "text/x-python",
   "name": "python",
   "nbconvert_exporter": "python",
   "pygments_lexer": "ipython3",
   "version": "3.6.4"
  }
 },
 "nbformat": 4,
 "nbformat_minor": 2
}
