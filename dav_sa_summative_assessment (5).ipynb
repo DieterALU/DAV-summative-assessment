{
 "cells": [
  {
   "cell_type": "markdown",
   "metadata": {},
   "source": [
    "# Summative Assessment - Data Analytics and Visualization"
   ]
  },
  {
   "cell_type": "markdown",
   "metadata": {},
   "source": [
    "This assessment will cover the following:\n",
    "- Importing the data and dealing with missing values\n",
    "- Exploring the data and producing some simple visualizations\n",
    "- Sampling and comparing samples\n",
    "- Looking for correlation\n",
    "- Using regression to predict power consumption\n",
    "\n",
    "It's split into tasks, each in its own section. Write your code and answers in the spaces provided. Feel free to add cells and import any libraries you'll require."
   ]
  },
  {
   "cell_type": "markdown",
   "metadata": {},
   "source": [
    "## The data"
   ]
  },
  {
   "cell_type": "markdown",
   "metadata": {},
   "source": [
    "The data we'll be using in this assesssment was downloaded from data.world (https://data.world/databeats/household-power-consumption), a subset of a larger dataset available from the UCI Machine Learning Repository (https://archive.ics.uci.edu/ml/datasets/individual+household+electric+power+consumption#).\n",
    "\n",
    "It may look familiar to some of you!\n",
    "\n",
    "Here's the description of the data from the site:\n",
    "\n",
    "<b>Data Set Information</b>\n",
    "\n",
    "This household electricity consumption dataset contains 260,640 measurements gathered between January 2007 and June 2007 (6 months). It is a subset of a larger, original archive that contains 2,075,259 measurements gathered between December 2006 and November 2010 (47 months).\n",
    "\n",
    "<b>Attribute Information</b>\n",
    "\n",
    "date: Date in format dd/mm/yyyy\n",
    "time: time in format hh:mm:ss\n",
    "global_active_power: household global minute-averaged active power (in kilowatt)\n",
    "global_reactive_power: household global minute-averaged reactive power (in kilowatt)\n",
    "voltage: minute-averaged voltage (in volt)\n",
    "global_intensity: household global minute-averaged current intensity (in ampere)\n",
    "sub_metering_1: energy sub-metering No. 1 (in watt-hour of active energy). It corresponds to the kitchen, containing mainly a dishwasher, an oven and a microwave (hot plates are not electric but gas powered).\n",
    "sub_metering_2: energy sub-metering No. 2 (in watt-hour of active energy). It corresponds to the laundry room, containing a washing-machine, a tumble-drier, a refrigerator and a light.\n",
    "sub_metering_3: energy sub-metering No. 3 (in watt-hour of active energy). It corresponds to an electric water-heater and an air-conditioner."
   ]
  },
  {
   "cell_type": "markdown",
   "metadata": {},
   "source": [
    "## Assessment Flow"
   ]
  },
  {
   "cell_type": "markdown",
   "metadata": {},
   "source": [
    "## Task 1 - Getting the data!"
   ]
  },
  {
   "cell_type": "markdown",
   "metadata": {},
   "source": [
    "The data has been downloaded for you"
   ]
  },
  {
   "cell_type": "code",
   "execution_count": 6,
   "metadata": {
    "collapsed": true
   },
   "outputs": [],
   "source": [
    "file_path = 'household_power_consumption-household_power_consumption.csv'"
   ]
  },
  {
   "cell_type": "markdown",
   "metadata": {},
   "source": [
    "It is comma separated, but has a major issue you'll have to deal with before you can begin working with it: missing values are marked with a '?'. You'll need to remove all rows with missing values and make sure the columns are the right type before we move on. This is a classic example of a problem whose solution isn't worth memorizing, so if you're struggling take a look around on stack overflow or elsewhere for others who've solved the same problem!"
   ]
  },
  {
   "cell_type": "code",
   "execution_count": null,
   "metadata": {},
   "outputs": [],
   "source": [
    "# Import the libraries you'll be using and load the data into a pandas dataframe here"
   ]
  },
  {
   "cell_type": "code",
   "execution_count": 1,
   "metadata": {},
   "outputs": [],
   "source": [
    "import numpy as np\n",
    "import pandas as pd\n",
    "import seaborn as sns\n",
    "from datetime import datetime\n",
    "import calendar\n",
    "import random as rnd\n",
    "from matplotlib import pyplot as plt\n",
    "import scipy.stats as stats\n",
    "from scipy import stats\n",
    "from scipy.stats import pearsonr\n",
    "from sklearn import linear_model"
   ]
  },
  {
   "cell_type": "code",
   "execution_count": 2,
   "metadata": {},
   "outputs": [],
   "source": [
    "%matplotlib inline"
   ]
  },
  {
   "cell_type": "code",
   "execution_count": 3,
   "metadata": {},
   "outputs": [
    {
     "data": {
      "text/plain": [
       "(260641, 9)"
      ]
     },
     "execution_count": 3,
     "metadata": {},
     "output_type": "execute_result"
    }
   ],
   "source": [
    "df = pd.read_csv('household_power_consumption-household_power_consumption.csv', sep=',',\n",
    "                names = ['Date','Time','Global_active_power','Global_reactive_power','Voltage','Global_intensity','Sub_metering_1','Sub_metering_2','Sub_metering_3'],\n",
    "                low_memory=False, encoding='iso8859_15')\n",
    "df.shape"
   ]
  },
  {
   "cell_type": "markdown",
   "metadata": {},
   "source": [
    "Now, we can start looking at this data. Assuming you've called your dataframe 'df', run df.head() and df.describe() to see what we're working with. Remember, at this stage you shouldn't have missing data."
   ]
  },
  {
   "cell_type": "code",
   "execution_count": 33,
   "metadata": {},
   "outputs": [],
   "source": [
    "# Look at the data you've loaded"
   ]
  },
  {
   "cell_type": "code",
   "execution_count": 4,
   "metadata": {},
   "outputs": [
    {
     "data": {
      "text/html": [
       "<div>\n",
       "<style scoped>\n",
       "    .dataframe tbody tr th:only-of-type {\n",
       "        vertical-align: middle;\n",
       "    }\n",
       "\n",
       "    .dataframe tbody tr th {\n",
       "        vertical-align: top;\n",
       "    }\n",
       "\n",
       "    .dataframe thead th {\n",
       "        text-align: right;\n",
       "    }\n",
       "</style>\n",
       "<table border=\"1\" class=\"dataframe\">\n",
       "  <thead>\n",
       "    <tr style=\"text-align: right;\">\n",
       "      <th></th>\n",
       "      <th>Date</th>\n",
       "      <th>Time</th>\n",
       "      <th>Global_active_power</th>\n",
       "      <th>Global_reactive_power</th>\n",
       "      <th>Voltage</th>\n",
       "      <th>Global_intensity</th>\n",
       "      <th>Sub_metering_1</th>\n",
       "      <th>Sub_metering_2</th>\n",
       "      <th>Sub_metering_3</th>\n",
       "    </tr>\n",
       "  </thead>\n",
       "  <tbody>\n",
       "    <tr>\n",
       "      <th>0</th>\n",
       "      <td>Date</td>\n",
       "      <td>Time</td>\n",
       "      <td>Global_active_power</td>\n",
       "      <td>Global_reactive_power</td>\n",
       "      <td>Voltage</td>\n",
       "      <td>Global_intensity</td>\n",
       "      <td>Sub_metering_1</td>\n",
       "      <td>Sub_metering_2</td>\n",
       "      <td>Sub_metering_3</td>\n",
       "    </tr>\n",
       "    <tr>\n",
       "      <th>1</th>\n",
       "      <td>1/1/07</td>\n",
       "      <td>0:00:00</td>\n",
       "      <td>2.58</td>\n",
       "      <td>0.136</td>\n",
       "      <td>241.97</td>\n",
       "      <td>10.6</td>\n",
       "      <td>0</td>\n",
       "      <td>0</td>\n",
       "      <td>0</td>\n",
       "    </tr>\n",
       "    <tr>\n",
       "      <th>2</th>\n",
       "      <td>1/1/07</td>\n",
       "      <td>0:01:00</td>\n",
       "      <td>2.552</td>\n",
       "      <td>0.1</td>\n",
       "      <td>241.75</td>\n",
       "      <td>10.4</td>\n",
       "      <td>0</td>\n",
       "      <td>0</td>\n",
       "      <td>0</td>\n",
       "    </tr>\n",
       "    <tr>\n",
       "      <th>3</th>\n",
       "      <td>1/1/07</td>\n",
       "      <td>0:02:00</td>\n",
       "      <td>2.55</td>\n",
       "      <td>0.1</td>\n",
       "      <td>241.64</td>\n",
       "      <td>10.4</td>\n",
       "      <td>0</td>\n",
       "      <td>0</td>\n",
       "      <td>0</td>\n",
       "    </tr>\n",
       "    <tr>\n",
       "      <th>4</th>\n",
       "      <td>1/1/07</td>\n",
       "      <td>0:03:00</td>\n",
       "      <td>2.55</td>\n",
       "      <td>0.1</td>\n",
       "      <td>241.71</td>\n",
       "      <td>10.4</td>\n",
       "      <td>0</td>\n",
       "      <td>0</td>\n",
       "      <td>0</td>\n",
       "    </tr>\n",
       "  </tbody>\n",
       "</table>\n",
       "</div>"
      ],
      "text/plain": [
       "     Date     Time  Global_active_power  Global_reactive_power  Voltage  \\\n",
       "0    Date     Time  Global_active_power  Global_reactive_power  Voltage   \n",
       "1  1/1/07  0:00:00                 2.58                  0.136   241.97   \n",
       "2  1/1/07  0:01:00                2.552                    0.1   241.75   \n",
       "3  1/1/07  0:02:00                 2.55                    0.1   241.64   \n",
       "4  1/1/07  0:03:00                 2.55                    0.1   241.71   \n",
       "\n",
       "   Global_intensity  Sub_metering_1  Sub_metering_2  Sub_metering_3  \n",
       "0  Global_intensity  Sub_metering_1  Sub_metering_2  Sub_metering_3  \n",
       "1              10.6               0               0               0  \n",
       "2              10.4               0               0               0  \n",
       "3              10.4               0               0               0  \n",
       "4              10.4               0               0               0  "
      ]
     },
     "execution_count": 4,
     "metadata": {},
     "output_type": "execute_result"
    }
   ],
   "source": [
    "df.head()"
   ]
  },
  {
   "cell_type": "code",
   "execution_count": 5,
   "metadata": {},
   "outputs": [
    {
     "data": {
      "text/html": [
       "<div>\n",
       "<style scoped>\n",
       "    .dataframe tbody tr th:only-of-type {\n",
       "        vertical-align: middle;\n",
       "    }\n",
       "\n",
       "    .dataframe tbody tr th {\n",
       "        vertical-align: top;\n",
       "    }\n",
       "\n",
       "    .dataframe thead th {\n",
       "        text-align: right;\n",
       "    }\n",
       "</style>\n",
       "<table border=\"1\" class=\"dataframe\">\n",
       "  <thead>\n",
       "    <tr style=\"text-align: right;\">\n",
       "      <th></th>\n",
       "      <th>Date</th>\n",
       "      <th>Time</th>\n",
       "      <th>Global_active_power</th>\n",
       "      <th>Global_reactive_power</th>\n",
       "      <th>Voltage</th>\n",
       "      <th>Global_intensity</th>\n",
       "      <th>Sub_metering_1</th>\n",
       "      <th>Sub_metering_2</th>\n",
       "      <th>Sub_metering_3</th>\n",
       "    </tr>\n",
       "  </thead>\n",
       "  <tbody>\n",
       "    <tr>\n",
       "      <th>1</th>\n",
       "      <td>1/1/07</td>\n",
       "      <td>0:00:00</td>\n",
       "      <td>2.58</td>\n",
       "      <td>0.136</td>\n",
       "      <td>241.97</td>\n",
       "      <td>10.6</td>\n",
       "      <td>0</td>\n",
       "      <td>0</td>\n",
       "      <td>0</td>\n",
       "    </tr>\n",
       "    <tr>\n",
       "      <th>2</th>\n",
       "      <td>1/1/07</td>\n",
       "      <td>0:01:00</td>\n",
       "      <td>2.552</td>\n",
       "      <td>0.1</td>\n",
       "      <td>241.75</td>\n",
       "      <td>10.4</td>\n",
       "      <td>0</td>\n",
       "      <td>0</td>\n",
       "      <td>0</td>\n",
       "    </tr>\n",
       "    <tr>\n",
       "      <th>3</th>\n",
       "      <td>1/1/07</td>\n",
       "      <td>0:02:00</td>\n",
       "      <td>2.55</td>\n",
       "      <td>0.1</td>\n",
       "      <td>241.64</td>\n",
       "      <td>10.4</td>\n",
       "      <td>0</td>\n",
       "      <td>0</td>\n",
       "      <td>0</td>\n",
       "    </tr>\n",
       "    <tr>\n",
       "      <th>4</th>\n",
       "      <td>1/1/07</td>\n",
       "      <td>0:03:00</td>\n",
       "      <td>2.55</td>\n",
       "      <td>0.1</td>\n",
       "      <td>241.71</td>\n",
       "      <td>10.4</td>\n",
       "      <td>0</td>\n",
       "      <td>0</td>\n",
       "      <td>0</td>\n",
       "    </tr>\n",
       "    <tr>\n",
       "      <th>5</th>\n",
       "      <td>1/1/07</td>\n",
       "      <td>0:04:00</td>\n",
       "      <td>2.554</td>\n",
       "      <td>0.1</td>\n",
       "      <td>241.98</td>\n",
       "      <td>10.4</td>\n",
       "      <td>0</td>\n",
       "      <td>0</td>\n",
       "      <td>0</td>\n",
       "    </tr>\n",
       "  </tbody>\n",
       "</table>\n",
       "</div>"
      ],
      "text/plain": [
       "     Date     Time Global_active_power Global_reactive_power Voltage  \\\n",
       "1  1/1/07  0:00:00                2.58                 0.136  241.97   \n",
       "2  1/1/07  0:01:00               2.552                   0.1  241.75   \n",
       "3  1/1/07  0:02:00                2.55                   0.1  241.64   \n",
       "4  1/1/07  0:03:00                2.55                   0.1  241.71   \n",
       "5  1/1/07  0:04:00               2.554                   0.1  241.98   \n",
       "\n",
       "  Global_intensity Sub_metering_1 Sub_metering_2 Sub_metering_3  \n",
       "1             10.6              0              0              0  \n",
       "2             10.4              0              0              0  \n",
       "3             10.4              0              0              0  \n",
       "4             10.4              0              0              0  \n",
       "5             10.4              0              0              0  "
      ]
     },
     "execution_count": 5,
     "metadata": {},
     "output_type": "execute_result"
    }
   ],
   "source": [
    "df = df.iloc[1:,:]   #clean up the data frame by removing the first row\n",
    "df.head()"
   ]
  },
  {
   "cell_type": "code",
   "execution_count": 6,
   "metadata": {},
   "outputs": [
    {
     "data": {
      "text/plain": [
       "Date                     object\n",
       "Time                     object\n",
       "Global_active_power      object\n",
       "Global_reactive_power    object\n",
       "Voltage                  object\n",
       "Global_intensity         object\n",
       "Sub_metering_1           object\n",
       "Sub_metering_2           object\n",
       "Sub_metering_3           object\n",
       "dtype: object"
      ]
     },
     "execution_count": 6,
     "metadata": {},
     "output_type": "execute_result"
    }
   ],
   "source": [
    "df.dtypes"
   ]
  },
  {
   "cell_type": "code",
   "execution_count": 7,
   "metadata": {},
   "outputs": [],
   "source": [
    "#Merge Date and Time colum, change to date time format\n",
    "df[\"DateTime\"] = (df[\"Date\"] + \" \" + df[\"Time\"]).map(lambda x: pd.to_datetime(x, infer_datetime_format=True, errors='coerce'))\n",
    "\n",
    "#Change all column below to float format\n",
    "df['Global_active_power'] = pd.to_numeric(df['Global_active_power'], errors='coerce').fillna(0).astype(float)\n",
    "df['Global_reactive_power'] = pd.to_numeric(df['Global_reactive_power'], errors='coerce').fillna(0).astype(float)\n",
    "df['Voltage'] = pd.to_numeric(df['Voltage'], errors='coerce').fillna(0).astype(float)\n",
    "df['Global_intensity'] = pd.to_numeric(df['Global_intensity'], errors='coerce').fillna(0).astype(float)\n",
    "df['Sub_metering_1'] = pd.to_numeric(df['Sub_metering_1'], errors='coerce').fillna(0).astype(float)\n",
    "df['Sub_metering_2'] = pd.to_numeric(df['Sub_metering_2'], errors='coerce').fillna(0).astype(float)\n",
    "df['Sub_metering_3'] = pd.to_numeric(df['Sub_metering_3'], errors='coerce').fillna(0).astype(float)                "
   ]
  },
  {
   "cell_type": "code",
   "execution_count": 8,
   "metadata": {},
   "outputs": [],
   "source": [
    "df = df[['DateTime', 'Global_active_power', 'Global_reactive_power', 'Voltage', 'Global_intensity', 'Sub_metering_1', 'Sub_metering_2', 'Sub_metering_3' ]]"
   ]
  },
  {
   "cell_type": "code",
   "execution_count": 9,
   "metadata": {},
   "outputs": [
    {
     "data": {
      "text/plain": [
       "DateTime                 datetime64[ns]\n",
       "Global_active_power             float64\n",
       "Global_reactive_power           float64\n",
       "Voltage                         float64\n",
       "Global_intensity                float64\n",
       "Sub_metering_1                  float64\n",
       "Sub_metering_2                  float64\n",
       "Sub_metering_3                  float64\n",
       "dtype: object"
      ]
     },
     "execution_count": 9,
     "metadata": {},
     "output_type": "execute_result"
    }
   ],
   "source": [
    "df.dtypes"
   ]
  },
  {
   "cell_type": "code",
   "execution_count": 10,
   "metadata": {},
   "outputs": [
    {
     "data": {
      "text/html": [
       "<div>\n",
       "<style scoped>\n",
       "    .dataframe tbody tr th:only-of-type {\n",
       "        vertical-align: middle;\n",
       "    }\n",
       "\n",
       "    .dataframe tbody tr th {\n",
       "        vertical-align: top;\n",
       "    }\n",
       "\n",
       "    .dataframe thead th {\n",
       "        text-align: right;\n",
       "    }\n",
       "</style>\n",
       "<table border=\"1\" class=\"dataframe\">\n",
       "  <thead>\n",
       "    <tr style=\"text-align: right;\">\n",
       "      <th></th>\n",
       "      <th>DateTime</th>\n",
       "      <th>Global_active_power</th>\n",
       "      <th>Global_reactive_power</th>\n",
       "      <th>Voltage</th>\n",
       "      <th>Global_intensity</th>\n",
       "      <th>Sub_metering_1</th>\n",
       "      <th>Sub_metering_2</th>\n",
       "      <th>Sub_metering_3</th>\n",
       "    </tr>\n",
       "  </thead>\n",
       "  <tbody>\n",
       "    <tr>\n",
       "      <th>1</th>\n",
       "      <td>2007-01-01 00:00:00</td>\n",
       "      <td>2.580</td>\n",
       "      <td>0.136</td>\n",
       "      <td>241.97</td>\n",
       "      <td>10.6</td>\n",
       "      <td>0.0</td>\n",
       "      <td>0.0</td>\n",
       "      <td>0.0</td>\n",
       "    </tr>\n",
       "    <tr>\n",
       "      <th>2</th>\n",
       "      <td>2007-01-01 00:01:00</td>\n",
       "      <td>2.552</td>\n",
       "      <td>0.100</td>\n",
       "      <td>241.75</td>\n",
       "      <td>10.4</td>\n",
       "      <td>0.0</td>\n",
       "      <td>0.0</td>\n",
       "      <td>0.0</td>\n",
       "    </tr>\n",
       "    <tr>\n",
       "      <th>3</th>\n",
       "      <td>2007-01-01 00:02:00</td>\n",
       "      <td>2.550</td>\n",
       "      <td>0.100</td>\n",
       "      <td>241.64</td>\n",
       "      <td>10.4</td>\n",
       "      <td>0.0</td>\n",
       "      <td>0.0</td>\n",
       "      <td>0.0</td>\n",
       "    </tr>\n",
       "    <tr>\n",
       "      <th>4</th>\n",
       "      <td>2007-01-01 00:03:00</td>\n",
       "      <td>2.550</td>\n",
       "      <td>0.100</td>\n",
       "      <td>241.71</td>\n",
       "      <td>10.4</td>\n",
       "      <td>0.0</td>\n",
       "      <td>0.0</td>\n",
       "      <td>0.0</td>\n",
       "    </tr>\n",
       "    <tr>\n",
       "      <th>5</th>\n",
       "      <td>2007-01-01 00:04:00</td>\n",
       "      <td>2.554</td>\n",
       "      <td>0.100</td>\n",
       "      <td>241.98</td>\n",
       "      <td>10.4</td>\n",
       "      <td>0.0</td>\n",
       "      <td>0.0</td>\n",
       "      <td>0.0</td>\n",
       "    </tr>\n",
       "  </tbody>\n",
       "</table>\n",
       "</div>"
      ],
      "text/plain": [
       "             DateTime  Global_active_power  Global_reactive_power  Voltage  \\\n",
       "1 2007-01-01 00:00:00                2.580                  0.136   241.97   \n",
       "2 2007-01-01 00:01:00                2.552                  0.100   241.75   \n",
       "3 2007-01-01 00:02:00                2.550                  0.100   241.64   \n",
       "4 2007-01-01 00:03:00                2.550                  0.100   241.71   \n",
       "5 2007-01-01 00:04:00                2.554                  0.100   241.98   \n",
       "\n",
       "   Global_intensity  Sub_metering_1  Sub_metering_2  Sub_metering_3  \n",
       "1              10.6             0.0             0.0             0.0  \n",
       "2              10.4             0.0             0.0             0.0  \n",
       "3              10.4             0.0             0.0             0.0  \n",
       "4              10.4             0.0             0.0             0.0  \n",
       "5              10.4             0.0             0.0             0.0  "
      ]
     },
     "execution_count": 10,
     "metadata": {},
     "output_type": "execute_result"
    }
   ],
   "source": [
    "df.head()"
   ]
  },
  {
   "cell_type": "code",
   "execution_count": 11,
   "metadata": {},
   "outputs": [
    {
     "data": {
      "text/html": [
       "<div>\n",
       "<style scoped>\n",
       "    .dataframe tbody tr th:only-of-type {\n",
       "        vertical-align: middle;\n",
       "    }\n",
       "\n",
       "    .dataframe tbody tr th {\n",
       "        vertical-align: top;\n",
       "    }\n",
       "\n",
       "    .dataframe thead th {\n",
       "        text-align: right;\n",
       "    }\n",
       "</style>\n",
       "<table border=\"1\" class=\"dataframe\">\n",
       "  <thead>\n",
       "    <tr style=\"text-align: right;\">\n",
       "      <th></th>\n",
       "      <th>Global_active_power</th>\n",
       "      <th>Global_reactive_power</th>\n",
       "      <th>Voltage</th>\n",
       "      <th>Global_intensity</th>\n",
       "      <th>Sub_metering_1</th>\n",
       "      <th>Sub_metering_2</th>\n",
       "      <th>Sub_metering_3</th>\n",
       "    </tr>\n",
       "  </thead>\n",
       "  <tbody>\n",
       "    <tr>\n",
       "      <th>count</th>\n",
       "      <td>260640.000000</td>\n",
       "      <td>260640.000000</td>\n",
       "      <td>260640.000000</td>\n",
       "      <td>260640.000000</td>\n",
       "      <td>260640.000000</td>\n",
       "      <td>260640.000000</td>\n",
       "      <td>260640.000000</td>\n",
       "    </tr>\n",
       "    <tr>\n",
       "      <th>mean</th>\n",
       "      <td>1.148082</td>\n",
       "      <td>0.121939</td>\n",
       "      <td>235.748050</td>\n",
       "      <td>4.902779</td>\n",
       "      <td>1.313202</td>\n",
       "      <td>1.646440</td>\n",
       "      <td>5.747449</td>\n",
       "    </tr>\n",
       "    <tr>\n",
       "      <th>std</th>\n",
       "      <td>1.181469</td>\n",
       "      <td>0.112038</td>\n",
       "      <td>28.785974</td>\n",
       "      <td>4.998618</td>\n",
       "      <td>6.658190</td>\n",
       "      <td>6.586236</td>\n",
       "      <td>8.157050</td>\n",
       "    </tr>\n",
       "    <tr>\n",
       "      <th>min</th>\n",
       "      <td>0.000000</td>\n",
       "      <td>0.000000</td>\n",
       "      <td>0.000000</td>\n",
       "      <td>0.000000</td>\n",
       "      <td>0.000000</td>\n",
       "      <td>0.000000</td>\n",
       "      <td>0.000000</td>\n",
       "    </tr>\n",
       "    <tr>\n",
       "      <th>25%</th>\n",
       "      <td>0.292000</td>\n",
       "      <td>0.000000</td>\n",
       "      <td>236.500000</td>\n",
       "      <td>1.200000</td>\n",
       "      <td>0.000000</td>\n",
       "      <td>0.000000</td>\n",
       "      <td>0.000000</td>\n",
       "    </tr>\n",
       "    <tr>\n",
       "      <th>50%</th>\n",
       "      <td>0.534000</td>\n",
       "      <td>0.104000</td>\n",
       "      <td>239.540000</td>\n",
       "      <td>2.400000</td>\n",
       "      <td>0.000000</td>\n",
       "      <td>0.000000</td>\n",
       "      <td>0.000000</td>\n",
       "    </tr>\n",
       "    <tr>\n",
       "      <th>75%</th>\n",
       "      <td>1.590000</td>\n",
       "      <td>0.192000</td>\n",
       "      <td>241.780000</td>\n",
       "      <td>6.800000</td>\n",
       "      <td>0.000000</td>\n",
       "      <td>1.000000</td>\n",
       "      <td>17.000000</td>\n",
       "    </tr>\n",
       "    <tr>\n",
       "      <th>max</th>\n",
       "      <td>10.670000</td>\n",
       "      <td>1.148000</td>\n",
       "      <td>250.890000</td>\n",
       "      <td>46.400000</td>\n",
       "      <td>78.000000</td>\n",
       "      <td>78.000000</td>\n",
       "      <td>20.000000</td>\n",
       "    </tr>\n",
       "  </tbody>\n",
       "</table>\n",
       "</div>"
      ],
      "text/plain": [
       "       Global_active_power  Global_reactive_power        Voltage  \\\n",
       "count        260640.000000          260640.000000  260640.000000   \n",
       "mean              1.148082               0.121939     235.748050   \n",
       "std               1.181469               0.112038      28.785974   \n",
       "min               0.000000               0.000000       0.000000   \n",
       "25%               0.292000               0.000000     236.500000   \n",
       "50%               0.534000               0.104000     239.540000   \n",
       "75%               1.590000               0.192000     241.780000   \n",
       "max              10.670000               1.148000     250.890000   \n",
       "\n",
       "       Global_intensity  Sub_metering_1  Sub_metering_2  Sub_metering_3  \n",
       "count     260640.000000   260640.000000   260640.000000   260640.000000  \n",
       "mean           4.902779        1.313202        1.646440        5.747449  \n",
       "std            4.998618        6.658190        6.586236        8.157050  \n",
       "min            0.000000        0.000000        0.000000        0.000000  \n",
       "25%            1.200000        0.000000        0.000000        0.000000  \n",
       "50%            2.400000        0.000000        0.000000        0.000000  \n",
       "75%            6.800000        0.000000        1.000000       17.000000  \n",
       "max           46.400000       78.000000       78.000000       20.000000  "
      ]
     },
     "execution_count": 11,
     "metadata": {},
     "output_type": "execute_result"
    }
   ],
   "source": [
    "df.describe()"
   ]
  },
  {
   "cell_type": "code",
   "execution_count": 12,
   "metadata": {},
   "outputs": [
    {
     "name": "stdout",
     "output_type": "stream",
     "text": [
      "Size of raw csv file: 2085120\n",
      "Shape of the raw csv file (260640, 8)\n",
      "\n",
      " Raw csv info \n",
      "\n",
      "<class 'pandas.core.frame.DataFrame'>\n",
      "RangeIndex: 260640 entries, 1 to 260640\n",
      "Data columns (total 8 columns):\n",
      "DateTime                 260640 non-null datetime64[ns]\n",
      "Global_active_power      260640 non-null float64\n",
      "Global_reactive_power    260640 non-null float64\n",
      "Voltage                  260640 non-null float64\n",
      "Global_intensity         260640 non-null float64\n",
      "Sub_metering_1           260640 non-null float64\n",
      "Sub_metering_2           260640 non-null float64\n",
      "Sub_metering_3           260640 non-null float64\n",
      "dtypes: datetime64[ns](1), float64(7)\n",
      "memory usage: 15.9 MB\n"
     ]
    }
   ],
   "source": [
    "print('Size of raw csv file:',df.size)\n",
    "print('Shape of the raw csv file',df.shape)\n",
    "print('\\n','Raw csv info \\n')\n",
    "df.info()"
   ]
  },
  {
   "cell_type": "markdown",
   "metadata": {},
   "source": [
    "### Feedback on the data\n",
    "Some basic sumamry statistics onthe row data set. \n",
    "- Size of the file : 2345769\n",
    "- Shape of the file: 260641 rows with 9 columns\n",
    "\n",
    "Moving onto the next portion of the. "
   ]
  },
  {
   "cell_type": "markdown",
   "metadata": {},
   "source": [
    "Look at the count field - lots of rows! Try running something like df.plot() - it takes a while. Imagine a dataset with 25 million rows. If we're going to be exploring and playing around, we might not want to wait for things to complete. So, sampling! Your next task will be to generate a smaller dataset for data exploration"
   ]
  },
  {
   "cell_type": "markdown",
   "metadata": {},
   "source": [
    "## Task 2: Subsampling"
   ]
  },
  {
   "cell_type": "markdown",
   "metadata": {},
   "source": [
    "Create two new dataframes, one with the first 1000 rows of df and another with 1000 rows starting from 75,000. "
   ]
  },
  {
   "cell_type": "markdown",
   "metadata": {},
   "source": [
    "### Sample set : 1000"
   ]
  },
  {
   "cell_type": "code",
   "execution_count": 13,
   "metadata": {},
   "outputs": [
    {
     "data": {
      "text/html": [
       "<div>\n",
       "<style scoped>\n",
       "    .dataframe tbody tr th:only-of-type {\n",
       "        vertical-align: middle;\n",
       "    }\n",
       "\n",
       "    .dataframe tbody tr th {\n",
       "        vertical-align: top;\n",
       "    }\n",
       "\n",
       "    .dataframe thead th {\n",
       "        text-align: right;\n",
       "    }\n",
       "</style>\n",
       "<table border=\"1\" class=\"dataframe\">\n",
       "  <thead>\n",
       "    <tr style=\"text-align: right;\">\n",
       "      <th></th>\n",
       "      <th>DateTime</th>\n",
       "      <th>Global_active_power</th>\n",
       "      <th>Global_reactive_power</th>\n",
       "      <th>Voltage</th>\n",
       "      <th>Global_intensity</th>\n",
       "      <th>Sub_metering_1</th>\n",
       "      <th>Sub_metering_2</th>\n",
       "      <th>Sub_metering_3</th>\n",
       "    </tr>\n",
       "  </thead>\n",
       "  <tbody>\n",
       "    <tr>\n",
       "      <th>891</th>\n",
       "      <td>2007-01-01 14:50:00</td>\n",
       "      <td>2.760</td>\n",
       "      <td>0.268</td>\n",
       "      <td>238.75</td>\n",
       "      <td>11.6</td>\n",
       "      <td>0.0</td>\n",
       "      <td>1.0</td>\n",
       "      <td>17.0</td>\n",
       "    </tr>\n",
       "    <tr>\n",
       "      <th>439</th>\n",
       "      <td>2007-01-01 07:18:00</td>\n",
       "      <td>2.476</td>\n",
       "      <td>0.124</td>\n",
       "      <td>240.53</td>\n",
       "      <td>10.2</td>\n",
       "      <td>0.0</td>\n",
       "      <td>0.0</td>\n",
       "      <td>0.0</td>\n",
       "    </tr>\n",
       "    <tr>\n",
       "      <th>659</th>\n",
       "      <td>2007-01-01 10:58:00</td>\n",
       "      <td>2.508</td>\n",
       "      <td>0.000</td>\n",
       "      <td>236.82</td>\n",
       "      <td>10.6</td>\n",
       "      <td>0.0</td>\n",
       "      <td>0.0</td>\n",
       "      <td>0.0</td>\n",
       "    </tr>\n",
       "    <tr>\n",
       "      <th>54</th>\n",
       "      <td>2007-01-01 00:53:00</td>\n",
       "      <td>2.484</td>\n",
       "      <td>0.000</td>\n",
       "      <td>241.98</td>\n",
       "      <td>10.2</td>\n",
       "      <td>0.0</td>\n",
       "      <td>0.0</td>\n",
       "      <td>0.0</td>\n",
       "    </tr>\n",
       "    <tr>\n",
       "      <th>707</th>\n",
       "      <td>2007-01-01 11:46:00</td>\n",
       "      <td>2.592</td>\n",
       "      <td>0.118</td>\n",
       "      <td>236.24</td>\n",
       "      <td>10.8</td>\n",
       "      <td>0.0</td>\n",
       "      <td>0.0</td>\n",
       "      <td>0.0</td>\n",
       "    </tr>\n",
       "  </tbody>\n",
       "</table>\n",
       "</div>"
      ],
      "text/plain": [
       "               DateTime  Global_active_power  Global_reactive_power  Voltage  \\\n",
       "891 2007-01-01 14:50:00                2.760                  0.268   238.75   \n",
       "439 2007-01-01 07:18:00                2.476                  0.124   240.53   \n",
       "659 2007-01-01 10:58:00                2.508                  0.000   236.82   \n",
       "54  2007-01-01 00:53:00                2.484                  0.000   241.98   \n",
       "707 2007-01-01 11:46:00                2.592                  0.118   236.24   \n",
       "\n",
       "     Global_intensity  Sub_metering_1  Sub_metering_2  Sub_metering_3  \n",
       "891              11.6             0.0             1.0            17.0  \n",
       "439              10.2             0.0             0.0             0.0  \n",
       "659              10.6             0.0             0.0             0.0  \n",
       "54               10.2             0.0             0.0             0.0  \n",
       "707              10.8             0.0             0.0             0.0  "
      ]
     },
     "execution_count": 13,
     "metadata": {},
     "output_type": "execute_result"
    }
   ],
   "source": [
    "df1 = df.iloc[0:1000].sample(1000)   #sampling the first 1000 rows\n",
    "df1.head()  "
   ]
  },
  {
   "cell_type": "code",
   "execution_count": 14,
   "metadata": {},
   "outputs": [
    {
     "data": {
      "text/html": [
       "<div>\n",
       "<style scoped>\n",
       "    .dataframe tbody tr th:only-of-type {\n",
       "        vertical-align: middle;\n",
       "    }\n",
       "\n",
       "    .dataframe tbody tr th {\n",
       "        vertical-align: top;\n",
       "    }\n",
       "\n",
       "    .dataframe thead th {\n",
       "        text-align: right;\n",
       "    }\n",
       "</style>\n",
       "<table border=\"1\" class=\"dataframe\">\n",
       "  <thead>\n",
       "    <tr style=\"text-align: right;\">\n",
       "      <th></th>\n",
       "      <th>DateTime</th>\n",
       "      <th>Global_active_power</th>\n",
       "      <th>Global_reactive_power</th>\n",
       "      <th>Voltage</th>\n",
       "      <th>Global_intensity</th>\n",
       "      <th>Sub_metering_1</th>\n",
       "      <th>Sub_metering_2</th>\n",
       "      <th>Sub_metering_3</th>\n",
       "    </tr>\n",
       "  </thead>\n",
       "  <tbody>\n",
       "    <tr>\n",
       "      <th>75517</th>\n",
       "      <td>2007-02-22 10:36:00</td>\n",
       "      <td>1.316</td>\n",
       "      <td>0.000</td>\n",
       "      <td>239.49</td>\n",
       "      <td>5.4</td>\n",
       "      <td>0.0</td>\n",
       "      <td>0.0</td>\n",
       "      <td>18.0</td>\n",
       "    </tr>\n",
       "    <tr>\n",
       "      <th>75958</th>\n",
       "      <td>2007-02-22 17:57:00</td>\n",
       "      <td>0.704</td>\n",
       "      <td>0.086</td>\n",
       "      <td>239.43</td>\n",
       "      <td>3.0</td>\n",
       "      <td>0.0</td>\n",
       "      <td>2.0</td>\n",
       "      <td>0.0</td>\n",
       "    </tr>\n",
       "    <tr>\n",
       "      <th>75325</th>\n",
       "      <td>2007-02-22 07:24:00</td>\n",
       "      <td>3.720</td>\n",
       "      <td>0.170</td>\n",
       "      <td>235.97</td>\n",
       "      <td>15.8</td>\n",
       "      <td>0.0</td>\n",
       "      <td>0.0</td>\n",
       "      <td>17.0</td>\n",
       "    </tr>\n",
       "    <tr>\n",
       "      <th>75378</th>\n",
       "      <td>2007-02-22 08:17:00</td>\n",
       "      <td>3.474</td>\n",
       "      <td>0.180</td>\n",
       "      <td>238.74</td>\n",
       "      <td>14.4</td>\n",
       "      <td>0.0</td>\n",
       "      <td>1.0</td>\n",
       "      <td>17.0</td>\n",
       "    </tr>\n",
       "    <tr>\n",
       "      <th>75016</th>\n",
       "      <td>2007-02-22 02:15:00</td>\n",
       "      <td>2.284</td>\n",
       "      <td>0.000</td>\n",
       "      <td>239.33</td>\n",
       "      <td>9.4</td>\n",
       "      <td>0.0</td>\n",
       "      <td>0.0</td>\n",
       "      <td>0.0</td>\n",
       "    </tr>\n",
       "  </tbody>\n",
       "</table>\n",
       "</div>"
      ],
      "text/plain": [
       "                 DateTime  Global_active_power  Global_reactive_power  \\\n",
       "75517 2007-02-22 10:36:00                1.316                  0.000   \n",
       "75958 2007-02-22 17:57:00                0.704                  0.086   \n",
       "75325 2007-02-22 07:24:00                3.720                  0.170   \n",
       "75378 2007-02-22 08:17:00                3.474                  0.180   \n",
       "75016 2007-02-22 02:15:00                2.284                  0.000   \n",
       "\n",
       "       Voltage  Global_intensity  Sub_metering_1  Sub_metering_2  \\\n",
       "75517   239.49               5.4             0.0             0.0   \n",
       "75958   239.43               3.0             0.0             2.0   \n",
       "75325   235.97              15.8             0.0             0.0   \n",
       "75378   238.74              14.4             0.0             1.0   \n",
       "75016   239.33               9.4             0.0             0.0   \n",
       "\n",
       "       Sub_metering_3  \n",
       "75517            18.0  \n",
       "75958             0.0  \n",
       "75325            17.0  \n",
       "75378            17.0  \n",
       "75016             0.0  "
      ]
     },
     "execution_count": 14,
     "metadata": {},
     "output_type": "execute_result"
    }
   ],
   "source": [
    "df2 = df.iloc[75000:76000].sample(1000)   #sampling from 75000 to 76000 to get 1000 row sample\n",
    "df2.tail()  "
   ]
  },
  {
   "cell_type": "markdown",
   "metadata": {},
   "source": [
    "Do you think the first 1000 rows will give a good picture of the whole dataset? Find the mean and std dev for both of your small datasets. Do they match? Do they reflect the statistics for the dataset as a whole? Write your answers to these questions in a cell below the code you use to create and investigate these new dataframes."
   ]
  },
  {
   "cell_type": "code",
   "execution_count": 17,
   "metadata": {},
   "outputs": [],
   "source": [
    "# Answer here - explain your code and reasoning with extra cells for explanation."
   ]
  },
  {
   "cell_type": "code",
   "execution_count": 74,
   "metadata": {},
   "outputs": [
    {
     "data": {
      "text/html": [
       "<div>\n",
       "<style scoped>\n",
       "    .dataframe tbody tr th:only-of-type {\n",
       "        vertical-align: middle;\n",
       "    }\n",
       "\n",
       "    .dataframe tbody tr th {\n",
       "        vertical-align: top;\n",
       "    }\n",
       "\n",
       "    .dataframe thead th {\n",
       "        text-align: right;\n",
       "    }\n",
       "</style>\n",
       "<table border=\"1\" class=\"dataframe\">\n",
       "  <thead>\n",
       "    <tr style=\"text-align: right;\">\n",
       "      <th></th>\n",
       "      <th>Global_active_power</th>\n",
       "      <th>Global_reactive_power</th>\n",
       "      <th>Voltage</th>\n",
       "      <th>Global_intensity</th>\n",
       "      <th>Sub_metering_1</th>\n",
       "      <th>Sub_metering_2</th>\n",
       "      <th>Sub_metering_3</th>\n",
       "    </tr>\n",
       "  </thead>\n",
       "  <tbody>\n",
       "    <tr>\n",
       "      <th>count</th>\n",
       "      <td>1000.000000</td>\n",
       "      <td>1000.000000</td>\n",
       "      <td>1000.000000</td>\n",
       "      <td>1000.000000</td>\n",
       "      <td>1000.0</td>\n",
       "      <td>1000.000000</td>\n",
       "      <td>1000.000000</td>\n",
       "    </tr>\n",
       "    <tr>\n",
       "      <th>mean</th>\n",
       "      <td>2.384750</td>\n",
       "      <td>0.101824</td>\n",
       "      <td>240.421420</td>\n",
       "      <td>9.874600</td>\n",
       "      <td>0.0</td>\n",
       "      <td>0.246000</td>\n",
       "      <td>3.161000</td>\n",
       "    </tr>\n",
       "    <tr>\n",
       "      <th>std</th>\n",
       "      <td>0.573988</td>\n",
       "      <td>0.091648</td>\n",
       "      <td>2.011932</td>\n",
       "      <td>2.345493</td>\n",
       "      <td>0.0</td>\n",
       "      <td>0.545694</td>\n",
       "      <td>6.738582</td>\n",
       "    </tr>\n",
       "    <tr>\n",
       "      <th>min</th>\n",
       "      <td>0.204000</td>\n",
       "      <td>0.000000</td>\n",
       "      <td>235.300000</td>\n",
       "      <td>0.800000</td>\n",
       "      <td>0.0</td>\n",
       "      <td>0.000000</td>\n",
       "      <td>0.000000</td>\n",
       "    </tr>\n",
       "    <tr>\n",
       "      <th>25%</th>\n",
       "      <td>2.420000</td>\n",
       "      <td>0.000000</td>\n",
       "      <td>238.790000</td>\n",
       "      <td>9.800000</td>\n",
       "      <td>0.0</td>\n",
       "      <td>0.000000</td>\n",
       "      <td>0.000000</td>\n",
       "    </tr>\n",
       "    <tr>\n",
       "      <th>50%</th>\n",
       "      <td>2.512000</td>\n",
       "      <td>0.114000</td>\n",
       "      <td>240.560000</td>\n",
       "      <td>10.400000</td>\n",
       "      <td>0.0</td>\n",
       "      <td>0.000000</td>\n",
       "      <td>0.000000</td>\n",
       "    </tr>\n",
       "    <tr>\n",
       "      <th>75%</th>\n",
       "      <td>2.602000</td>\n",
       "      <td>0.138000</td>\n",
       "      <td>241.910000</td>\n",
       "      <td>10.800000</td>\n",
       "      <td>0.0</td>\n",
       "      <td>0.000000</td>\n",
       "      <td>0.000000</td>\n",
       "    </tr>\n",
       "    <tr>\n",
       "      <th>max</th>\n",
       "      <td>3.558000</td>\n",
       "      <td>0.454000</td>\n",
       "      <td>245.070000</td>\n",
       "      <td>14.600000</td>\n",
       "      <td>0.0</td>\n",
       "      <td>2.000000</td>\n",
       "      <td>19.000000</td>\n",
       "    </tr>\n",
       "  </tbody>\n",
       "</table>\n",
       "</div>"
      ],
      "text/plain": [
       "       Global_active_power  Global_reactive_power      Voltage  \\\n",
       "count          1000.000000            1000.000000  1000.000000   \n",
       "mean              2.384750               0.101824   240.421420   \n",
       "std               0.573988               0.091648     2.011932   \n",
       "min               0.204000               0.000000   235.300000   \n",
       "25%               2.420000               0.000000   238.790000   \n",
       "50%               2.512000               0.114000   240.560000   \n",
       "75%               2.602000               0.138000   241.910000   \n",
       "max               3.558000               0.454000   245.070000   \n",
       "\n",
       "       Global_intensity  Sub_metering_1  Sub_metering_2  Sub_metering_3  \n",
       "count       1000.000000          1000.0     1000.000000     1000.000000  \n",
       "mean           9.874600             0.0        0.246000        3.161000  \n",
       "std            2.345493             0.0        0.545694        6.738582  \n",
       "min            0.800000             0.0        0.000000        0.000000  \n",
       "25%            9.800000             0.0        0.000000        0.000000  \n",
       "50%           10.400000             0.0        0.000000        0.000000  \n",
       "75%           10.800000             0.0        0.000000        0.000000  \n",
       "max           14.600000             0.0        2.000000       19.000000  "
      ]
     },
     "execution_count": 74,
     "metadata": {},
     "output_type": "execute_result"
    }
   ],
   "source": [
    "df1.describe()"
   ]
  },
  {
   "cell_type": "code",
   "execution_count": 75,
   "metadata": {},
   "outputs": [
    {
     "data": {
      "text/html": [
       "<div>\n",
       "<style scoped>\n",
       "    .dataframe tbody tr th:only-of-type {\n",
       "        vertical-align: middle;\n",
       "    }\n",
       "\n",
       "    .dataframe tbody tr th {\n",
       "        vertical-align: top;\n",
       "    }\n",
       "\n",
       "    .dataframe thead th {\n",
       "        text-align: right;\n",
       "    }\n",
       "</style>\n",
       "<table border=\"1\" class=\"dataframe\">\n",
       "  <thead>\n",
       "    <tr style=\"text-align: right;\">\n",
       "      <th></th>\n",
       "      <th>Global_active_power</th>\n",
       "      <th>Global_reactive_power</th>\n",
       "      <th>Voltage</th>\n",
       "      <th>Global_intensity</th>\n",
       "      <th>Sub_metering_1</th>\n",
       "      <th>Sub_metering_2</th>\n",
       "      <th>Sub_metering_3</th>\n",
       "    </tr>\n",
       "  </thead>\n",
       "  <tbody>\n",
       "    <tr>\n",
       "      <th>count</th>\n",
       "      <td>1000.000000</td>\n",
       "      <td>1000.000000</td>\n",
       "      <td>1000.000000</td>\n",
       "      <td>1000.000000</td>\n",
       "      <td>1000.0</td>\n",
       "      <td>1000.000000</td>\n",
       "      <td>1000.000000</td>\n",
       "    </tr>\n",
       "    <tr>\n",
       "      <th>mean</th>\n",
       "      <td>1.816898</td>\n",
       "      <td>0.086158</td>\n",
       "      <td>239.824280</td>\n",
       "      <td>7.572200</td>\n",
       "      <td>0.0</td>\n",
       "      <td>0.249000</td>\n",
       "      <td>6.926000</td>\n",
       "    </tr>\n",
       "    <tr>\n",
       "      <th>std</th>\n",
       "      <td>1.172516</td>\n",
       "      <td>0.074981</td>\n",
       "      <td>2.088358</td>\n",
       "      <td>4.927574</td>\n",
       "      <td>0.0</td>\n",
       "      <td>0.552543</td>\n",
       "      <td>8.534833</td>\n",
       "    </tr>\n",
       "    <tr>\n",
       "      <th>min</th>\n",
       "      <td>0.252000</td>\n",
       "      <td>0.000000</td>\n",
       "      <td>233.840000</td>\n",
       "      <td>1.000000</td>\n",
       "      <td>0.0</td>\n",
       "      <td>0.000000</td>\n",
       "      <td>0.000000</td>\n",
       "    </tr>\n",
       "    <tr>\n",
       "      <th>25%</th>\n",
       "      <td>0.719000</td>\n",
       "      <td>0.046000</td>\n",
       "      <td>238.480000</td>\n",
       "      <td>3.000000</td>\n",
       "      <td>0.0</td>\n",
       "      <td>0.000000</td>\n",
       "      <td>0.000000</td>\n",
       "    </tr>\n",
       "    <tr>\n",
       "      <th>50%</th>\n",
       "      <td>1.560000</td>\n",
       "      <td>0.078000</td>\n",
       "      <td>239.755000</td>\n",
       "      <td>6.400000</td>\n",
       "      <td>0.0</td>\n",
       "      <td>0.000000</td>\n",
       "      <td>0.000000</td>\n",
       "    </tr>\n",
       "    <tr>\n",
       "      <th>75%</th>\n",
       "      <td>2.384000</td>\n",
       "      <td>0.114000</td>\n",
       "      <td>241.402500</td>\n",
       "      <td>9.800000</td>\n",
       "      <td>0.0</td>\n",
       "      <td>0.000000</td>\n",
       "      <td>17.000000</td>\n",
       "    </tr>\n",
       "    <tr>\n",
       "      <th>max</th>\n",
       "      <td>8.244000</td>\n",
       "      <td>0.356000</td>\n",
       "      <td>244.970000</td>\n",
       "      <td>35.000000</td>\n",
       "      <td>0.0</td>\n",
       "      <td>2.000000</td>\n",
       "      <td>18.000000</td>\n",
       "    </tr>\n",
       "  </tbody>\n",
       "</table>\n",
       "</div>"
      ],
      "text/plain": [
       "       Global_active_power  Global_reactive_power      Voltage  \\\n",
       "count          1000.000000            1000.000000  1000.000000   \n",
       "mean              1.816898               0.086158   239.824280   \n",
       "std               1.172516               0.074981     2.088358   \n",
       "min               0.252000               0.000000   233.840000   \n",
       "25%               0.719000               0.046000   238.480000   \n",
       "50%               1.560000               0.078000   239.755000   \n",
       "75%               2.384000               0.114000   241.402500   \n",
       "max               8.244000               0.356000   244.970000   \n",
       "\n",
       "       Global_intensity  Sub_metering_1  Sub_metering_2  Sub_metering_3  \n",
       "count       1000.000000          1000.0     1000.000000     1000.000000  \n",
       "mean           7.572200             0.0        0.249000        6.926000  \n",
       "std            4.927574             0.0        0.552543        8.534833  \n",
       "min            1.000000             0.0        0.000000        0.000000  \n",
       "25%            3.000000             0.0        0.000000        0.000000  \n",
       "50%            6.400000             0.0        0.000000        0.000000  \n",
       "75%            9.800000             0.0        0.000000       17.000000  \n",
       "max           35.000000             0.0        2.000000       18.000000  "
      ]
     },
     "execution_count": 75,
     "metadata": {},
     "output_type": "execute_result"
    }
   ],
   "source": [
    "df2.describe()"
   ]
  },
  {
   "cell_type": "markdown",
   "metadata": {},
   "source": [
    "### Answer to: If df1 = df2 in size\n",
    "\n",
    "No, they don’t match as well as I hoped on either the mean nor on the standard deviation. I looked at the data set and the numerical value's captured be each meter are different (some meters recorded a large value and others nothing) and this would influence the mean and standard deviation totals."
   ]
  },
  {
   "cell_type": "markdown",
   "metadata": {},
   "source": [
    "Create one new dataframewith the first 10,000 rows of data. Use random sampling to create a dataframe with 10,000 rows taken randomly from within the data and name it df_small. Is this a better representation of the dataset as a whole? If so, we can move on. If not, add more data or make other changes you feel are necessary."
   ]
  },
  {
   "cell_type": "markdown",
   "metadata": {},
   "source": [
    "### Sample set : 10000"
   ]
  },
  {
   "cell_type": "code",
   "execution_count": 181,
   "metadata": {},
   "outputs": [
    {
     "data": {
      "text/html": [
       "<div>\n",
       "<style scoped>\n",
       "    .dataframe tbody tr th:only-of-type {\n",
       "        vertical-align: middle;\n",
       "    }\n",
       "\n",
       "    .dataframe tbody tr th {\n",
       "        vertical-align: top;\n",
       "    }\n",
       "\n",
       "    .dataframe thead th {\n",
       "        text-align: right;\n",
       "    }\n",
       "</style>\n",
       "<table border=\"1\" class=\"dataframe\">\n",
       "  <thead>\n",
       "    <tr style=\"text-align: right;\">\n",
       "      <th></th>\n",
       "      <th>DateTime</th>\n",
       "      <th>Global_active_power</th>\n",
       "      <th>Global_reactive_power</th>\n",
       "      <th>Voltage</th>\n",
       "      <th>Global_intensity</th>\n",
       "      <th>Sub_metering_1</th>\n",
       "      <th>Sub_metering_2</th>\n",
       "      <th>Sub_metering_3</th>\n",
       "    </tr>\n",
       "  </thead>\n",
       "  <tbody>\n",
       "    <tr>\n",
       "      <th>2202</th>\n",
       "      <td>2007-02-01 12:41:00</td>\n",
       "      <td>0.374</td>\n",
       "      <td>0.000</td>\n",
       "      <td>241.64</td>\n",
       "      <td>1.6</td>\n",
       "      <td>0.0</td>\n",
       "      <td>0.0</td>\n",
       "      <td>0.0</td>\n",
       "    </tr>\n",
       "    <tr>\n",
       "      <th>1049</th>\n",
       "      <td>2007-01-01 17:28:00</td>\n",
       "      <td>2.202</td>\n",
       "      <td>0.254</td>\n",
       "      <td>239.02</td>\n",
       "      <td>9.2</td>\n",
       "      <td>0.0</td>\n",
       "      <td>1.0</td>\n",
       "      <td>18.0</td>\n",
       "    </tr>\n",
       "    <tr>\n",
       "      <th>3746</th>\n",
       "      <td>2007-03-01 14:25:00</td>\n",
       "      <td>1.350</td>\n",
       "      <td>0.054</td>\n",
       "      <td>244.08</td>\n",
       "      <td>5.4</td>\n",
       "      <td>0.0</td>\n",
       "      <td>0.0</td>\n",
       "      <td>19.0</td>\n",
       "    </tr>\n",
       "    <tr>\n",
       "      <th>3210</th>\n",
       "      <td>2007-03-01 05:29:00</td>\n",
       "      <td>1.394</td>\n",
       "      <td>0.130</td>\n",
       "      <td>241.82</td>\n",
       "      <td>5.8</td>\n",
       "      <td>0.0</td>\n",
       "      <td>0.0</td>\n",
       "      <td>18.0</td>\n",
       "    </tr>\n",
       "    <tr>\n",
       "      <th>6806</th>\n",
       "      <td>2007-05-01 17:25:00</td>\n",
       "      <td>2.346</td>\n",
       "      <td>0.130</td>\n",
       "      <td>237.86</td>\n",
       "      <td>9.8</td>\n",
       "      <td>0.0</td>\n",
       "      <td>2.0</td>\n",
       "      <td>18.0</td>\n",
       "    </tr>\n",
       "  </tbody>\n",
       "</table>\n",
       "</div>"
      ],
      "text/plain": [
       "                DateTime  Global_active_power  Global_reactive_power  Voltage  \\\n",
       "2202 2007-02-01 12:41:00                0.374                  0.000   241.64   \n",
       "1049 2007-01-01 17:28:00                2.202                  0.254   239.02   \n",
       "3746 2007-03-01 14:25:00                1.350                  0.054   244.08   \n",
       "3210 2007-03-01 05:29:00                1.394                  0.130   241.82   \n",
       "6806 2007-05-01 17:25:00                2.346                  0.130   237.86   \n",
       "\n",
       "      Global_intensity  Sub_metering_1  Sub_metering_2  Sub_metering_3  \n",
       "2202               1.6             0.0             0.0             0.0  \n",
       "1049               9.2             0.0             1.0            18.0  \n",
       "3746               5.4             0.0             0.0            19.0  \n",
       "3210               5.8             0.0             0.0            18.0  \n",
       "6806               9.8             0.0             2.0            18.0  "
      ]
     },
     "execution_count": 181,
     "metadata": {},
     "output_type": "execute_result"
    }
   ],
   "source": [
    "df3 = df.iloc[0:10000].sample(10000)      #sample the first 10000 rows of the data set\n",
    "df3.head() "
   ]
  },
  {
   "cell_type": "code",
   "execution_count": 16,
   "metadata": {},
   "outputs": [
    {
     "data": {
      "text/html": [
       "<div>\n",
       "<style scoped>\n",
       "    .dataframe tbody tr th:only-of-type {\n",
       "        vertical-align: middle;\n",
       "    }\n",
       "\n",
       "    .dataframe tbody tr th {\n",
       "        vertical-align: top;\n",
       "    }\n",
       "\n",
       "    .dataframe thead th {\n",
       "        text-align: right;\n",
       "    }\n",
       "</style>\n",
       "<table border=\"1\" class=\"dataframe\">\n",
       "  <thead>\n",
       "    <tr style=\"text-align: right;\">\n",
       "      <th></th>\n",
       "      <th>DateTime</th>\n",
       "      <th>Global_active_power</th>\n",
       "      <th>Global_reactive_power</th>\n",
       "      <th>Voltage</th>\n",
       "      <th>Global_intensity</th>\n",
       "      <th>Sub_metering_1</th>\n",
       "      <th>Sub_metering_2</th>\n",
       "      <th>Sub_metering_3</th>\n",
       "    </tr>\n",
       "  </thead>\n",
       "  <tbody>\n",
       "    <tr>\n",
       "      <th>94559</th>\n",
       "      <td>2007-07-03 15:58:00</td>\n",
       "      <td>1.370</td>\n",
       "      <td>0.066</td>\n",
       "      <td>242.44</td>\n",
       "      <td>5.6</td>\n",
       "      <td>0.0</td>\n",
       "      <td>0.0</td>\n",
       "      <td>18.0</td>\n",
       "    </tr>\n",
       "    <tr>\n",
       "      <th>37363</th>\n",
       "      <td>2007-01-26 22:42:00</td>\n",
       "      <td>1.854</td>\n",
       "      <td>0.130</td>\n",
       "      <td>242.78</td>\n",
       "      <td>7.6</td>\n",
       "      <td>1.0</td>\n",
       "      <td>0.0</td>\n",
       "      <td>18.0</td>\n",
       "    </tr>\n",
       "    <tr>\n",
       "      <th>190333</th>\n",
       "      <td>2007-05-13 04:12:00</td>\n",
       "      <td>0.150</td>\n",
       "      <td>0.000</td>\n",
       "      <td>239.27</td>\n",
       "      <td>0.6</td>\n",
       "      <td>0.0</td>\n",
       "      <td>0.0</td>\n",
       "      <td>0.0</td>\n",
       "    </tr>\n",
       "    <tr>\n",
       "      <th>176538</th>\n",
       "      <td>2007-03-05 14:17:00</td>\n",
       "      <td>0.130</td>\n",
       "      <td>0.000</td>\n",
       "      <td>234.30</td>\n",
       "      <td>0.6</td>\n",
       "      <td>0.0</td>\n",
       "      <td>0.0</td>\n",
       "      <td>0.0</td>\n",
       "    </tr>\n",
       "    <tr>\n",
       "      <th>201633</th>\n",
       "      <td>2007-05-21 00:32:00</td>\n",
       "      <td>1.328</td>\n",
       "      <td>0.048</td>\n",
       "      <td>234.28</td>\n",
       "      <td>5.6</td>\n",
       "      <td>0.0</td>\n",
       "      <td>1.0</td>\n",
       "      <td>17.0</td>\n",
       "    </tr>\n",
       "  </tbody>\n",
       "</table>\n",
       "</div>"
      ],
      "text/plain": [
       "                  DateTime  Global_active_power  Global_reactive_power  \\\n",
       "94559  2007-07-03 15:58:00                1.370                  0.066   \n",
       "37363  2007-01-26 22:42:00                1.854                  0.130   \n",
       "190333 2007-05-13 04:12:00                0.150                  0.000   \n",
       "176538 2007-03-05 14:17:00                0.130                  0.000   \n",
       "201633 2007-05-21 00:32:00                1.328                  0.048   \n",
       "\n",
       "        Voltage  Global_intensity  Sub_metering_1  Sub_metering_2  \\\n",
       "94559    242.44               5.6             0.0             0.0   \n",
       "37363    242.78               7.6             1.0             0.0   \n",
       "190333   239.27               0.6             0.0             0.0   \n",
       "176538   234.30               0.6             0.0             0.0   \n",
       "201633   234.28               5.6             0.0             1.0   \n",
       "\n",
       "        Sub_metering_3  \n",
       "94559             18.0  \n",
       "37363             18.0  \n",
       "190333             0.0  \n",
       "176538             0.0  \n",
       "201633            17.0  "
      ]
     },
     "execution_count": 16,
     "metadata": {},
     "output_type": "execute_result"
    }
   ],
   "source": [
    "n = 10000           #take 10,000 random samples from the overall df\n",
    "df_small = df.take(np.random.permutation(len(df))[:n])\n",
    "df_small.head()"
   ]
  },
  {
   "cell_type": "code",
   "execution_count": 182,
   "metadata": {},
   "outputs": [
    {
     "data": {
      "text/html": [
       "<div>\n",
       "<style scoped>\n",
       "    .dataframe tbody tr th:only-of-type {\n",
       "        vertical-align: middle;\n",
       "    }\n",
       "\n",
       "    .dataframe tbody tr th {\n",
       "        vertical-align: top;\n",
       "    }\n",
       "\n",
       "    .dataframe thead th {\n",
       "        text-align: right;\n",
       "    }\n",
       "</style>\n",
       "<table border=\"1\" class=\"dataframe\">\n",
       "  <thead>\n",
       "    <tr style=\"text-align: right;\">\n",
       "      <th></th>\n",
       "      <th>Global_active_power</th>\n",
       "      <th>Global_reactive_power</th>\n",
       "      <th>Voltage</th>\n",
       "      <th>Global_intensity</th>\n",
       "      <th>Sub_metering_1</th>\n",
       "      <th>Sub_metering_2</th>\n",
       "      <th>Sub_metering_3</th>\n",
       "    </tr>\n",
       "  </thead>\n",
       "  <tbody>\n",
       "    <tr>\n",
       "      <th>count</th>\n",
       "      <td>10000.000000</td>\n",
       "      <td>10000.000000</td>\n",
       "      <td>10000.000000</td>\n",
       "      <td>10000.00000</td>\n",
       "      <td>10000.000000</td>\n",
       "      <td>10000.000000</td>\n",
       "      <td>10000.000000</td>\n",
       "    </tr>\n",
       "    <tr>\n",
       "      <th>mean</th>\n",
       "      <td>1.483666</td>\n",
       "      <td>0.133779</td>\n",
       "      <td>240.906520</td>\n",
       "      <td>6.26116</td>\n",
       "      <td>0.585700</td>\n",
       "      <td>1.752500</td>\n",
       "      <td>5.274900</td>\n",
       "    </tr>\n",
       "    <tr>\n",
       "      <th>std</th>\n",
       "      <td>1.194093</td>\n",
       "      <td>0.112438</td>\n",
       "      <td>3.350382</td>\n",
       "      <td>5.00432</td>\n",
       "      <td>4.424049</td>\n",
       "      <td>7.661091</td>\n",
       "      <td>8.026118</td>\n",
       "    </tr>\n",
       "    <tr>\n",
       "      <th>min</th>\n",
       "      <td>0.204000</td>\n",
       "      <td>0.000000</td>\n",
       "      <td>226.320000</td>\n",
       "      <td>0.80000</td>\n",
       "      <td>0.000000</td>\n",
       "      <td>0.000000</td>\n",
       "      <td>0.000000</td>\n",
       "    </tr>\n",
       "    <tr>\n",
       "      <th>25%</th>\n",
       "      <td>0.394000</td>\n",
       "      <td>0.048000</td>\n",
       "      <td>238.640000</td>\n",
       "      <td>1.80000</td>\n",
       "      <td>0.000000</td>\n",
       "      <td>0.000000</td>\n",
       "      <td>0.000000</td>\n",
       "    </tr>\n",
       "    <tr>\n",
       "      <th>50%</th>\n",
       "      <td>1.372000</td>\n",
       "      <td>0.134000</td>\n",
       "      <td>241.110000</td>\n",
       "      <td>5.80000</td>\n",
       "      <td>0.000000</td>\n",
       "      <td>0.000000</td>\n",
       "      <td>0.000000</td>\n",
       "    </tr>\n",
       "    <tr>\n",
       "      <th>75%</th>\n",
       "      <td>2.378000</td>\n",
       "      <td>0.188000</td>\n",
       "      <td>243.210000</td>\n",
       "      <td>9.80000</td>\n",
       "      <td>0.000000</td>\n",
       "      <td>0.000000</td>\n",
       "      <td>17.000000</td>\n",
       "    </tr>\n",
       "    <tr>\n",
       "      <th>max</th>\n",
       "      <td>8.044000</td>\n",
       "      <td>0.862000</td>\n",
       "      <td>250.020000</td>\n",
       "      <td>35.60000</td>\n",
       "      <td>39.000000</td>\n",
       "      <td>75.000000</td>\n",
       "      <td>19.000000</td>\n",
       "    </tr>\n",
       "  </tbody>\n",
       "</table>\n",
       "</div>"
      ],
      "text/plain": [
       "       Global_active_power  Global_reactive_power       Voltage  \\\n",
       "count         10000.000000           10000.000000  10000.000000   \n",
       "mean              1.483666               0.133779    240.906520   \n",
       "std               1.194093               0.112438      3.350382   \n",
       "min               0.204000               0.000000    226.320000   \n",
       "25%               0.394000               0.048000    238.640000   \n",
       "50%               1.372000               0.134000    241.110000   \n",
       "75%               2.378000               0.188000    243.210000   \n",
       "max               8.044000               0.862000    250.020000   \n",
       "\n",
       "       Global_intensity  Sub_metering_1  Sub_metering_2  Sub_metering_3  \n",
       "count       10000.00000    10000.000000    10000.000000    10000.000000  \n",
       "mean            6.26116        0.585700        1.752500        5.274900  \n",
       "std             5.00432        4.424049        7.661091        8.026118  \n",
       "min             0.80000        0.000000        0.000000        0.000000  \n",
       "25%             1.80000        0.000000        0.000000        0.000000  \n",
       "50%             5.80000        0.000000        0.000000        0.000000  \n",
       "75%             9.80000        0.000000        0.000000       17.000000  \n",
       "max            35.60000       39.000000       75.000000       19.000000  "
      ]
     },
     "execution_count": 182,
     "metadata": {},
     "output_type": "execute_result"
    }
   ],
   "source": [
    "df3.describe()"
   ]
  },
  {
   "cell_type": "code",
   "execution_count": 18,
   "metadata": {},
   "outputs": [
    {
     "data": {
      "text/html": [
       "<div>\n",
       "<style scoped>\n",
       "    .dataframe tbody tr th:only-of-type {\n",
       "        vertical-align: middle;\n",
       "    }\n",
       "\n",
       "    .dataframe tbody tr th {\n",
       "        vertical-align: top;\n",
       "    }\n",
       "\n",
       "    .dataframe thead th {\n",
       "        text-align: right;\n",
       "    }\n",
       "</style>\n",
       "<table border=\"1\" class=\"dataframe\">\n",
       "  <thead>\n",
       "    <tr style=\"text-align: right;\">\n",
       "      <th></th>\n",
       "      <th>Global_active_power</th>\n",
       "      <th>Global_reactive_power</th>\n",
       "      <th>Voltage</th>\n",
       "      <th>Global_intensity</th>\n",
       "      <th>Sub_metering_1</th>\n",
       "      <th>Sub_metering_2</th>\n",
       "      <th>Sub_metering_3</th>\n",
       "    </tr>\n",
       "  </thead>\n",
       "  <tbody>\n",
       "    <tr>\n",
       "      <th>count</th>\n",
       "      <td>10000.000000</td>\n",
       "      <td>10000.000000</td>\n",
       "      <td>10000.000000</td>\n",
       "      <td>10000.000000</td>\n",
       "      <td>10000.000000</td>\n",
       "      <td>10000.000000</td>\n",
       "      <td>10000.000000</td>\n",
       "    </tr>\n",
       "    <tr>\n",
       "      <th>mean</th>\n",
       "      <td>1.163341</td>\n",
       "      <td>0.122064</td>\n",
       "      <td>235.533586</td>\n",
       "      <td>4.967900</td>\n",
       "      <td>1.494500</td>\n",
       "      <td>1.597600</td>\n",
       "      <td>5.764300</td>\n",
       "    </tr>\n",
       "    <tr>\n",
       "      <th>std</th>\n",
       "      <td>1.199807</td>\n",
       "      <td>0.111805</td>\n",
       "      <td>29.671832</td>\n",
       "      <td>5.078052</td>\n",
       "      <td>7.156053</td>\n",
       "      <td>6.572959</td>\n",
       "      <td>8.169089</td>\n",
       "    </tr>\n",
       "    <tr>\n",
       "      <th>min</th>\n",
       "      <td>0.000000</td>\n",
       "      <td>0.000000</td>\n",
       "      <td>0.000000</td>\n",
       "      <td>0.000000</td>\n",
       "      <td>0.000000</td>\n",
       "      <td>0.000000</td>\n",
       "      <td>0.000000</td>\n",
       "    </tr>\n",
       "    <tr>\n",
       "      <th>25%</th>\n",
       "      <td>0.292000</td>\n",
       "      <td>0.000000</td>\n",
       "      <td>236.527500</td>\n",
       "      <td>1.200000</td>\n",
       "      <td>0.000000</td>\n",
       "      <td>0.000000</td>\n",
       "      <td>0.000000</td>\n",
       "    </tr>\n",
       "    <tr>\n",
       "      <th>50%</th>\n",
       "      <td>0.548000</td>\n",
       "      <td>0.104000</td>\n",
       "      <td>239.520000</td>\n",
       "      <td>2.600000</td>\n",
       "      <td>0.000000</td>\n",
       "      <td>0.000000</td>\n",
       "      <td>0.000000</td>\n",
       "    </tr>\n",
       "    <tr>\n",
       "      <th>75%</th>\n",
       "      <td>1.614000</td>\n",
       "      <td>0.192000</td>\n",
       "      <td>241.800000</td>\n",
       "      <td>6.800000</td>\n",
       "      <td>0.000000</td>\n",
       "      <td>1.000000</td>\n",
       "      <td>17.000000</td>\n",
       "    </tr>\n",
       "    <tr>\n",
       "      <th>max</th>\n",
       "      <td>9.486000</td>\n",
       "      <td>0.960000</td>\n",
       "      <td>249.520000</td>\n",
       "      <td>40.800000</td>\n",
       "      <td>75.000000</td>\n",
       "      <td>75.000000</td>\n",
       "      <td>19.000000</td>\n",
       "    </tr>\n",
       "  </tbody>\n",
       "</table>\n",
       "</div>"
      ],
      "text/plain": [
       "       Global_active_power  Global_reactive_power       Voltage  \\\n",
       "count         10000.000000           10000.000000  10000.000000   \n",
       "mean              1.163341               0.122064    235.533586   \n",
       "std               1.199807               0.111805     29.671832   \n",
       "min               0.000000               0.000000      0.000000   \n",
       "25%               0.292000               0.000000    236.527500   \n",
       "50%               0.548000               0.104000    239.520000   \n",
       "75%               1.614000               0.192000    241.800000   \n",
       "max               9.486000               0.960000    249.520000   \n",
       "\n",
       "       Global_intensity  Sub_metering_1  Sub_metering_2  Sub_metering_3  \n",
       "count      10000.000000    10000.000000    10000.000000    10000.000000  \n",
       "mean           4.967900        1.494500        1.597600        5.764300  \n",
       "std            5.078052        7.156053        6.572959        8.169089  \n",
       "min            0.000000        0.000000        0.000000        0.000000  \n",
       "25%            1.200000        0.000000        0.000000        0.000000  \n",
       "50%            2.600000        0.000000        0.000000        0.000000  \n",
       "75%            6.800000        0.000000        1.000000       17.000000  \n",
       "max           40.800000       75.000000       75.000000       19.000000  "
      ]
     },
     "execution_count": 18,
     "metadata": {},
     "output_type": "execute_result"
    }
   ],
   "source": [
    "df_small.describe()"
   ]
  },
  {
   "cell_type": "markdown",
   "metadata": {},
   "source": [
    "### Answer to: If df3 = df_small in size\n",
    "Yes comparing these two pandas the mean and standard deviation look closer to each other. \n",
    "\n",
    "I used df3 from here on out."
   ]
  },
  {
   "cell_type": "markdown",
   "metadata": {},
   "source": [
    "## Task 3: Correlation and Plotting"
   ]
  },
  {
   "cell_type": "markdown",
   "metadata": {},
   "source": [
    "Explore the correlation of various features in the graph. Plot some scatterplots showing the features with the highest correlation coeficient, and some for those with the lowest correlation coeficient. "
   ]
  },
  {
   "cell_type": "markdown",
   "metadata": {},
   "source": [
    "- Name two pairs of highly correlated variables. \n",
    "- Produce at least three scatter plots."
   ]
  },
  {
   "cell_type": "markdown",
   "metadata": {},
   "source": [
    "### Answer:"
   ]
  },
  {
   "cell_type": "code",
   "execution_count": 183,
   "metadata": {},
   "outputs": [
    {
     "data": {
      "text/plain": [
       "<matplotlib.axes._subplots.AxesSubplot at 0x10ac8780>"
      ]
     },
     "execution_count": 183,
     "metadata": {},
     "output_type": "execute_result"
    },
    {
     "data": {
      "image/png": "[encoded data removed]",
      "text/plain": [
       "<matplotlib.figure.Figure at 0xdcae9b0>"
      ]
     },
     "metadata": {},
     "output_type": "display_data"
    }
   ],
   "source": [
    "corr = df3.corr()\n",
    "plt.figure(figsize=(16, 10))\n",
    "sns.heatmap(corr, xticklabels=corr.columns.values, \n",
    "            yticklabels=corr.columns.values, linewidths=.08,                   \n",
    "            cbar_kws={\"shrink\": .7})  "
   ]
  },
  {
   "cell_type": "markdown",
   "metadata": {},
   "source": [
    "### First Correlation - Global active power vs. Sub metering 2 - High Correlation 1"
   ]
  },
  {
   "cell_type": "code",
   "execution_count": 112,
   "metadata": {},
   "outputs": [
    {
     "data": {
      "image/png": "[encoded data removed]",
      "text/plain": [
       "<matplotlib.figure.Figure at 0xdc88b00>"
      ]
     },
     "metadata": {},
     "output_type": "display_data"
    }
   ],
   "source": [
    "fig = sns.regplot(df3['Global_active_power'], df3['Sub_metering_2'])\n",
    "plt.title(\"High Correlation scatter plot 1\", fontsize = 18)\n",
    "plt.xlabel('Global_active_power', fontsize=10)\n",
    "plt.ylabel('Sub_metering_2', fontsize=10)\n",
    "plt.show(fig)"
   ]
  },
  {
   "cell_type": "code",
   "execution_count": 113,
   "metadata": {},
   "outputs": [
    {
     "data": {
      "image/png": "[encoded data removed]",
      "text/plain": [
       "<matplotlib.figure.Figure at 0xd5e7048>"
      ]
     },
     "metadata": {},
     "output_type": "display_data"
    }
   ],
   "source": [
    "fig = sns.distplot(df3['Global_active_power'], label=\"Global active power\")\n",
    "fig = sns.distplot(df3['Sub_metering_2'], label=\"Sub meter 2\")\n",
    "plt.title(\"High Correlation plot 1\", fontsize = 18)\n",
    "plt.xlabel('Global_active_power', fontsize=10)\n",
    "plt.ylabel('Sub_metering_2', fontsize=10)\n",
    "plt.legend()\n",
    "plt.show(fig)"
   ]
  },
  {
   "cell_type": "code",
   "execution_count": 114,
   "metadata": {},
   "outputs": [
    {
     "name": "stdout",
     "output_type": "stream",
     "text": [
      "r 0.5033187293019145\n",
      "p 0.0\n"
     ]
    }
   ],
   "source": [
    "r,p = stats.pearsonr(df3['Global_active_power'], df3['Sub_metering_2'])\n",
    "print('r', r)\n",
    "print('p', p)"
   ]
  },
  {
   "cell_type": "markdown",
   "metadata": {},
   "source": [
    "#### Insight into Correlation - High 1\n",
    "Looking at the two graphs I can see a nice overlap and spread of the two data values. Looking at the high r-value (0.503) indicates that 'Sub meter 2' does add to the overall energy draw on 'Global active power' meter / house. It could be that the large home appliance’s are connected to this sub meter."
   ]
  },
  {
   "cell_type": "markdown",
   "metadata": {},
   "source": [
    "### Second Correlation - Global active power vs. Sub metering 3 - High Correlation 2"
   ]
  },
  {
   "cell_type": "code",
   "execution_count": 115,
   "metadata": {},
   "outputs": [
    {
     "data": {
      "image/png": "[encoded data removed]",
      "text/plain": [
       "<matplotlib.figure.Figure at 0xf3b7cf8>"
      ]
     },
     "metadata": {},
     "output_type": "display_data"
    }
   ],
   "source": [
    "fig = sns.regplot(df3['Global_active_power'], df3['Sub_metering_3'])\n",
    "plt.title(\"High Correlation scatter plot 2\", fontsize = 18)\n",
    "plt.xlabel('Global_active_power', fontsize=10)\n",
    "plt.ylabel('Sub_metering_3', fontsize=10)\n",
    "plt.show(fig)"
   ]
  },
  {
   "cell_type": "code",
   "execution_count": 116,
   "metadata": {},
   "outputs": [
    {
     "data": {
      "image/png": "[encoded data removed]",
      "text/plain": [
       "<matplotlib.figure.Figure at 0xd58f4a8>"
      ]
     },
     "metadata": {},
     "output_type": "display_data"
    }
   ],
   "source": [
    "fig = sns.distplot(df3['Global_active_power'], label=\"Global active power\")\n",
    "fig = sns.distplot(df3['Sub_metering_3'], label=\"Sub meter 3\")\n",
    "plt.title(\"High Correlation plot 2\", fontsize = 18)\n",
    "plt.xlabel('Global_active_power', fontsize=10)\n",
    "plt.ylabel('Sub_metering_3', fontsize=10)\n",
    "plt.legend()\n",
    "plt.show(fig)"
   ]
  },
  {
   "cell_type": "code",
   "execution_count": 117,
   "metadata": {},
   "outputs": [
    {
     "name": "stdout",
     "output_type": "stream",
     "text": [
      "r 0.5087491542138285\n",
      "p 0.0\n"
     ]
    }
   ],
   "source": [
    "r,p = stats.pearsonr(df3['Global_active_power'], df3['Sub_metering_3'])\n",
    "print('r', r)\n",
    "print('p', p)"
   ]
  },
  {
   "cell_type": "markdown",
   "metadata": {},
   "source": [
    "#### Insight into Correlation - High 2\n",
    "Looking at the two graphs I can see a higher overlap and spread of the two data values compared to 'High Correlation 1'. Looking at the high r-value (0.509) indicates that 'Sub meter 3' draws more energy compared to submeter 2 which adds to the overall energy draw on 'Global active power' meter / house. It could be that the large/more home appliance’s are connected to this sub meter. Or this could be that this circuit gets used more or longer."
   ]
  },
  {
   "cell_type": "markdown",
   "metadata": {},
   "source": [
    "### Third Correlation - Voltage vs. Sub metering 2 - Low Correlation"
   ]
  },
  {
   "cell_type": "code",
   "execution_count": 118,
   "metadata": {},
   "outputs": [
    {
     "data": {
      "image/png": "[encoded data removed]",
      "text/plain": [
       "<matplotlib.figure.Figure at 0xd58f7b8>"
      ]
     },
     "metadata": {},
     "output_type": "display_data"
    }
   ],
   "source": [
    "fig = sns.regplot(df3['Voltage'], df3['Sub_metering_2'])\n",
    "plt.title(\"Low Correlation scatter plot 3\", fontsize = 18)\n",
    "plt.xlabel('Voltage', fontsize=10)\n",
    "plt.ylabel('Sub_metering_2', fontsize=10)\n",
    "plt.show(fig)"
   ]
  },
  {
   "cell_type": "code",
   "execution_count": 119,
   "metadata": {},
   "outputs": [
    {
     "data": {
      "image/png": "[encoded data removed]",
      "text/plain": [
       "<matplotlib.figure.Figure at 0xd61fda0>"
      ]
     },
     "metadata": {},
     "output_type": "display_data"
    }
   ],
   "source": [
    "fig = sns.distplot(df3['Voltage'], label=\"Voltage\")\n",
    "fig = sns.distplot(df3['Sub_metering_2'], label=\"Sub meter 2\")\n",
    "plt.title(\" Low Correlation plot 3\", fontsize = 18)\n",
    "plt.xlabel('Voltage', fontsize=10)\n",
    "plt.ylabel('Sub_metering_2', fontsize=10)\n",
    "plt.legend()\n",
    "plt.show(fig)"
   ]
  },
  {
   "cell_type": "code",
   "execution_count": 120,
   "metadata": {},
   "outputs": [
    {
     "name": "stdout",
     "output_type": "stream",
     "text": [
      "r -0.21658011591889909\n",
      "p 1.831731373920038e-106\n"
     ]
    }
   ],
   "source": [
    "r,p = stats.pearsonr(df3['Voltage'], df3['Sub_metering_2'])\n",
    "print('r', r)\n",
    "print('p', p)"
   ]
  },
  {
   "cell_type": "markdown",
   "metadata": {},
   "source": [
    "#### Insight into Correlation - Low\n",
    "Looking at the two graphs I can see a little overlap and spread of the two data values. Looking at the high r-value (-0.217) indicates that 'Sub meter 2' does not add to the overall voltage draw on 'Voltage' meter. This could indicate that the home appliance’s are well balanced and do not cause a shift in phase's."
   ]
  },
  {
   "cell_type": "markdown",
   "metadata": {},
   "source": [
    "## Task 4: Simple Linear Regression"
   ]
  },
  {
   "cell_type": "markdown",
   "metadata": {},
   "source": [
    "Find the parameters of a simple linear model with Global_intensity as the explanatory variable and Global_active_power as the dependent variable\n",
    "\n",
    "- Print out the model parameters and score"
   ]
  },
  {
   "cell_type": "markdown",
   "metadata": {},
   "source": [
    "### Answer:"
   ]
  },
  {
   "cell_type": "code",
   "execution_count": null,
   "metadata": {},
   "outputs": [],
   "source": [
    "# Build a simple model and find parameters, as well as the R-Squared Value"
   ]
  },
  {
   "cell_type": "code",
   "execution_count": 184,
   "metadata": {},
   "outputs": [
    {
     "name": "stdout",
     "output_type": "stream",
     "text": [
      "Intercept:    -0.009039860825678758\n",
      "Coefficient:  [0.2384073]\n"
     ]
    },
    {
     "data": {
      "text/plain": [
       "<matplotlib.legend.Legend at 0x10b42f28>"
      ]
     },
     "execution_count": 184,
     "metadata": {},
     "output_type": "execute_result"
    },
    {
     "data": {
      "image/png": "[encoded data removed]",
      "text/plain": [
       "<matplotlib.figure.Figure at 0xd578048>"
      ]
     },
     "metadata": {},
     "output_type": "display_data"
    }
   ],
   "source": [
    "# Initialize the model, and name it lr1\n",
    "lr1 = linear_model.LinearRegression()\n",
    "\n",
    "#input data is in the right format for the explanatory variable\n",
    "INPUT = np.array(df3['Global_intensity']).reshape(-1, 1)\n",
    "\n",
    "# Fit the data\n",
    "lr1.fit(X = INPUT,y = df3['Global_active_power'])\n",
    "\n",
    "# Print intercept and coefficient\n",
    "print(\"Intercept:   \",lr1.intercept_)\n",
    "print(\"Coefficient: \",lr1.coef_)\n",
    "\n",
    "# Plot the data and the prediction\n",
    "plt.scatter(df3['Global_intensity'], df3['Global_active_power'],  c=\"r\", alpha=0.5, label=\"Global active power\")\n",
    "# Line of best fit. NB, doing this manually based on the parameters\n",
    "plt.plot(df3['Global_intensity'], [lr1.coef_*x +lr1.intercept_ for x in df3['Global_active_power']], label=\"Global intensity\") # We could also use lr1.predict(x), as in next example\n",
    "plt.title(\"Simple Linear Regression\", fontsize = 18)\n",
    "plt.xlabel(\"Global_intensity\", fontsize=10)\n",
    "plt.ylabel(\"Global_active_power\", fontsize=10)\n",
    "plt.legend()"
   ]
  },
  {
   "cell_type": "code",
   "execution_count": 185,
   "metadata": {},
   "outputs": [
    {
     "name": "stdout",
     "output_type": "stream",
     "text": [
      "Score with simple linear model:  0.9982814190548718\n",
      "Score with second input:         0.9982814190548718\n"
     ]
    }
   ],
   "source": [
    "# First, a simple linear regression model (one input var)\n",
    "INPUT = np.array(df3['Global_intensity']).reshape(-1, 1)\n",
    "slr = linear_model.LinearRegression()\n",
    "slr.fit(X = INPUT,y = df3['Global_active_power'])\n",
    "print(\"Score with simple linear model: \", slr.score(INPUT, df3['Global_active_power']))\n",
    "\n",
    "# Now the multiple regression model we developed above - two input vars\n",
    "INPUT = np.array(df3['Global_intensity']).reshape(-1, 1)\n",
    "mlr = linear_model.LinearRegression()\n",
    "mlr.fit(X = INPUT,y = df3['Global_active_power'])\n",
    "print(\"Score with second input:        \",mlr.score(INPUT, df3['Global_active_power']))"
   ]
  },
  {
   "cell_type": "code",
   "execution_count": 186,
   "metadata": {},
   "outputs": [
    {
     "name": "stdout",
     "output_type": "stream",
     "text": [
      "r-squared: 0.9982814190548729\n"
     ]
    }
   ],
   "source": [
    "slope, intercept, r_value, p_value, std_err = stats.linregress(df3['Global_intensity'], df3['Global_active_power'])\n",
    "print(\"r-squared:\", r_value**2)"
   ]
  },
  {
   "cell_type": "markdown",
   "metadata": {},
   "source": [
    "#### Answer\n",
    "From the two Linear regression models we get:\n",
    "- Model Parameters :\n",
    "Intercept:   -0.0090\n",
    "; Coefficient: 0.2384\n",
    "- Score of : 0.9983\n",
    "- r-squared:  0.9983\n",
    "\n",
    "As we can see that the two do not follow the same path and deviate indicating that we are introducing harmonics to the power grid."
   ]
  },
  {
   "cell_type": "markdown",
   "metadata": {},
   "source": [
    "## Task 5: Regression, but harder this time"
   ]
  },
  {
   "cell_type": "markdown",
   "metadata": {},
   "source": [
    "You didn't think it was going to be that easy? Intensity and power are different measures of essentially the same thing. We want to predict power from the other readings - a much harder task.\n",
    "\n",
    "Tasks: \n",
    "- Predict the power based on as many of the other factors as you think necessary. As before, print out model parameters and the score, both when using the model on your sample and when running it (i.e. score()) over the whole dataset."
   ]
  },
  {
   "cell_type": "markdown",
   "metadata": {},
   "source": [
    "### Answer:"
   ]
  },
  {
   "cell_type": "code",
   "execution_count": 187,
   "metadata": {},
   "outputs": [
    {
     "data": {
      "text/html": [
       "<div>\n",
       "<style scoped>\n",
       "    .dataframe tbody tr th:only-of-type {\n",
       "        vertical-align: middle;\n",
       "    }\n",
       "\n",
       "    .dataframe tbody tr th {\n",
       "        vertical-align: top;\n",
       "    }\n",
       "\n",
       "    .dataframe thead th {\n",
       "        text-align: right;\n",
       "    }\n",
       "</style>\n",
       "<table border=\"1\" class=\"dataframe\">\n",
       "  <thead>\n",
       "    <tr style=\"text-align: right;\">\n",
       "      <th></th>\n",
       "      <th>DateTime</th>\n",
       "      <th>Global_active_power</th>\n",
       "      <th>Global_reactive_power</th>\n",
       "      <th>Voltage</th>\n",
       "      <th>Global_intensity</th>\n",
       "      <th>Sub_metering_1</th>\n",
       "      <th>Sub_metering_2</th>\n",
       "      <th>Sub_metering_3</th>\n",
       "      <th>Sub_Sum</th>\n",
       "    </tr>\n",
       "  </thead>\n",
       "  <tbody>\n",
       "    <tr>\n",
       "      <th>2202</th>\n",
       "      <td>2007-02-01 12:41:00</td>\n",
       "      <td>0.374</td>\n",
       "      <td>0.000</td>\n",
       "      <td>241.64</td>\n",
       "      <td>1.6</td>\n",
       "      <td>0.0</td>\n",
       "      <td>0.0</td>\n",
       "      <td>0.0</td>\n",
       "      <td>0.0</td>\n",
       "    </tr>\n",
       "    <tr>\n",
       "      <th>1049</th>\n",
       "      <td>2007-01-01 17:28:00</td>\n",
       "      <td>2.202</td>\n",
       "      <td>0.254</td>\n",
       "      <td>239.02</td>\n",
       "      <td>9.2</td>\n",
       "      <td>0.0</td>\n",
       "      <td>1.0</td>\n",
       "      <td>18.0</td>\n",
       "      <td>19.0</td>\n",
       "    </tr>\n",
       "    <tr>\n",
       "      <th>3746</th>\n",
       "      <td>2007-03-01 14:25:00</td>\n",
       "      <td>1.350</td>\n",
       "      <td>0.054</td>\n",
       "      <td>244.08</td>\n",
       "      <td>5.4</td>\n",
       "      <td>0.0</td>\n",
       "      <td>0.0</td>\n",
       "      <td>19.0</td>\n",
       "      <td>19.0</td>\n",
       "    </tr>\n",
       "    <tr>\n",
       "      <th>3210</th>\n",
       "      <td>2007-03-01 05:29:00</td>\n",
       "      <td>1.394</td>\n",
       "      <td>0.130</td>\n",
       "      <td>241.82</td>\n",
       "      <td>5.8</td>\n",
       "      <td>0.0</td>\n",
       "      <td>0.0</td>\n",
       "      <td>18.0</td>\n",
       "      <td>18.0</td>\n",
       "    </tr>\n",
       "    <tr>\n",
       "      <th>6806</th>\n",
       "      <td>2007-05-01 17:25:00</td>\n",
       "      <td>2.346</td>\n",
       "      <td>0.130</td>\n",
       "      <td>237.86</td>\n",
       "      <td>9.8</td>\n",
       "      <td>0.0</td>\n",
       "      <td>2.0</td>\n",
       "      <td>18.0</td>\n",
       "      <td>20.0</td>\n",
       "    </tr>\n",
       "  </tbody>\n",
       "</table>\n",
       "</div>"
      ],
      "text/plain": [
       "                DateTime  Global_active_power  Global_reactive_power  Voltage  \\\n",
       "2202 2007-02-01 12:41:00                0.374                  0.000   241.64   \n",
       "1049 2007-01-01 17:28:00                2.202                  0.254   239.02   \n",
       "3746 2007-03-01 14:25:00                1.350                  0.054   244.08   \n",
       "3210 2007-03-01 05:29:00                1.394                  0.130   241.82   \n",
       "6806 2007-05-01 17:25:00                2.346                  0.130   237.86   \n",
       "\n",
       "      Global_intensity  Sub_metering_1  Sub_metering_2  Sub_metering_3  \\\n",
       "2202               1.6             0.0             0.0             0.0   \n",
       "1049               9.2             0.0             1.0            18.0   \n",
       "3746               5.4             0.0             0.0            19.0   \n",
       "3210               5.8             0.0             0.0            18.0   \n",
       "6806               9.8             0.0             2.0            18.0   \n",
       "\n",
       "      Sub_Sum  \n",
       "2202      0.0  \n",
       "1049     19.0  \n",
       "3746     19.0  \n",
       "3210     18.0  \n",
       "6806     20.0  "
      ]
     },
     "execution_count": 187,
     "metadata": {},
     "output_type": "execute_result"
    }
   ],
   "source": [
    "df3['Sub_Sum'] = (df3[\"Sub_metering_1\"] + df3[\"Sub_metering_2\"] + df3[\"Sub_metering_3\"])\n",
    "df3.head()"
   ]
  },
  {
   "cell_type": "markdown",
   "metadata": {},
   "source": [
    "### Conversion attempt\n",
    "I tried to convert the sum of all the submeters watt-hours to the same standard unit of Global active power kilowatt.\n",
    "Formule not quote right though"
   ]
  },
  {
   "cell_type": "code",
   "execution_count": 188,
   "metadata": {},
   "outputs": [
    {
     "data": {
      "text/html": [
       "<div>\n",
       "<style scoped>\n",
       "    .dataframe tbody tr th:only-of-type {\n",
       "        vertical-align: middle;\n",
       "    }\n",
       "\n",
       "    .dataframe tbody tr th {\n",
       "        vertical-align: top;\n",
       "    }\n",
       "\n",
       "    .dataframe thead th {\n",
       "        text-align: right;\n",
       "    }\n",
       "</style>\n",
       "<table border=\"1\" class=\"dataframe\">\n",
       "  <thead>\n",
       "    <tr style=\"text-align: right;\">\n",
       "      <th></th>\n",
       "      <th>DateTime</th>\n",
       "      <th>Global_active_power</th>\n",
       "      <th>Global_reactive_power</th>\n",
       "      <th>Voltage</th>\n",
       "      <th>Global_intensity</th>\n",
       "      <th>Sub_metering_1</th>\n",
       "      <th>Sub_metering_2</th>\n",
       "      <th>Sub_metering_3</th>\n",
       "      <th>Sub_Sum</th>\n",
       "    </tr>\n",
       "  </thead>\n",
       "  <tbody>\n",
       "    <tr>\n",
       "      <th>2202</th>\n",
       "      <td>2007-02-01 12:41:00</td>\n",
       "      <td>0.374</td>\n",
       "      <td>0.000</td>\n",
       "      <td>241.64</td>\n",
       "      <td>1.6</td>\n",
       "      <td>0.0</td>\n",
       "      <td>0.0</td>\n",
       "      <td>0.0</td>\n",
       "      <td>0.000</td>\n",
       "    </tr>\n",
       "    <tr>\n",
       "      <th>1049</th>\n",
       "      <td>2007-01-01 17:28:00</td>\n",
       "      <td>2.202</td>\n",
       "      <td>0.254</td>\n",
       "      <td>239.02</td>\n",
       "      <td>9.2</td>\n",
       "      <td>0.0</td>\n",
       "      <td>1.0</td>\n",
       "      <td>18.0</td>\n",
       "      <td>0.019</td>\n",
       "    </tr>\n",
       "    <tr>\n",
       "      <th>3746</th>\n",
       "      <td>2007-03-01 14:25:00</td>\n",
       "      <td>1.350</td>\n",
       "      <td>0.054</td>\n",
       "      <td>244.08</td>\n",
       "      <td>5.4</td>\n",
       "      <td>0.0</td>\n",
       "      <td>0.0</td>\n",
       "      <td>19.0</td>\n",
       "      <td>0.019</td>\n",
       "    </tr>\n",
       "    <tr>\n",
       "      <th>3210</th>\n",
       "      <td>2007-03-01 05:29:00</td>\n",
       "      <td>1.394</td>\n",
       "      <td>0.130</td>\n",
       "      <td>241.82</td>\n",
       "      <td>5.8</td>\n",
       "      <td>0.0</td>\n",
       "      <td>0.0</td>\n",
       "      <td>18.0</td>\n",
       "      <td>0.018</td>\n",
       "    </tr>\n",
       "    <tr>\n",
       "      <th>6806</th>\n",
       "      <td>2007-05-01 17:25:00</td>\n",
       "      <td>2.346</td>\n",
       "      <td>0.130</td>\n",
       "      <td>237.86</td>\n",
       "      <td>9.8</td>\n",
       "      <td>0.0</td>\n",
       "      <td>2.0</td>\n",
       "      <td>18.0</td>\n",
       "      <td>0.020</td>\n",
       "    </tr>\n",
       "  </tbody>\n",
       "</table>\n",
       "</div>"
      ],
      "text/plain": [
       "                DateTime  Global_active_power  Global_reactive_power  Voltage  \\\n",
       "2202 2007-02-01 12:41:00                0.374                  0.000   241.64   \n",
       "1049 2007-01-01 17:28:00                2.202                  0.254   239.02   \n",
       "3746 2007-03-01 14:25:00                1.350                  0.054   244.08   \n",
       "3210 2007-03-01 05:29:00                1.394                  0.130   241.82   \n",
       "6806 2007-05-01 17:25:00                2.346                  0.130   237.86   \n",
       "\n",
       "      Global_intensity  Sub_metering_1  Sub_metering_2  Sub_metering_3  \\\n",
       "2202               1.6             0.0             0.0             0.0   \n",
       "1049               9.2             0.0             1.0            18.0   \n",
       "3746               5.4             0.0             0.0            19.0   \n",
       "3210               5.8             0.0             0.0            18.0   \n",
       "6806               9.8             0.0             2.0            18.0   \n",
       "\n",
       "      Sub_Sum  \n",
       "2202    0.000  \n",
       "1049    0.019  \n",
       "3746    0.019  \n",
       "3210    0.018  \n",
       "6806    0.020  "
      ]
     },
     "execution_count": 188,
     "metadata": {},
     "output_type": "execute_result"
    }
   ],
   "source": [
    "df3[\"Sub_Sum\"] = round(df3[\"Sub_Sum\"] / (1000), 4)\n",
    "df3.head()"
   ]
  },
  {
   "cell_type": "code",
   "execution_count": 189,
   "metadata": {},
   "outputs": [
    {
     "name": "stdout",
     "output_type": "stream",
     "text": [
      "Intercept:    -0.004237278814383359\n",
      "Coefficient:  [0.00798723]\n"
     ]
    },
    {
     "data": {
      "text/plain": [
       "<matplotlib.legend.Legend at 0x10b967f0>"
      ]
     },
     "execution_count": 189,
     "metadata": {},
     "output_type": "execute_result"
    },
    {
     "data": {
      "image/png": "[encoded data removed]",
      "text/plain": [
       "<matplotlib.figure.Figure at 0x10ad0978>"
      ]
     },
     "metadata": {},
     "output_type": "display_data"
    }
   ],
   "source": [
    "# Initialize the model, and name it lr1\n",
    "lr1 = linear_model.LinearRegression()\n",
    "\n",
    "#input data is in the right format for the explanatory variable\n",
    "INPUT = np.array(df3['Global_active_power']).reshape(-1, 1)\n",
    "\n",
    "# Fit the data\n",
    "lr1.fit(X = INPUT,y = df3['Sub_Sum'])\n",
    "\n",
    "# Print intercept and coefficient\n",
    "print(\"Intercept:   \",lr1.intercept_)\n",
    "print(\"Coefficient: \",lr1.coef_)\n",
    "\n",
    "# Plot the data and the prediction\n",
    "plt.scatter(df3['Global_active_power'], df3['Sub_Sum'],  c=\"r\", alpha=0.5, label=\"Sum of all sub meters\")\n",
    "# Line of best fit. NB, doing this manually based on the parameters\n",
    "plt.plot(df3['Global_active_power'], [lr1.coef_*x +lr1.intercept_ for x in df3['Sub_Sum']], label=\"Global active power\") # We could also use lr1.predict(x), as in next example\n",
    "plt.suptitle(\"Simple Linear Regression\", fontsize = 18)\n",
    "plt.xlabel(\"Global_active_power\", fontsize=10)\n",
    "plt.ylabel(\"Sum of all sub meters\", fontsize=10)\n",
    "plt.legend()"
   ]
  },
  {
   "cell_type": "code",
   "execution_count": 190,
   "metadata": {},
   "outputs": [
    {
     "name": "stdout",
     "output_type": "stream",
     "text": [
      "Score with simple linear model:  0.48153897378552946\n",
      "Score with second input:         0.48153897378552946\n"
     ]
    }
   ],
   "source": [
    "# First, a simple linear regression model (one input var)\n",
    "INPUT = np.array(df3['Global_active_power']).reshape(-1, 1)\n",
    "slr = linear_model.LinearRegression()\n",
    "slr.fit(X = INPUT,y = df3['Sub_Sum'])\n",
    "print(\"Score with simple linear model: \", slr.score(INPUT, df3['Sub_Sum']))\n",
    "\n",
    "# Now the multiple regression model we developed above - two input vars\n",
    "INPUT = np.array(df3['Global_active_power']).reshape(-1, 1)\n",
    "mlr = linear_model.LinearRegression()\n",
    "mlr.fit(X = INPUT,y = df3['Sub_Sum'])\n",
    "print(\"Score with second input:        \",mlr.score(INPUT, df3['Sub_Sum']))"
   ]
  },
  {
   "cell_type": "code",
   "execution_count": 191,
   "metadata": {},
   "outputs": [
    {
     "name": "stdout",
     "output_type": "stream",
     "text": [
      "r-squared: 0.48153897378552857\n"
     ]
    }
   ],
   "source": [
    "slope, intercept, r_value, p_value, std_err = stats.linregress(df3['Global_active_power'], df3['Sub_Sum'])\n",
    "print(\"r-squared:\", r_value**2)"
   ]
  },
  {
   "cell_type": "markdown",
   "metadata": {},
   "source": [
    "#### Answer\n",
    "From the two Linear regression models we get the above answers.\n",
    "\n",
    "My prediction is not as accurate as I would like it to be (I think this is because the convertion of the units might not be correct). \n",
    "\n",
    "What is great though is that the sum of all the sub meters does track along the same line as the Global active power meter."
   ]
  },
  {
   "cell_type": "markdown",
   "metadata": {},
   "source": [
    "## Task 6 - Logistic Regression"
   ]
  },
  {
   "cell_type": "markdown",
   "metadata": {},
   "source": [
    "Use logistic regression to predict occasions when Sub_metering_1 is greater than Sub_metering_2 - in other words, when is the kitchen more in use then the laundry room? \n",
    "Tasks: \n",
    "- Add a column with a 1 when kitchen power is higher than laundry room (sub_metering_1>2) and a 0 when not. \n",
    "- Build a logistic regression model with this as the dependant variable. Use any variables as inputs.\n",
    "- How did your model score? Briefly comment with your thoughts. Do you think this is something one could feasibly predict from the available data?"
   ]
  },
  {
   "cell_type": "code",
   "execution_count": 282,
   "metadata": {
    "scrolled": false
   },
   "outputs": [
    {
     "data": {
      "application/vnd.jupyter.widget-view+json": {
       "model_id": "9fbf0072b51c4e9c9f8acf5ade38e37e",
       "version_major": 2,
       "version_minor": 0
      },
      "text/html": [
       "<p>Failed to display Jupyter Widget of type <code>interactive</code>.</p>\n",
       "<p>\n",
       "  If you're reading this message in the Jupyter Notebook or JupyterLab Notebook, it may mean\n",
       "  that the widgets JavaScript is still loading. If this message persists, it\n",
       "  likely means that the widgets JavaScript library is either not installed or\n",
       "  not enabled. See the <a href=\"https://ipywidgets.readthedocs.io/en/stable/user_install.html\">Jupyter\n",
       "  Widgets Documentation</a> for setup instructions.\n",
       "</p>\n",
       "<p>\n",
       "  If you're reading this message in another frontend (for example, a static\n",
       "  rendering on GitHub or <a href=\"https://nbviewer.jupyter.org/\">NBViewer</a>),\n",
       "  it may mean that your frontend doesn't currently support widgets.\n",
       "</p>\n"
      ],
      "text/plain": [
       "interactive(children=(FloatSlider(value=2.0, description='a', max=3.0, min=1.0), IntSlider(value=5, description='r', max=10, min=1), Output()), _dom_classes=('widget-interact',))"
      ]
     },
     "metadata": {},
     "output_type": "display_data"
    },
    {
     "data": {
      "text/plain": [
       "<function __main__.sig>"
      ]
     },
     "execution_count": 282,
     "metadata": {},
     "output_type": "execute_result"
    }
   ],
   "source": [
    "# Plot of sigmoid:\n",
    "def sig(a, r):\n",
    "    X = df3[\"Sub_metering_1\"]\n",
    "    Y = df3[\"Sub_metering_2\"]  \n",
    "    plt.plot(X, Y)\n",
    "# sig(1, 5)\n",
    "from ipywidgets import interact, fixed\n",
    "import ipywidgets as widgets\n",
    "interact(sig, a=(1, 3.0), r=(1, 10))"
   ]
  },
  {
   "cell_type": "code",
   "execution_count": 281,
   "metadata": {},
   "outputs": [
    {
     "ename": "ValueError",
     "evalue": "operands could not be broadcast together with shapes (58,1001) (58,) ",
     "output_type": "error",
     "traceback": [
      "\u001b[1;31m---------------------------------------------------------------------------\u001b[0m",
      "\u001b[1;31mValueError\u001b[0m                                Traceback (most recent call last)",
      "\u001b[1;32m<ipython-input-281-d9f506023412>\u001b[0m in \u001b[0;36m<module>\u001b[1;34m()\u001b[0m\n\u001b[0;32m     18\u001b[0m \u001b[1;32mdef\u001b[0m \u001b[0mmodel\u001b[0m\u001b[1;33m(\u001b[0m\u001b[0mx\u001b[0m\u001b[1;33m)\u001b[0m\u001b[1;33m:\u001b[0m\u001b[1;33m\u001b[0m\u001b[0m\n\u001b[0;32m     19\u001b[0m     \u001b[1;32mreturn\u001b[0m \u001b[1;36m1\u001b[0m \u001b[1;33m/\u001b[0m \u001b[1;33m(\u001b[0m\u001b[1;36m1\u001b[0m \u001b[1;33m+\u001b[0m \u001b[0mnp\u001b[0m\u001b[1;33m.\u001b[0m\u001b[0mexp\u001b[0m\u001b[1;33m(\u001b[0m\u001b[1;33m-\u001b[0m\u001b[0mx\u001b[0m\u001b[1;33m)\u001b[0m\u001b[1;33m)\u001b[0m\u001b[1;33m\u001b[0m\u001b[0m\n\u001b[1;32m---> 20\u001b[1;33m \u001b[0mloss\u001b[0m \u001b[1;33m=\u001b[0m \u001b[0mmodel\u001b[0m\u001b[1;33m(\u001b[0m\u001b[0mX_test\u001b[0m \u001b[1;33m*\u001b[0m \u001b[0mclf\u001b[0m\u001b[1;33m.\u001b[0m\u001b[0mcoef_\u001b[0m \u001b[1;33m+\u001b[0m \u001b[0mclf\u001b[0m\u001b[1;33m.\u001b[0m\u001b[0mintercept_\u001b[0m\u001b[1;33m)\u001b[0m\u001b[1;33m.\u001b[0m\u001b[0mravel\u001b[0m\u001b[1;33m(\u001b[0m\u001b[1;33m)\u001b[0m\u001b[1;33m\u001b[0m\u001b[0m\n\u001b[0m\u001b[0;32m     21\u001b[0m \u001b[0mplt\u001b[0m\u001b[1;33m.\u001b[0m\u001b[0mplot\u001b[0m\u001b[1;33m(\u001b[0m\u001b[0mX_test\u001b[0m\u001b[1;33m,\u001b[0m \u001b[0mloss\u001b[0m\u001b[1;33m,\u001b[0m \u001b[0mcolor\u001b[0m\u001b[1;33m=\u001b[0m\u001b[1;34m'red'\u001b[0m\u001b[1;33m,\u001b[0m \u001b[0mlinewidth\u001b[0m\u001b[1;33m=\u001b[0m\u001b[1;36m3\u001b[0m\u001b[1;33m)\u001b[0m\u001b[1;33m\u001b[0m\u001b[0m\n\u001b[0;32m     22\u001b[0m \u001b[1;33m\u001b[0m\u001b[0m\n",
      "\u001b[1;31mValueError\u001b[0m: operands could not be broadcast together with shapes (58,1001) (58,) "
     ]
    },
    {
     "data": {
      "image/png": "[encoded data removed]",
      "text/plain": [
       "<matplotlib.figure.Figure at 0x10ba98d0>"
      ]
     },
     "metadata": {},
     "output_type": "display_data"
    }
   ],
   "source": [
    "from sklearn import linear_model\n",
    "\n",
    "X = df3[\"Sub_metering_1\"]\n",
    "y = df3[\"Sub_metering_2\"]\n",
    "\n",
    "X = X[:, np.newaxis]\n",
    "# run the classifier\n",
    "clf = linear_model.LogisticRegression(C=1e5)\n",
    "clf.fit(X, y)\n",
    "\n",
    "# and plot the result\n",
    "plt.figure(1, figsize=(4, 3))\n",
    "plt.clf()\n",
    "plt.scatter(X.ravel(), y, color='black', zorder=20)\n",
    "X_test = np.linspace(0, 1, 1001)\n",
    "\n",
    "\n",
    "def model(x):\n",
    "    return 1 / (1 + np.exp(-x))\n",
    "loss = model(X_test * clf.coef_ + clf.intercept_).ravel()\n",
    "plt.plot(X_test, loss, color='red', linewidth=3)\n",
    "\n",
    "ols = linear_model.LinearRegression()\n",
    "ols.fit(X, y)\n",
    "plt.plot(X_test, ols.coef_ * X_test + ols.intercept_, linewidth=1)\n",
    "plt.axhline(.5, color='.5')\n",
    "\n",
    "plt.ylabel('y')\n",
    "plt.xlabel('X')\n",
    "plt.xticks(range(0, 10000))\n",
    "plt.yticks([0, 0.5, 1])\n",
    "plt.ylim(-.25, 1.25)\n",
    "plt.xlim(-4, 10)\n",
    "plt.legend(('Logistic Regression Model', 'Linear Regression Model'),\n",
    "           loc=\"lower right\", fontsize='small')\n",
    "plt.show()"
   ]
  },
  {
   "cell_type": "code",
   "execution_count": null,
   "metadata": {},
   "outputs": [],
   "source": []
  },
  {
   "cell_type": "code",
   "execution_count": null,
   "metadata": {},
   "outputs": [],
   "source": []
  },
  {
   "cell_type": "code",
   "execution_count": null,
   "metadata": {},
   "outputs": [],
   "source": []
  },
  {
   "cell_type": "markdown",
   "metadata": {},
   "source": [
    "## Task 7 - Visualizations and conclusions"
   ]
  },
  {
   "cell_type": "markdown",
   "metadata": {},
   "source": [
    "Well done! You're almost through. Now for some final easy points, pick three of the following questions and create a visualization and some text to answer the question:\n",
    "- What time of day is the kitchen used?\n",
    "- Does the weekly power consumption remain constant?\n",
    "- Which sub-metering zone used the most power?\n",
    "- How did power use in the different zones change over time?\n",
    "- How did the two small subsamples you created in the beginning (1000 rows each) differ?"
   ]
  },
  {
   "cell_type": "markdown",
   "metadata": {},
   "source": [
    "#### Answering: What time of day is the kitchen used?\n",
    "\n",
    "From the documentation we know that Sub meter 1 monitors the Kitchen."
   ]
  },
  {
   "cell_type": "code",
   "execution_count": 277,
   "metadata": {},
   "outputs": [
    {
     "data": {
      "text/plain": [
       "Text(0,0.5,'Energy used')"
      ]
     },
     "execution_count": 277,
     "metadata": {},
     "output_type": "execute_result"
    },
    {
     "data": {
      "image/png": "[encoded data removed]",
      "text/plain": [
       "<matplotlib.figure.Figure at 0x23dd3f98>"
      ]
     },
     "metadata": {},
     "output_type": "display_data"
    }
   ],
   "source": [
    "df.index = df[\"DateTime\"]\n",
    "days = df.loc['2007-01-15 00:01:00':'2007-01-15 23:00:00']\n",
    "dayg = df.loc['2007-01-15 00:01:00':'2007-01-15 23:00:00']\n",
    "axis = days.resample('1H').mean().reset_index().plot(y='Sub_metering_1', figsize=(12, 6))\n",
    "dayg.resample('1H').mean().reset_index().plot(y='Global_active_power', figsize=(12, 6), ax=axis)\n",
    "plt.title(\" Global meter vs. Sub meter 1\", fontsize = 18)\n",
    "plt.xlabel('Hours', fontsize=10)\n",
    "plt.ylabel('Energy used', fontsize=10)"
   ]
  },
  {
   "cell_type": "markdown",
   "metadata": {},
   "source": [
    "Comparing Sub meter 1to the Global power meter we can see that the meter / kitchen is not in use the entire day."
   ]
  },
  {
   "cell_type": "markdown",
   "metadata": {},
   "source": [
    "#### Answering: Does the weekly power consumption remain constant?\n",
    "\n",
    "I used the Global active power meter to determine this."
   ]
  },
  {
   "cell_type": "code",
   "execution_count": 280,
   "metadata": {},
   "outputs": [
    {
     "data": {
      "text/plain": [
       "Text(0,0.5,'Energy used')"
      ]
     },
     "execution_count": 280,
     "metadata": {},
     "output_type": "execute_result"
    },
    {
     "data": {
      "image/png": "[encoded data removed]",
      "text/plain": [
       "<matplotlib.figure.Figure at 0x2272a9b0>"
      ]
     },
     "metadata": {},
     "output_type": "display_data"
    }
   ],
   "source": [
    "df.index = df[\"DateTime\"]\n",
    "week1 = df.loc['2007-01-15 01:00:00':'2007-01-21 01:00:00']\n",
    "week2 = df.loc['2007-01-22 01:00:00':'2007-01-28 01:00:00']\n",
    "axis = week1.resample('1H').mean().reset_index().plot(y='Global_active_power', figsize=(12, 6))\n",
    "week2.resample('1H').mean().reset_index().plot(y='Global_active_power', figsize=(12, 6), ax=axis)\n",
    "plt.title(\" Week 1 vs. Week 2 in January\", fontsize = 18)\n",
    "plt.xlabel('Days', fontsize=10)\n",
    "plt.ylabel('Energy used', fontsize=10)"
   ]
  },
  {
   "cell_type": "markdown",
   "metadata": {},
   "source": [
    "Comparing these two weeks' worth of data to each other we can assume that the energy used by the house is the same. "
   ]
  },
  {
   "cell_type": "markdown",
   "metadata": {},
   "source": [
    "#### Answering: Which sub-metering zone used the most power?\n",
    "\n",
    "Here I used the entire data set to determine this."
   ]
  },
  {
   "cell_type": "code",
   "execution_count": 229,
   "metadata": {},
   "outputs": [
    {
     "data": {
      "text/plain": [
       "<matplotlib.axes._subplots.AxesSubplot at 0x24165748>"
      ]
     },
     "execution_count": 229,
     "metadata": {},
     "output_type": "execute_result"
    },
    {
     "data": {
      "image/png": "[encoded data removed]",
      "text/plain": [
       "<matplotlib.figure.Figure at 0x23f2cd68>"
      ]
     },
     "metadata": {},
     "output_type": "display_data"
    }
   ],
   "source": [
    "f, axes = plt.subplots(2, 2, figsize=(7, 7), sharex=True)\n",
    "sns.distplot( df3[\"Global_active_power\"] , color=\"skyblue\", ax=axes[0, 0])\n",
    "sns.distplot( df3[\"Sub_metering_1\"] , color=\"skyblue\", ax=axes[0, 1])\n",
    "sns.distplot( df3[\"Sub_metering_2\"] , color=\"olive\", ax=axes[1, 0])\n",
    "sns.distplot( df3[\"Sub_metering_3\"] , color=\"gold\", ax=axes[1, 1])"
   ]
  },
  {
   "cell_type": "code",
   "execution_count": 228,
   "metadata": {},
   "outputs": [
    {
     "name": "stdout",
     "output_type": "stream",
     "text": [
      "Total energy consumption on Sub meter 1: 5857.0\n",
      "Total energy consumption on Sub meter 2: 17525.0\n",
      "Total energy consumption on Sub meter 3: 52749.0\n"
     ]
    }
   ],
   "source": [
    "Sub1_total = df3[\"Sub_metering_1\"].sum()\n",
    "print(\"Total energy consumption on Sub meter 1:\", Sub1_total)\n",
    "Sub2_total = df3[\"Sub_metering_2\"].sum()\n",
    "print(\"Total energy consumption on Sub meter 2:\", Sub2_total)\n",
    "Sub3_total = df3[\"Sub_metering_3\"].sum()\n",
    "print(\"Total energy consumption on Sub meter 3:\", Sub3_total)"
   ]
  },
  {
   "cell_type": "markdown",
   "metadata": {},
   "source": [
    "Looking at the histogram graphs and have read the documentation of what appliances are connected to the meters, I would assume that Sub meter 3 would have the highest draw. To confirm this is calculated the energy consumption of the three different zones where Sub meter 3 had the highest energy consumption. Referring to the documentation and own personal experience the water-heater and air-conditioner do consume and need to either keep water hot all day long or rooms cold / warm for part of a day. "
   ]
  }
 ],
 "metadata": {
  "kernelspec": {
   "display_name": "Python 3",
   "language": "python",
   "name": "python3"
  },
  "language_info": {
   "codemirror_mode": {
    "name": "ipython",
    "version": 3
   },
   "file_extension": ".py",
   "mimetype": "text/x-python",
   "name": "python",
   "nbconvert_exporter": "python",
   "pygments_lexer": "ipython3",
   "version": "3.6.4"
  }
 },
 "nbformat": 4,
 "nbformat_minor": 2
}
